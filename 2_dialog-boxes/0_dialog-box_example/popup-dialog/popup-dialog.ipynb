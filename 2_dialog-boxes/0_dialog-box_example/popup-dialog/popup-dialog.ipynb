{
 "cells": [
  {
   "cell_type": "markdown",
   "id": "7a7ce88f-523e-4a34-9b10-2544dc322543",
   "metadata": {},
   "source": [
    "### How to display Markdown content in a popup dialog in a Python script using ipywidgets in a Jupyter Notebook\n",
    "\n",
    "###### https://discourse.jupyter.org/t/how-to-display-markdown-content-in-a-popup-dialog-in-a-python-script-using-ipywidgets-in-a-jupyter-notebook/22230/1"
   ]
  },
  {
   "cell_type": "code",
   "execution_count": 2,
   "id": "f917777a-1df8-4db9-b991-6dca08f840e2",
   "metadata": {},
   "outputs": [
    {
     "data": {
      "application/vnd.jupyter.widget-view+json": {
       "model_id": "30ef33655c0a4245b5c0d27330bddd1d",
       "version_major": 2,
       "version_minor": 0
      },
      "text/plain": [
       "Button(description='Help', layout=Layout(margin='0 0 0 20px ', width='100px'), style=ButtonStyle())"
      ]
     },
     "metadata": {},
     "output_type": "display_data"
    }
   ],
   "source": [
    "import pandas as pd\n",
    "import markdown\n",
    "\n",
    "from ipywidgets import widgets, Dropdown\n",
    "from ipywidgets import interactive, Layout\n",
    "from IPython.display import display, HTML, Javascript\n",
    "\n",
    "# Create a button widget\n",
    "button = widgets.Button(description=\"Help\", layout={\"width\": \"100px\", \"margin\": \"0 0 0 20px \"})\n",
    "\n",
    "# Define a function to display the help page in a pop-up frame\n",
    "def display_help(button):\n",
    "    with open(\"help_guide.md\", \"r\") as f:\n",
    "        help_markdown = f.read()\n",
    "\n",
    "        # Convert Markdown to HTML with table of contents\n",
    "        help_html = markdown.markdown(help_markdown, extensions=['extra', 'toc'])\n",
    "\n",
    "        # Create HTML content for the modal\n",
    "        modal_content = f\"\"\"\n",
    "        <div id=\"helpModal\" style=\"position: fixed; z-index: 1; left: 0; top: 0; width: 100%; height: 100%; background-color: rgba(255, 255, 255, 0); display: none;\">\n",
    "            <div style=\"position: relative; margin: 10% auto; padding: 20px; width: 70%; background-color: #fff; border-radius: 10px; box-shadow: 0 4px 8px 0 rgba(0,0,0,0);\">\n",
    "                <h2>Help</h2>\n",
    "                <div style=\"text-align: left; overflow-y: scroll; max-height: 400px;\">\n",
    "                    {help_html}\n",
    "                </div>\n",
    "                <button onclick=\"closeModal()\" style=\"background-color: #4CAF50; color: white; padding: 10px 20px; border: none; border-radius: 5px; cursor: pointer;\">Close</button>\n",
    "            </div>\n",
    "        </div>\n",
    "        <script>\n",
    "            function openModal() {{\n",
    "                document.getElementById('helpModal').style.display = 'block';\n",
    "            }}\n",
    "            function closeModal() {{\n",
    "                document.getElementById('helpModal').style.display = 'none';\n",
    "            }}\n",
    "            openModal();\n",
    "        </script>\n",
    "        \"\"\"\n",
    "\n",
    "        # Display the HTML content\n",
    "        display(HTML(modal_content))\n",
    "\n",
    "# Bind the button click event to the display_help() function\n",
    "button.on_click(display_help)\n",
    "\n",
    "# Display the button widget\n",
    "display(button)"
   ]
  },
  {
   "cell_type": "code",
   "execution_count": null,
   "id": "c96598cf-2c40-48ba-b195-bde6c7aae34c",
   "metadata": {},
   "outputs": [],
   "source": []
  }
 ],
 "metadata": {
  "kernelspec": {
   "display_name": "Python 3 (ipykernel)",
   "language": "python",
   "name": "python3"
  },
  "language_info": {
   "codemirror_mode": {
    "name": "ipython",
    "version": 3
   },
   "file_extension": ".py",
   "mimetype": "text/x-python",
   "name": "python",
   "nbconvert_exporter": "python",
   "pygments_lexer": "ipython3",
   "version": "3.12.4"
  },
  "widgets": {
   "application/vnd.jupyter.widget-state+json": {
    "state": {},
    "version_major": 2,
    "version_minor": 0
   }
  }
 },
 "nbformat": 4,
 "nbformat_minor": 5
}
