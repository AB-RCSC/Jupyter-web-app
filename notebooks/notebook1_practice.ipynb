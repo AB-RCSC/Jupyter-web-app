{
 "cells": [
  {
   "cell_type": "code",
   "execution_count": 1,
   "id": "c2697664",
   "metadata": {},
   "outputs": [],
   "source": [
    "# !jupyter nbextension enable --py widgetsnbextension --sys-prefix"
   ]
  },
  {
   "cell_type": "code",
   "execution_count": 2,
   "id": "9620c4d3",
   "metadata": {},
   "outputs": [],
   "source": [
    "# !jupyter serverextension enable voila --sys-prefix"
   ]
  },
  {
   "cell_type": "code",
   "execution_count": 8,
   "id": "d590fe3b",
   "metadata": {},
   "outputs": [],
   "source": [
    "# pip install openpyxl"
   ]
  },
  {
   "cell_type": "code",
   "execution_count": 1,
   "id": "076f4536",
   "metadata": {},
   "outputs": [],
   "source": [
    "import json\n",
    "import pandas as pd\n",
    "import ipywidgets as widgets\n",
    "from markdown_it import MarkdownIt\n",
    "from IPython.display import display, Javascript, Markdown, clear_output, HTML"
   ]
  },
  {
   "cell_type": "code",
   "execution_count": null,
   "id": "4f747af6",
   "metadata": {},
   "outputs": [],
   "source": []
  },
  {
   "cell_type": "code",
   "execution_count": null,
   "id": "2fb0af35",
   "metadata": {},
   "outputs": [],
   "source": []
  },
  {
   "cell_type": "code",
   "execution_count": null,
   "id": "50e1e069",
   "metadata": {},
   "outputs": [],
   "source": []
  },
  {
   "cell_type": "code",
   "execution_count": 7,
   "id": "151e7b90",
   "metadata": {},
   "outputs": [],
   "source": [
    "# Read the CSV file into a DataFrame\n",
    "df = pd.read_csv('new_format.csv')"
   ]
  },
  {
   "cell_type": "code",
   "execution_count": 8,
   "id": "fdbae25f",
   "metadata": {},
   "outputs": [],
   "source": [
    "ques_code = \"user_entry\"\n",
    "logic = df.loc[df['question_code'] == ques_code, 'combined_code'].iloc[0]\n",
    "# logic = df.iat[0,4]"
   ]
  },
  {
   "cell_type": "code",
   "execution_count": 9,
   "id": "6a5d1d00",
   "metadata": {},
   "outputs": [
    {
     "data": {
      "text/plain": [
       "'{\\n    \"OR\": {\\n        \"objective\": [\\n            \"obj_divers_rich\",\\n            \"obj_rel_abund\",\\n            \"obj_behaviour\"\\n        ]\\n    }\\n}'"
      ]
     },
     "execution_count": 9,
     "metadata": {},
     "output_type": "execute_result"
    }
   ],
   "source": [
    "logic"
   ]
  },
  {
   "cell_type": "code",
   "execution_count": 10,
   "id": "e0504582",
   "metadata": {},
   "outputs": [],
   "source": [
    "json_data = json.loads(logic)"
   ]
  },
  {
   "cell_type": "code",
   "execution_count": 29,
   "id": "d829ce8f",
   "metadata": {},
   "outputs": [
    {
     "data": {
      "text/plain": [
       "['obj_divers_rich', 'obj_rel_abund', 'obj_behaviour']"
      ]
     },
     "execution_count": 29,
     "metadata": {},
     "output_type": "execute_result"
    }
   ],
   "source": [
    "# json_data[\"OR\"][\"objective\"]"
   ]
  },
  {
   "cell_type": "code",
   "execution_count": 24,
   "id": "134a6a7f",
   "metadata": {},
   "outputs": [
    {
     "name": "stdout",
     "output_type": "stream",
     "text": [
      "objective\n"
     ]
    }
   ],
   "source": [
    "for key in json_data:\n",
    "    if key == \"OR\":\n",
    "        for nested_key in json_data[\"OR\"]:\n",
    "            print(nested_key)\n",
    "    elif key == \"AND\":\n",
    "        for nested_key in json_data[\"AND\"]:\n",
    "            print(nested_key) \n",
    "#     print(key)"
   ]
  },
  {
   "cell_type": "code",
   "execution_count": null,
   "id": "ca29e4d1",
   "metadata": {},
   "outputs": [],
   "source": []
  },
  {
   "cell_type": "code",
   "execution_count": null,
   "id": "99a20410",
   "metadata": {},
   "outputs": [],
   "source": []
  },
  {
   "cell_type": "code",
   "execution_count": null,
   "id": "3403b6f2",
   "metadata": {},
   "outputs": [],
   "source": []
  },
  {
   "cell_type": "code",
   "execution_count": 2,
   "id": "9b04b861",
   "metadata": {},
   "outputs": [],
   "source": [
    "# Image Widget\n",
    "\n",
    "file = open(\"../logo.png\", \"rb\")\n",
    "image = file.read()\n",
    "\n",
    "image_headline = widgets.Image(\n",
    "                    value=image,\n",
    "                    format='jpg',\n",
    "                    width='200'\n",
    "                )\n",
    "\n",
    "label_headline = widgets.Label(\n",
    "                    value='',\n",
    "                    style={'description_width': 'initial'}\n",
    "                )\n",
    "\n",
    "vbox_headline = widgets.VBox([image_headline, label_headline])"
   ]
  },
  {
   "cell_type": "code",
   "execution_count": 3,
   "id": "0e86f940",
   "metadata": {},
   "outputs": [],
   "source": [
    "global stored_choices, path\n",
    "stored_choices = {}\n",
    "path = \"../temp_storage.json\"\n",
    "img_path = \"../logo.png\""
   ]
  },
  {
   "cell_type": "code",
   "execution_count": 4,
   "id": "7f2ed878",
   "metadata": {},
   "outputs": [],
   "source": [
    "# Read the CSV file into a DataFrame\n",
    "df = pd.read_csv('../questionsFormatting.csv')"
   ]
  },
  {
   "cell_type": "code",
   "execution_count": 5,
   "id": "7174041c",
   "metadata": {},
   "outputs": [],
   "source": [
    "# Testing automated link assigning [start]------------------------------------------>>>>\n",
    "def split_and_trim(s):\n",
    "    return [item.strip() for item in s.split(',')]"
   ]
  },
  {
   "cell_type": "code",
   "execution_count": 6,
   "id": "67454640",
   "metadata": {},
   "outputs": [],
   "source": [
    "ques_code = \"user_entry\"\n",
    "opt_codes = df.loc[df['question_code'] == ques_code, 'q_option_code'].iloc[0]\n",
    "opt_codes = split_and_trim(opt_codes) # seperates the string based on ',' also removes the whitespace after comma & makes a list\n",
    "combined_code_list = []"
   ]
  },
  {
   "cell_type": "code",
   "execution_count": 7,
   "id": "554de8e1",
   "metadata": {},
   "outputs": [],
   "source": [
    "# opt_codes"
   ]
  },
  {
   "cell_type": "code",
   "execution_count": 8,
   "id": "0dfd5e11",
   "metadata": {},
   "outputs": [],
   "source": [
    "for code in opt_codes:\n",
    "    combined_code = ques_code + '_' + code\n",
    "    combined_code_list.append(combined_code)"
   ]
  },
  {
   "cell_type": "code",
   "execution_count": 9,
   "id": "53d39128",
   "metadata": {},
   "outputs": [],
   "source": [
    "# print (combined_code_list)"
   ]
  },
  {
   "cell_type": "code",
   "execution_count": 10,
   "id": "9e97b323",
   "metadata": {},
   "outputs": [],
   "source": [
    "# next_ques_list = []"
   ]
  },
  {
   "cell_type": "code",
   "execution_count": 11,
   "id": "aa9a751e",
   "metadata": {},
   "outputs": [],
   "source": [
    "# for combo_code in combined_code_list:\n",
    "#     next_ques = df.loc[df['combined_code'] == combo_code, 'next_question'].iloc[0]\n",
    "#     next_ques_list.append(next_ques)"
   ]
  },
  {
   "cell_type": "code",
   "execution_count": 12,
   "id": "167d0269",
   "metadata": {},
   "outputs": [],
   "source": [
    "# next_ques_list\n",
    "# Testing automated link assigning [end]------------------------------------------>>>>"
   ]
  },
  {
   "cell_type": "code",
   "execution_count": 13,
   "id": "07db2fbc",
   "metadata": {},
   "outputs": [],
   "source": [
    "# gets the question based on value of other (methods) column\n",
    "ques = df.loc[df['question_code'] == 'user_entry', 'question_text'].iloc[0]\n",
    "opt = df.loc[df['question_code'] == 'user_entry', 'q_option_label'].iloc[0]\n",
    "# opt = opt.replace('[', '').replace(']', '').replace('\"', '') # for format ([\"\",\"\"])\n",
    "opt = split_and_trim(opt) # seperates the string based on ',' also removes the whitespace after comma & makes a list"
   ]
  },
  {
   "cell_type": "code",
   "execution_count": 14,
   "id": "30d3c484",
   "metadata": {},
   "outputs": [],
   "source": [
    "# opt"
   ]
  },
  {
   "cell_type": "code",
   "execution_count": 15,
   "id": "5ea7a2e9",
   "metadata": {},
   "outputs": [],
   "source": [
    "# index = opt.index(\"Analyze data that was already collected\")\n",
    "# index"
   ]
  },
  {
   "cell_type": "code",
   "execution_count": 16,
   "id": "231d60ae",
   "metadata": {},
   "outputs": [],
   "source": [
    "# # Read the JSON file\n",
    "# with open('../data.json', 'r') as file:\n",
    "#     data = json.load(file)"
   ]
  },
  {
   "cell_type": "code",
   "execution_count": 17,
   "id": "c4a7dbe3",
   "metadata": {},
   "outputs": [],
   "source": [
    "# # Access the question and options\n",
    "# question = data['question1']\n",
    "# options = data['options1']"
   ]
  },
  {
   "cell_type": "code",
   "execution_count": 18,
   "id": "aa93752b",
   "metadata": {},
   "outputs": [],
   "source": [
    "# # Question 1----------------\n",
    "# question1 = \"What is the capital of France?\"\n",
    "# options1 = [\"Paris\", \"London\", \"Berlin\", \"Rome\"]"
   ]
  },
  {
   "cell_type": "code",
   "execution_count": 19,
   "id": "091899f4",
   "metadata": {},
   "outputs": [],
   "source": [
    "# Display question and options as widgets-------\n",
    "question_widget1 = widgets.HTML(value=f\"<h3>{ques}</h3>\")\n",
    "# question_widget1.style.background = 'lightblue'\n",
    "options_widget1 = widgets.RadioButtons(options=opt, value = None, layout={'width': 'max-content'})"
   ]
  },
  {
   "cell_type": "code",
   "execution_count": 20,
   "id": "009bc876",
   "metadata": {},
   "outputs": [],
   "source": [
    "# Create a button for submitting the question\n",
    "submit_button = widgets.Button(description=\"Submit\")"
   ]
  },
  {
   "cell_type": "code",
   "execution_count": 21,
   "id": "c181258f",
   "metadata": {},
   "outputs": [],
   "source": [
    "# Create a button for skipping the question\n",
    "skip_button = widgets.Button(description=\"Skip\")"
   ]
  },
  {
   "cell_type": "code",
   "execution_count": 22,
   "id": "747df9a0",
   "metadata": {},
   "outputs": [],
   "source": [
    "output = widgets.Output()\n",
    "def on_button_clicked(event):\n",
    "    with output:\n",
    "        clear_output()\n",
    "        global selected_option1\n",
    "        \n",
    "        link = \"Submit your answer for next question\"\n",
    "        selected_option1 = options_widget1.value\n",
    "        \n",
    "        index = opt.index(selected_option1)\n",
    "        next_combo_code = combined_code_list[index]\n",
    "        \n",
    "        notebook_filename = df.loc[df['combined_code'] == next_combo_code, 'next_question'].iloc[0]\n",
    "        notebook_filename = notebook_filename + '.ipynb'\n",
    "        link = Markdown('''<a href=\"{}\" target=\"_self\" rel=\"noopener noreferrer\">Next</a>'''.format(notebook_filename))\n",
    "            \n",
    "        stored_choices[\"answer1\"] = selected_option1\n",
    "        with open(path, \"w\") as f:\n",
    "            json.dump(stored_choices, f)\n",
    "#         %store stored_choices\n",
    "        display(link)\n",
    "\n",
    "submit_button.on_click(on_button_clicked)\n",
    "# vbox_result = widgets.VBox([question_widget1, options_widget1, submit_button, output, choice])"
   ]
  },
  {
   "cell_type": "code",
   "execution_count": 23,
   "id": "a3421499",
   "metadata": {},
   "outputs": [],
   "source": [
    "output = widgets.Output()\n",
    "def on_skip_button_clicked(event):\n",
    "    with output:\n",
    "        clear_output()\n",
    "        link = Markdown('''<a href=\"https://voila.readthedocs.io/en/stable/deploy.html\" target=\"_self\"> \n",
    "                                    Next \n",
    "                            </a>''')\n",
    "        display(link)\n",
    "#         i += 1\n",
    "#         one_for_all()\n",
    "\n",
    "skip_button.on_click(on_skip_button_clicked)\n",
    "# vbox_result = widgets.VBox([question_widget1, options_widget1, submit_button, output, choice])"
   ]
  },
  {
   "cell_type": "code",
   "execution_count": 24,
   "id": "a448edb4",
   "metadata": {},
   "outputs": [],
   "source": [
    "# display(vbox_result)"
   ]
  },
  {
   "cell_type": "code",
   "execution_count": 25,
   "id": "50740d73",
   "metadata": {
    "scrolled": true
   },
   "outputs": [
    {
     "data": {
      "application/vnd.jupyter.widget-view+json": {
       "model_id": "0a794b0dded74c35a6e751e15c274246",
       "version_major": 2,
       "version_minor": 0
      },
      "text/plain": [
       "VBox(children=(Image(value=b'\\x89PNG\\r\\n\\x1a\\n\\x00\\x00\\x00\\rIHDR\\x00\\x00\\x01\\xfb\\x00\\x00\\x01|\\x08\\x06\\x00\\x00\\…"
      ]
     },
     "metadata": {},
     "output_type": "display_data"
    },
    {
     "data": {
      "application/vnd.jupyter.widget-view+json": {
       "model_id": "443b88b6120045879254f04f293f7c71",
       "version_major": 2,
       "version_minor": 0
      },
      "text/plain": [
       "VBox(children=(HTML(value='<h3>Are you looking to design a new remote camera project, or analyze data that was…"
      ]
     },
     "metadata": {},
     "output_type": "display_data"
    },
    {
     "data": {
      "application/vnd.jupyter.widget-view+json": {
       "model_id": "f4b01f3edb0d4216b71b92d0e8a673e9",
       "version_major": 2,
       "version_minor": 0
      },
      "text/plain": [
       "HBox(children=(Button(description='Submit', style=ButtonStyle()), Button(description='Skip', style=ButtonStyle…"
      ]
     },
     "metadata": {},
     "output_type": "display_data"
    }
   ],
   "source": [
    "# Apply center alignment using CSS styling to the container\n",
    "container = widgets.VBox(children=[question_widget1, options_widget1, output], layout=widgets.Layout(\n",
    "    align_items='center'  # Center align vertically\n",
    "#     justify_content='center',  # Center align horizontally\n",
    "#     height='100vh'  # Set height to 100% of viewport height for vertical centering\n",
    "))\n",
    "button_container = widgets.HBox(children=[submit_button, skip_button], layout=widgets.Layout(\n",
    "#     align_items='center'  # Center align vertically\n",
    "    justify_content='center',  # Center align horizontally\n",
    "#     height='100vh'  # Set height to 100% of viewport height for vertical centering\n",
    "))\n",
    "# Display the container\n",
    "display(vbox_headline)\n",
    "display(container)\n",
    "display(button_container)"
   ]
  },
  {
   "cell_type": "code",
   "execution_count": null,
   "id": "6fe4d0dd",
   "metadata": {},
   "outputs": [],
   "source": [
    "# list1 = [1,2,3,4]"
   ]
  },
  {
   "cell_type": "code",
   "execution_count": 26,
   "id": "d2b39f78",
   "metadata": {},
   "outputs": [],
   "source": [
    "# def one_for_all():\n",
    "#     for i in range(3):\n",
    "#         display(button_container)"
   ]
  },
  {
   "cell_type": "code",
   "execution_count": 27,
   "id": "4288c344",
   "metadata": {},
   "outputs": [
    {
     "data": {
      "application/vnd.jupyter.widget-view+json": {
       "model_id": "f4b01f3edb0d4216b71b92d0e8a673e9",
       "version_major": 2,
       "version_minor": 0
      },
      "text/plain": [
       "HBox(children=(Button(description='Submit', style=ButtonStyle()), Button(description='Skip', style=ButtonStyle…"
      ]
     },
     "metadata": {},
     "output_type": "display_data"
    },
    {
     "data": {
      "application/vnd.jupyter.widget-view+json": {
       "model_id": "f4b01f3edb0d4216b71b92d0e8a673e9",
       "version_major": 2,
       "version_minor": 0
      },
      "text/plain": [
       "HBox(children=(Button(description='Submit', style=ButtonStyle()), Button(description='Skip', style=ButtonStyle…"
      ]
     },
     "metadata": {},
     "output_type": "display_data"
    },
    {
     "data": {
      "application/vnd.jupyter.widget-view+json": {
       "model_id": "f4b01f3edb0d4216b71b92d0e8a673e9",
       "version_major": 2,
       "version_minor": 0
      },
      "text/plain": [
       "HBox(children=(Button(description='Submit', style=ButtonStyle()), Button(description='Skip', style=ButtonStyle…"
      ]
     },
     "metadata": {},
     "output_type": "display_data"
    }
   ],
   "source": [
    "# one_for_all()"
   ]
  },
  {
   "cell_type": "code",
   "execution_count": 59,
   "id": "eb51fb99",
   "metadata": {},
   "outputs": [],
   "source": [
    "# # Read the CSV file into a DataFrame\n",
    "# df = pd.read_csv('../questionsFormatting.csv')\n",
    "# new_df=df.copy()"
   ]
  },
  {
   "cell_type": "code",
   "execution_count": 60,
   "id": "42c07b2e",
   "metadata": {},
   "outputs": [],
   "source": [
    "# # Function to combine words from columns A and B\n",
    "# def combine_words(row):\n",
    "#     a_word = str(row['question_code'])\n",
    "#     b_words = str(row['q_option_code']).split(\", \")\n",
    "# #     b_words = [item.strip() for item in b_words.split(',')]\n",
    "#     combined_words = [a_word + '_' + b_word for b_word in b_words]\n",
    "#     return combined_words\n",
    "\n",
    "# new_df['combined_code'] = df.apply(combine_words, axis=1)\n",
    "# new_df = new_df.explode('combined_code').reset_index(drop=True)"
   ]
  },
  {
   "cell_type": "code",
   "execution_count": 61,
   "id": "3ed8da1d",
   "metadata": {},
   "outputs": [],
   "source": [
    "# # Extract column 'B' from df1\n",
    "# column_b = new_df['combined_code']\n",
    "\n",
    "# # Add the extracted column to df2\n",
    "# df['combined_code'] = column_b"
   ]
  },
  {
   "cell_type": "code",
   "execution_count": 62,
   "id": "ba5dfaae",
   "metadata": {},
   "outputs": [],
   "source": [
    "# # Save the DataFrame to a CSV file\n",
    "# df.to_csv('new_format.csv', index=False)"
   ]
  },
  {
   "cell_type": "code",
   "execution_count": 63,
   "id": "5719d2cc",
   "metadata": {},
   "outputs": [],
   "source": [
    "# import pandas as pd\n",
    "\n",
    "# # Sample DataFrame\n",
    "# data = {\n",
    "#     'A': ['word1', 'word2', 'word3'],\n",
    "#     'B': ['multiple, words, in, row, one', 'another, set, of, words', 'yet, another, set, of, words']\n",
    "# }\n",
    "\n",
    "# # Create DataFrame\n",
    "# df = pd.DataFrame(data)\n",
    "\n",
    "# # Function to combine words from columns A and B\n",
    "# def combine_words(row):\n",
    "#     a_word = row['A']\n",
    "#     b_words = row['B'].split(\", \")\n",
    "#     combined_words = [a_word + '_' + b_word for b_word in b_words]\n",
    "#     return combined_words\n",
    "\n",
    "# # Apply the function to each row and explode the list into separate rows\n",
    "# df['C'] = df.apply(combine_words, axis=1)\n",
    "# df = df.explode('C').reset_index(drop=True)\n",
    "\n",
    "# # Display the resulting DataFrame\n",
    "# print(df)\n"
   ]
  },
  {
   "cell_type": "code",
   "execution_count": 64,
   "id": "461aa5bc",
   "metadata": {},
   "outputs": [],
   "source": [
    "# import pandas as pd\n",
    "\n",
    "# # Sample DataFrames\n",
    "# df1 = pd.DataFrame({\n",
    "#     'A': [1, 2, 3],\n",
    "#     'B': ['a', 'b', 'c'],\n",
    "#     'C': [4.0, 5.5, 6.1]\n",
    "# })\n",
    "\n",
    "# df2 = pd.DataFrame({\n",
    "#     'X': [10, 20, 30],\n",
    "#     'Y': ['x', 'y', 'z']\n",
    "# })\n",
    "\n",
    "# # Extract column 'B' from df1\n",
    "# column_b = df1['B']\n",
    "\n",
    "# # Add the extracted column to df2\n",
    "# df2['B'] = column_b\n",
    "\n",
    "# # Display the resulting DataFrame\n",
    "# print(df2)\n"
   ]
  },
  {
   "cell_type": "code",
   "execution_count": 61,
   "id": "42baa6da",
   "metadata": {},
   "outputs": [],
   "source": [
    "# # Define the Markdown content\n",
    "# prac_md = '''```{toggle}\n",
    "# Some hidden toggle content!\n",
    "\n",
    "# ![](../images/cool.jpg)\n",
    "# ```\n",
    "# '''\n",
    "# markdown_content = \"\"\"\n",
    "# # Welcome to Jupyter Book\n",
    "# This is an example of how to display Markdown content using Jupyter widgets.\n",
    "\n",
    "# ## Speaker 1: John Doe\n",
    "# ![John Doe](../logo.png)\n",
    "\n",
    "# John Doe is a renowned expert in artificial intelligence and has spoken at numerous international conferences. He holds a Ph.D. in Computer Science from XYZ University and currently works as a researcher at ABC Labs.\n",
    "\n",
    "# ## Speaker 2: Jane Smith\n",
    "# ![Jane Smith](https://via.placeholder.com/150)\n",
    "\n",
    "# Jane Smith is a passionate advocate for environmental sustainability. She is the founder of Green Earth Initiative, a non-profit organization dedicated to promoting eco-friendly practices worldwide. Jane holds a Master's degree in Environmental Science from DEF University.\n",
    "\n",
    "# ## Speaker 3: Michael Johnson\n",
    "# ![Michael Johnson](https://via.placeholder.com/150)\n",
    "\n",
    "# Michael Johnson is a successful entrepreneur and investor. He has founded multiple tech startups and serves as a mentor to aspiring entrepreneurs. Michael studied Business Administration at GHI University and is known for his insightful talks on innovation and business strategy.\n",
    "# \"\"\"\n",
    "# md = MarkdownIt()\n",
    "# html_content = md.render(markdown_content)\n",
    "# # Create a Markdown widget\n",
    "# markdown_widget = widgets.HTML(html_content)\n",
    "\n",
    "# # Display the widget\n",
    "# display(markdown_widget)\n"
   ]
  },
  {
   "cell_type": "code",
   "execution_count": 65,
   "id": "8319bfd9",
   "metadata": {
    "scrolled": true
   },
   "outputs": [],
   "source": [
    "# import ipywidgets as widgets\n",
    "# from IPython.display import display, Javascript\n",
    "\n",
    "# # Create widgets for pop-up content\n",
    "# popup_title = widgets.HTML(value=\"<h2>Pop-Up Window</h2>\")\n",
    "# popup_text = widgets.HTML(value=\"<p>This is some content inside the pop-up window.</p>\")\n",
    "# close_button = widgets.Button(description=\"Close\")\n",
    "\n",
    "# # Create a vertical box to contain the pop-up content\n",
    "# popup_content = widgets.VBox([popup_title, popup_text, close_button])\n",
    "\n",
    "# # Create an Output widget to display the pop-up\n",
    "# popup_output = widgets.Output()\n",
    "\n",
    "# # Define a function to display the pop-up when the button is clicked\n",
    "# def show_popup(button):\n",
    "#     with popup_output:\n",
    "#         display(popup_content)\n",
    "\n",
    "# # Set the button to call the show_popup function on click\n",
    "# trigger_button = widgets.Button(description=\"Click me to show pop-up\")\n",
    "# trigger_button.on_click(show_popup)\n",
    "\n",
    "# # Define a function to close the pop-up when the close button is clicked\n",
    "# def close_popup(button):\n",
    "#     popup_output.clear_output()\n",
    "\n",
    "# # Set the close button to call the close_popup function on click\n",
    "# close_button.on_click(close_popup)\n",
    "\n",
    "# # Display the trigger button and the output widget\n",
    "# display(trigger_button, popup_output)\n"
   ]
  },
  {
   "cell_type": "code",
   "execution_count": 66,
   "id": "3ed0bd48",
   "metadata": {},
   "outputs": [],
   "source": [
    "# import ipywidgets as widgets\n",
    "# from IPython.display import display, Javascript\n",
    "\n",
    "# # Create widgets for pop-up content\n",
    "# popup_title = widgets.HTML(value=\"<h2>Pop-Up Window</h2>\")\n",
    "# popup_text = widgets.HTML(value=\"<p>This is some content inside the pop-up window.</p>\")\n",
    "# close_button = widgets.Button(description=\"Close\")\n",
    "\n",
    "# # Create a vertical box to contain the pop-up content\n",
    "# popup_content = widgets.VBox([popup_title, popup_text, close_button])\n",
    "\n",
    "# # Create an Output widget to display the pop-up\n",
    "# popup_output = widgets.Output()\n",
    "\n",
    "# # JavaScript code for making the pop-up draggable\n",
    "# javascript = \"\"\"\n",
    "# function makeDraggable(element) {\n",
    "#     let offsetX = 0, offsetY = 0, isDragging = false;\n",
    "\n",
    "#     element.addEventListener('mousedown', function(event) {\n",
    "#         isDragging = true;\n",
    "#         offsetX = event.clientX - element.getBoundingClientRect().left;\n",
    "#         offsetY = event.clientY - element.getBoundingClientRect().top;\n",
    "#     });\n",
    "\n",
    "#     document.addEventListener('mousemove', function(event) {\n",
    "#         if (isDragging) {\n",
    "#             element.style.left = (event.pageX - offsetX) + 'px';\n",
    "#             element.style.top = (event.pageY - offsetY) + 'px';\n",
    "#         }\n",
    "#     });\n",
    "\n",
    "#     document.addEventListener('mouseup', function(event) {\n",
    "#         isDragging = false;\n",
    "#     });\n",
    "# }\n",
    "\n",
    "# document.addEventListener(\"DOMContentLoaded\", function(event) {\n",
    "#     let popup = document.querySelector('.popup-container');\n",
    "#     makeDraggable(popup);\n",
    "# });\n",
    "# \"\"\"\n",
    "\n",
    "# # Define a function to display the pop-up when the button is clicked\n",
    "# def show_popup(button):\n",
    "#     with popup_output:\n",
    "#         display(popup_content)\n",
    "#     display(Javascript(javascript))\n",
    "\n",
    "# # Set the button to call the show_popup function on click\n",
    "# trigger_button = widgets.Button(description=\"Click me to show pop-up\")\n",
    "# trigger_button.on_click(show_popup)\n",
    "\n",
    "# # Define CSS for the pop-up container\n",
    "# popup_css = \"\"\"\n",
    "# .popup-container {\n",
    "#     position: absolute;\n",
    "#     z-index: 1000;\n",
    "#     background-color: white;\n",
    "#     border: 1px solid #ddd;\n",
    "#     padding: 10px;\n",
    "#     border-radius: 5px;\n",
    "#     box-shadow: 0px 0px 10px 0px rgba(0,0,0,0.2);\n",
    "#     cursor: move;\n",
    "# }\n",
    "# \"\"\"\n",
    "\n",
    "# # Display the CSS and the trigger button\n",
    "# display(widgets.HTML('<style>' + popup_css + '</style>'))\n",
    "# display(trigger_button, popup_output)\n"
   ]
  },
  {
   "cell_type": "code",
   "execution_count": null,
   "id": "89969dae",
   "metadata": {},
   "outputs": [],
   "source": []
  }
 ],
 "metadata": {
  "kernelspec": {
   "display_name": "Python 3 (ipykernel)",
   "language": "python",
   "name": "python3"
  },
  "language_info": {
   "codemirror_mode": {
    "name": "ipython",
    "version": 3
   },
   "file_extension": ".py",
   "mimetype": "text/x-python",
   "name": "python",
   "nbconvert_exporter": "python",
   "pygments_lexer": "ipython3",
   "version": "3.12.3"
  }
 },
 "nbformat": 4,
 "nbformat_minor": 5
}
