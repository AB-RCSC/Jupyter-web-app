{
 "cells": [
  {
   "cell_type": "code",
   "execution_count": 1,
   "id": "c2697664",
   "metadata": {},
   "outputs": [],
   "source": [
    "# !jupyter nbextension enable --py widgetsnbextension --sys-prefix"
   ]
  },
  {
   "cell_type": "code",
   "execution_count": 2,
   "id": "9620c4d3",
   "metadata": {},
   "outputs": [],
   "source": [
    "# !jupyter serverextension enable voila --sys-prefix"
   ]
  },
  {
   "cell_type": "code",
   "execution_count": 29,
   "id": "076f4536",
   "metadata": {},
   "outputs": [],
   "source": [
    "import json\n",
    "import pandas as pd\n",
    "import ipywidgets as widgets\n",
    "from markdown_it import MarkdownIt\n",
    "from IPython.display import display, Javascript, Markdown, clear_output, HTML"
   ]
  },
  {
   "cell_type": "code",
   "execution_count": 30,
   "id": "9b04b861",
   "metadata": {},
   "outputs": [],
   "source": [
    "# Image Widget\n",
    "\n",
    "file = open(\"../logo.png\", \"rb\")\n",
    "image = file.read()\n",
    "\n",
    "image_headline = widgets.Image(\n",
    "                    value=image,\n",
    "                    format='jpg',\n",
    "                    width='200'\n",
    "                )\n",
    "\n",
    "label_headline = widgets.Label(\n",
    "                    value='',\n",
    "                    style={'description_width': 'initial'}\n",
    "                )\n",
    "\n",
    "vbox_headline = widgets.VBox([image_headline, label_headline])"
   ]
  },
  {
   "cell_type": "code",
   "execution_count": 31,
   "id": "0e86f940",
   "metadata": {},
   "outputs": [],
   "source": [
    "global stored_choices, path\n",
    "stored_choices = {}\n",
    "path = \"../temp_storage.json\"\n",
    "img_path = \"../logo.png\""
   ]
  },
  {
   "cell_type": "code",
   "execution_count": 32,
   "id": "7f2ed878",
   "metadata": {},
   "outputs": [],
   "source": [
    "# Read the CSV file into a DataFrame\n",
    "df = pd.read_csv('../questionsFormatting.csv')"
   ]
  },
  {
   "cell_type": "markdown",
   "id": "522f1038",
   "metadata": {},
   "source": [
    "Testing automated link assigning [start]"
   ]
  },
  {
   "cell_type": "code",
   "execution_count": 33,
   "id": "7174041c",
   "metadata": {},
   "outputs": [],
   "source": [
    "def split_and_trim(s):\n",
    "    return [item.strip() for item in s.split(',')]"
   ]
  },
  {
   "cell_type": "code",
   "execution_count": 34,
   "id": "67454640",
   "metadata": {},
   "outputs": [],
   "source": [
    "ques_code = \"user_entry\"\n",
    "opt_codes = df.loc[df['question_code'] == ques_code, 'q_option_code'].iloc[0]\n",
    "opt_codes = split_and_trim(opt_codes) # seperates the string based on ',' also removes the whitespace after comma & makes a list\n",
    "combined_code_list = []"
   ]
  },
  {
   "cell_type": "code",
   "execution_count": 35,
   "id": "554de8e1",
   "metadata": {},
   "outputs": [],
   "source": [
    "# opt_codes"
   ]
  },
  {
   "cell_type": "code",
   "execution_count": 36,
   "id": "0dfd5e11",
   "metadata": {},
   "outputs": [],
   "source": [
    "for code in opt_codes:\n",
    "    combined_code = ques_code + '_' + code\n",
    "    combined_code_list.append(combined_code)"
   ]
  },
  {
   "cell_type": "code",
   "execution_count": 37,
   "id": "53d39128",
   "metadata": {},
   "outputs": [],
   "source": [
    "# print (combined_code_list)"
   ]
  },
  {
   "cell_type": "code",
   "execution_count": 38,
   "id": "9e97b323",
   "metadata": {},
   "outputs": [],
   "source": [
    "# next_ques_list = []"
   ]
  },
  {
   "cell_type": "code",
   "execution_count": 39,
   "id": "aa9a751e",
   "metadata": {},
   "outputs": [],
   "source": [
    "# for combo_code in combined_code_list:\n",
    "#     next_ques = df.loc[df['combined_code'] == combo_code, 'next_question'].iloc[0]\n",
    "#     next_ques_list.append(next_ques)"
   ]
  },
  {
   "cell_type": "code",
   "execution_count": 40,
   "id": "167d0269",
   "metadata": {},
   "outputs": [],
   "source": [
    "# next_ques_list"
   ]
  },
  {
   "cell_type": "markdown",
   "id": "7eae9493",
   "metadata": {},
   "source": [
    "Testing automated link assigning [end]"
   ]
  },
  {
   "cell_type": "code",
   "execution_count": 41,
   "id": "07db2fbc",
   "metadata": {},
   "outputs": [],
   "source": [
    "# gets the question based on value of other (methods) column\n",
    "ques = df.loc[df['question_code'] == 'user_entry', 'question_text'].iloc[0]\n",
    "opt = df.loc[df['question_code'] == 'user_entry', 'q_option_label'].iloc[0]\n",
    "# opt = opt.replace('[', '').replace(']', '').replace('\"', '') # for format ([\"\",\"\"])\n",
    "opt = split_and_trim(opt) # seperates the string based on ',' also removes the whitespace after comma & makes a list"
   ]
  },
  {
   "cell_type": "code",
   "execution_count": 42,
   "id": "30d3c484",
   "metadata": {},
   "outputs": [],
   "source": [
    "# opt"
   ]
  },
  {
   "cell_type": "code",
   "execution_count": 43,
   "id": "5ea7a2e9",
   "metadata": {},
   "outputs": [],
   "source": [
    "# index = opt.index(\"Analyze data that was already collected\")\n",
    "# index"
   ]
  },
  {
   "cell_type": "code",
   "execution_count": 44,
   "id": "231d60ae",
   "metadata": {},
   "outputs": [],
   "source": [
    "# # Read the JSON file\n",
    "# with open('../data.json', 'r') as file:\n",
    "#     data = json.load(file)"
   ]
  },
  {
   "cell_type": "code",
   "execution_count": 45,
   "id": "c4a7dbe3",
   "metadata": {},
   "outputs": [],
   "source": [
    "# # Access the question and options\n",
    "# question = data['question1']\n",
    "# options = data['options1']"
   ]
  },
  {
   "cell_type": "code",
   "execution_count": 46,
   "id": "aa93752b",
   "metadata": {},
   "outputs": [],
   "source": [
    "# # Question 1----------------\n",
    "# question1 = \"What is the capital of France?\"\n",
    "# options1 = [\"Paris\", \"London\", \"Berlin\", \"Rome\"]"
   ]
  },
  {
   "cell_type": "code",
   "execution_count": 47,
   "id": "091899f4",
   "metadata": {},
   "outputs": [],
   "source": [
    "# Display question and options as widgets-------\n",
    "question_widget1 = widgets.HTML(value=f\"<h3>{ques}</h3>\")\n",
    "# question_widget1.style.background = 'lightblue'\n",
    "options_widget1 = widgets.RadioButtons(options=opt, value = None, layout={'width': 'max-content'})"
   ]
  },
  {
   "cell_type": "code",
   "execution_count": 48,
   "id": "009bc876",
   "metadata": {},
   "outputs": [],
   "source": [
    "# Create a button for submitting the question\n",
    "submit_button = widgets.Button(description=\"Submit\")"
   ]
  },
  {
   "cell_type": "code",
   "execution_count": 49,
   "id": "c181258f",
   "metadata": {},
   "outputs": [],
   "source": [
    "# Create a button for skipping the question\n",
    "skip_button = widgets.Button(description=\"Skip\")"
   ]
  },
  {
   "cell_type": "code",
   "execution_count": 50,
   "id": "747df9a0",
   "metadata": {},
   "outputs": [],
   "source": [
    "output = widgets.Output()\n",
    "def on_button_clicked(event):\n",
    "    with output:\n",
    "        clear_output()\n",
    "        global selected_option1\n",
    "        \n",
    "        link = \"Submit your answer for next question\"\n",
    "        selected_option1 = options_widget1.value\n",
    "        \n",
    "        index = opt.index(selected_option1)\n",
    "        next_combo_code = combined_code_list[index]\n",
    "        \n",
    "        notebook_filename = df.loc[df['combined_code'] == next_combo_code, 'next_question'].iloc[0]\n",
    "        notebook_filename = notebook_filename + '.ipynb'\n",
    "        link = Markdown('''<a href=\"{}\" target=\"_self\" rel=\"noopener noreferrer\">Next</a>'''.format(notebook_filename))\n",
    "            \n",
    "        stored_choices[\"answer1\"] = selected_option1\n",
    "        with open(path, \"w\") as f:\n",
    "            json.dump(stored_choices, f)\n",
    "#         %store stored_choices\n",
    "        display(link)\n",
    "\n",
    "submit_button.on_click(on_button_clicked)\n",
    "# vbox_result = widgets.VBox([question_widget1, options_widget1, submit_button, output, choice])"
   ]
  },
  {
   "cell_type": "code",
   "execution_count": 51,
   "id": "a3421499",
   "metadata": {},
   "outputs": [],
   "source": [
    "output = widgets.Output()\n",
    "def on_skip_button_clicked(event):\n",
    "    with output:\n",
    "        clear_output()\n",
    "        link = Markdown('''<a href=\"https://voila.readthedocs.io/en/stable/deploy.html\" target=\"_self\"> \n",
    "                                    Next \n",
    "                            </a>''')\n",
    "        display(link)\n",
    "\n",
    "skip_button.on_click(on_skip_button_clicked)\n",
    "# vbox_result = widgets.VBox([question_widget1, options_widget1, submit_button, output, choice])"
   ]
  },
  {
   "cell_type": "code",
   "execution_count": 52,
   "id": "a448edb4",
   "metadata": {},
   "outputs": [],
   "source": [
    "# display(vbox_result)"
   ]
  },
  {
   "cell_type": "code",
   "execution_count": 53,
   "id": "50740d73",
   "metadata": {
    "scrolled": true
   },
   "outputs": [
    {
     "data": {
      "application/vnd.jupyter.widget-view+json": {
       "model_id": "5de038f0ac1243798ba6c729699731f9",
       "version_major": 2,
       "version_minor": 0
      },
      "text/plain": [
       "VBox(children=(Image(value=b'\\x89PNG\\r\\n\\x1a\\n\\x00\\x00\\x00\\rIHDR\\x00\\x00\\x01\\xfb\\x00\\x00\\x01|\\x08\\x06\\x00\\x00\\…"
      ]
     },
     "metadata": {},
     "output_type": "display_data"
    },
    {
     "data": {
      "application/vnd.jupyter.widget-view+json": {
       "model_id": "cd8ae7a0612b4d4db8202454f9aa4f03",
       "version_major": 2,
       "version_minor": 0
      },
      "text/plain": [
       "VBox(children=(HTML(value='<h3>Are you looking to design a new remote camera project, or analyze data that was…"
      ]
     },
     "metadata": {},
     "output_type": "display_data"
    },
    {
     "data": {
      "application/vnd.jupyter.widget-view+json": {
       "model_id": "18d73bc08318409e8c40764c607efef9",
       "version_major": 2,
       "version_minor": 0
      },
      "text/plain": [
       "HBox(children=(Button(description='Submit', style=ButtonStyle()), Button(description='Skip', style=ButtonStyle…"
      ]
     },
     "metadata": {},
     "output_type": "display_data"
    }
   ],
   "source": [
    "# Apply center alignment using CSS styling to the container\n",
    "container = widgets.VBox(children=[question_widget1, options_widget1, output], layout=widgets.Layout(\n",
    "    align_items='center'  # Center align vertically\n",
    "#     justify_content='center',  # Center align horizontally\n",
    "#     height='100vh'  # Set height to 100% of viewport height for vertical centering\n",
    "))\n",
    "button_container = widgets.HBox(children=[submit_button, skip_button], layout=widgets.Layout(\n",
    "#     align_items='center'  # Center align vertically\n",
    "    justify_content='center',  # Center align horizontally\n",
    "#     height='100vh'  # Set height to 100% of viewport height for vertical centering\n",
    "))\n",
    "# Display the container\n",
    "display(vbox_headline)\n",
    "display(container)\n",
    "display(button_container)"
   ]
  },
  {
   "cell_type": "code",
   "execution_count": 60,
   "id": "42baa6da",
   "metadata": {},
   "outputs": [
    {
     "data": {
      "application/vnd.jupyter.widget-view+json": {
       "model_id": "2e2c5cacf8be4a319a24d7412de01d59",
       "version_major": 2,
       "version_minor": 0
      },
      "text/plain": [
       "HTML(value='<h1>Welcome to Jupyter Book</h1>\\n<p>This is an example of how to display Markdown content using J…"
      ]
     },
     "metadata": {},
     "output_type": "display_data"
    }
   ],
   "source": [
    "# Define the Markdown content\n",
    "prac_md = '''```{toggle}\n",
    "Some hidden toggle content!\n",
    "\n",
    "![](../images/cool.jpg)\n",
    "```\n",
    "'''\n",
    "markdown_content = \"\"\"\n",
    "# Welcome to Jupyter Book\n",
    "This is an example of how to display Markdown content using Jupyter widgets.\n",
    "\n",
    "## Speaker 1: John Doe\n",
    "![John Doe](../logo.png)\n",
    "\n",
    "John Doe is a renowned expert in artificial intelligence and has spoken at numerous international conferences. He holds a Ph.D. in Computer Science from XYZ University and currently works as a researcher at ABC Labs.\n",
    "\n",
    "## Speaker 2: Jane Smith\n",
    "![Jane Smith](https://via.placeholder.com/150)\n",
    "\n",
    "Jane Smith is a passionate advocate for environmental sustainability. She is the founder of Green Earth Initiative, a non-profit organization dedicated to promoting eco-friendly practices worldwide. Jane holds a Master's degree in Environmental Science from DEF University.\n",
    "\n",
    "## Speaker 3: Michael Johnson\n",
    "![Michael Johnson](https://via.placeholder.com/150)\n",
    "\n",
    "Michael Johnson is a successful entrepreneur and investor. He has founded multiple tech startups and serves as a mentor to aspiring entrepreneurs. Michael studied Business Administration at GHI University and is known for his insightful talks on innovation and business strategy.\n",
    "\"\"\"\n",
    "md = MarkdownIt()\n",
    "html_content = md.render(markdown_content)\n",
    "# Create a Markdown widget\n",
    "markdown_widget = widgets.HTML(html_content)\n",
    "\n",
    "# Display the widget\n",
    "display(markdown_widget)\n"
   ]
  },
  {
   "cell_type": "code",
   "execution_count": null,
   "id": "332236be",
   "metadata": {},
   "outputs": [],
   "source": []
  }
 ],
 "metadata": {
  "kernelspec": {
   "display_name": "Python 3 (ipykernel)",
   "language": "python",
   "name": "python3"
  },
  "language_info": {
   "codemirror_mode": {
    "name": "ipython",
    "version": 3
   },
   "file_extension": ".py",
   "mimetype": "text/x-python",
   "name": "python",
   "nbconvert_exporter": "python",
   "pygments_lexer": "ipython3",
   "version": "3.12.3"
  }
 },
 "nbformat": 4,
 "nbformat_minor": 5
}
