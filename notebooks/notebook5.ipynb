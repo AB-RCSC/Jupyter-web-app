{
 "cells": [
  {
   "cell_type": "code",
   "execution_count": 1,
   "id": "c2697664",
   "metadata": {},
   "outputs": [],
   "source": [
    "# !jupyter nbextension enable --py widgetsnbextension --sys-prefix"
   ]
  },
  {
   "cell_type": "code",
   "execution_count": 2,
   "id": "9620c4d3",
   "metadata": {},
   "outputs": [],
   "source": [
    "# !jupyter serverextension enable voila --sys-prefix"
   ]
  },
  {
   "cell_type": "code",
   "execution_count": 3,
   "id": "076f4536",
   "metadata": {},
   "outputs": [],
   "source": [
    "import json\n",
    "import pandas as pd\n",
    "import ipywidgets as widgets\n",
    "from IPython.display import display, Javascript, Markdown, clear_output, HTML"
   ]
  },
  {
   "cell_type": "code",
   "execution_count": 4,
   "id": "9b04b861",
   "metadata": {},
   "outputs": [],
   "source": [
    "# Image Widget\n",
    "\n",
    "file = open(\"../logo.png\", \"rb\")\n",
    "image = file.read()\n",
    "\n",
    "image_headline = widgets.Image(\n",
    "                    value=image,\n",
    "                    format='jpg',\n",
    "                    width='200'\n",
    "                )\n",
    "\n",
    "label_headline = widgets.Label(\n",
    "                    value='',\n",
    "                    style={'description_width': 'initial'}\n",
    "                )\n",
    "\n",
    "vbox_headline = widgets.VBox([image_headline, label_headline])"
   ]
  },
  {
   "cell_type": "code",
   "execution_count": 5,
   "id": "0e86f940",
   "metadata": {},
   "outputs": [],
   "source": [
    "global stored_choices, path\n",
    "stored_choices = {}\n",
    "path = \"../temp_storage.json\""
   ]
  },
  {
   "cell_type": "code",
   "execution_count": 6,
   "id": "7f2ed878",
   "metadata": {},
   "outputs": [],
   "source": [
    "# Read the CSV file into a DataFrame\n",
    "df = pd.read_csv('../questions.csv')"
   ]
  },
  {
   "cell_type": "code",
   "execution_count": 7,
   "id": "07db2fbc",
   "metadata": {},
   "outputs": [],
   "source": [
    "# gets the question based on value of other (methods) column\n",
    "ques = df.loc[df['question_code'] == 'num_cams_avail', 'question_text'].iloc[0]"
   ]
  },
  {
   "cell_type": "code",
   "execution_count": 8,
   "id": "231d60ae",
   "metadata": {},
   "outputs": [],
   "source": [
    "# # Read the JSON file\n",
    "# with open('../data.json', 'r') as file:\n",
    "#     data = json.load(file)"
   ]
  },
  {
   "cell_type": "code",
   "execution_count": 9,
   "id": "c4a7dbe3",
   "metadata": {},
   "outputs": [],
   "source": [
    "# # Access the question and options\n",
    "# question = data['question1']\n",
    "# options = data['options1']"
   ]
  },
  {
   "cell_type": "code",
   "execution_count": 10,
   "id": "aa93752b",
   "metadata": {},
   "outputs": [],
   "source": [
    "# # Question 1----------------\n",
    "# question1 = \"What is the capital of France?\"\n",
    "# options1 = [\"Paris\", \"London\", \"Berlin\", \"Rome\"]"
   ]
  },
  {
   "cell_type": "code",
   "execution_count": 11,
   "id": "091899f4",
   "metadata": {},
   "outputs": [],
   "source": [
    "# Display question and options as widgets-------\n",
    "question_widget5 = widgets.HTML(value=f\"<h3>{ques}</h3>\")\n",
    "\n",
    "options_widget5 = widgets.IntText(\n",
    "                            value=0,  # Default value\n",
    "                            description='Enter value:',\n",
    "                            disabled=False,\n",
    "                            layout={'width': 'max-content'}\n",
    "                        )\n",
    "# options_widget1 = widgets.RadioButtons(options=opt, value = None, layout={'width': 'max-content'})"
   ]
  },
  {
   "cell_type": "code",
   "execution_count": 12,
   "id": "623e84ad",
   "metadata": {},
   "outputs": [],
   "source": [
    "# Function to handle changes in the widget's value\n",
    "def on_value_change(change):\n",
    "    change[\"new\"]"
   ]
  },
  {
   "cell_type": "code",
   "execution_count": 13,
   "id": "d2331a12",
   "metadata": {},
   "outputs": [],
   "source": [
    "# display(options_widget5)"
   ]
  },
  {
   "cell_type": "code",
   "execution_count": 14,
   "id": "c5ecc95c",
   "metadata": {},
   "outputs": [],
   "source": [
    "# options_widget5.value"
   ]
  },
  {
   "cell_type": "code",
   "execution_count": 15,
   "id": "e50e03e2",
   "metadata": {},
   "outputs": [],
   "source": [
    "# Create a button for going back to previous question\n",
    "back_button = widgets.Button(description=\"Back\")"
   ]
  },
  {
   "cell_type": "code",
   "execution_count": 16,
   "id": "009bc876",
   "metadata": {},
   "outputs": [],
   "source": [
    "# Create a button for submitting the question\n",
    "submit_button = widgets.Button(description=\"Submit\")"
   ]
  },
  {
   "cell_type": "code",
   "execution_count": 17,
   "id": "c181258f",
   "metadata": {},
   "outputs": [],
   "source": [
    "# Create a button for skipping the question\n",
    "skip_button = widgets.Button(description=\"Skip\")"
   ]
  },
  {
   "cell_type": "code",
   "execution_count": 18,
   "id": "5047e2ed",
   "metadata": {},
   "outputs": [],
   "source": [
    "output = widgets.Output()\n",
    "def on_back_button_clicked(event):\n",
    "    with output:\n",
    "        clear_output()\n",
    "        notebook_filename = \"notebook2.ipynb\"\n",
    "        link = Markdown('''<a href=\"{}\" target=\"_self\" rel=\"noopener noreferrer\">Previous</a>'''.format(notebook_filename))\n",
    "        display(link)\n",
    "\n",
    "back_button.on_click(on_back_button_clicked)\n",
    "# vbox_result = widgets.VBox([question_widget1, options_widget1, submit_button, output, choice])"
   ]
  },
  {
   "cell_type": "code",
   "execution_count": 19,
   "id": "747df9a0",
   "metadata": {},
   "outputs": [],
   "source": [
    "output = widgets.Output()\n",
    "def on_button_clicked(event):\n",
    "    with output:\n",
    "        clear_output()\n",
    "        global selected_option5\n",
    "        \n",
    "        options_widget5.observe(on_value_change, names='value')\n",
    "        selected_option5 = options_widget5.value\n",
    "        notebook_filename = \"notebook3.ipynb\"\n",
    "        link = Markdown('''<a href=\"{}\" target=\"_self\" rel=\"noopener noreferrer\">Next</a>'''.format(notebook_filename))\n",
    "            \n",
    "        # Read the existing JSON file\n",
    "        with open(path, \"r\") as f:\n",
    "            stored_choices = json.load(f)\n",
    "\n",
    "#         %store -r stored_choices\n",
    "        stored_choices[\"answer5\"] = selected_option5\n",
    "#         %store stored_choices\n",
    "        # Write the updated dictionary back to the JSON file\n",
    "        with open(path, \"w\") as f:\n",
    "            json.dump(stored_choices, f)\n",
    "            \n",
    "        display(link)\n",
    "\n",
    "submit_button.on_click(on_button_clicked)\n",
    "# vbox_result = widgets.VBox([question_widget1, options_widget1, submit_button, output, choice])"
   ]
  },
  {
   "cell_type": "code",
   "execution_count": 20,
   "id": "a3421499",
   "metadata": {},
   "outputs": [],
   "source": [
    "output = widgets.Output()\n",
    "def on_skip_button_clicked(event):\n",
    "    with output:\n",
    "        clear_output()\n",
    "        link = Markdown('''<a href=\"https://voila.readthedocs.io/en/stable/deploy.html\" target=\"_self\"> \n",
    "                                    Next \n",
    "                            </a>''')\n",
    "        display(link)\n",
    "\n",
    "skip_button.on_click(on_skip_button_clicked)\n",
    "# vbox_result = widgets.VBox([question_widget1, options_widget1, submit_button, output, choice])"
   ]
  },
  {
   "cell_type": "code",
   "execution_count": 21,
   "id": "a448edb4",
   "metadata": {},
   "outputs": [],
   "source": [
    "# display(vbox_result)"
   ]
  },
  {
   "cell_type": "code",
   "execution_count": 22,
   "id": "50740d73",
   "metadata": {},
   "outputs": [
    {
     "data": {
      "application/vnd.jupyter.widget-view+json": {
       "model_id": "39be01c0170647d5b5c99848abe116b6",
       "version_major": 2,
       "version_minor": 0
      },
      "text/plain": [
       "VBox(children=(Image(value=b'\\x89PNG\\r\\n\\x1a\\n\\x00\\x00\\x00\\rIHDR\\x00\\x00\\x01\\xfb\\x00\\x00\\x01|\\x08\\x06\\x00\\x00\\…"
      ]
     },
     "metadata": {},
     "output_type": "display_data"
    },
    {
     "data": {
      "application/vnd.jupyter.widget-view+json": {
       "model_id": "4af59b6ea98b4af99da875cdfe76460c",
       "version_major": 2,
       "version_minor": 0
      },
      "text/plain": [
       "VBox(children=(HTML(value='<h3>If so, how many?</h3>'), IntText(value=0, description='Enter value:', layout=La…"
      ]
     },
     "metadata": {},
     "output_type": "display_data"
    },
    {
     "data": {
      "application/vnd.jupyter.widget-view+json": {
       "model_id": "589b48539ae54c42bb91a62dfae13ce5",
       "version_major": 2,
       "version_minor": 0
      },
      "text/plain": [
       "HBox(children=(Button(description='Back', style=ButtonStyle()), Button(description='Submit', style=ButtonStyle…"
      ]
     },
     "metadata": {},
     "output_type": "display_data"
    }
   ],
   "source": [
    "# Apply center alignment using CSS styling to the container\n",
    "container = widgets.VBox(children=[question_widget5, options_widget5, output], layout=widgets.Layout(\n",
    "    align_items='center'  # Center align vertically\n",
    "#     justify_content='center',  # Center align horizontally\n",
    "#     height='100vh'  # Set height to 100% of viewport height for vertical centering\n",
    "))\n",
    "button_container = widgets.HBox(children=[back_button, submit_button, skip_button], layout=widgets.Layout(\n",
    "#     align_items='center'  # Center align vertically\n",
    "    justify_content='center',  # Center align horizontally\n",
    "#     height='100vh'  # Set height to 100% of viewport height for vertical centering\n",
    "))\n",
    "# Display the container\n",
    "display(vbox_headline)\n",
    "display(container)\n",
    "display(button_container)"
   ]
  },
  {
   "cell_type": "code",
   "execution_count": null,
   "id": "5a466187",
   "metadata": {},
   "outputs": [],
   "source": []
  }
 ],
 "metadata": {
  "kernelspec": {
   "display_name": "Python 3 (ipykernel)",
   "language": "python",
   "name": "python3"
  },
  "language_info": {
   "codemirror_mode": {
    "name": "ipython",
    "version": 3
   },
   "file_extension": ".py",
   "mimetype": "text/x-python",
   "name": "python",
   "nbconvert_exporter": "python",
   "pygments_lexer": "ipython3",
   "version": "3.12.3"
  }
 },
 "nbformat": 4,
 "nbformat_minor": 5
}
