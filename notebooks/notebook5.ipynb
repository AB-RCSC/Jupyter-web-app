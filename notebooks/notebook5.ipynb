{
 "cells": [
  {
   "cell_type": "code",
   "execution_count": 52,
   "id": "c2697664",
   "metadata": {},
   "outputs": [],
   "source": [
    "# !jupyter nbextension enable --py widgetsnbextension --sys-prefix"
   ]
  },
  {
   "cell_type": "code",
   "execution_count": 53,
   "id": "9620c4d3",
   "metadata": {},
   "outputs": [],
   "source": [
    "# !jupyter serverextension enable voila --sys-prefix"
   ]
  },
  {
   "cell_type": "code",
   "execution_count": 54,
   "id": "076f4536",
   "metadata": {},
   "outputs": [],
   "source": [
    "import json\n",
    "import pandas as pd\n",
    "import ipywidgets as widgets\n",
    "from IPython.display import display, Javascript, Markdown, clear_output, HTML"
   ]
  },
  {
   "cell_type": "code",
   "execution_count": 55,
   "id": "9b04b861",
   "metadata": {},
   "outputs": [],
   "source": [
    "# Image Widget\n",
    "\n",
    "file = open(\"../logo.png\", \"rb\")\n",
    "image = file.read()\n",
    "\n",
    "image_headline = widgets.Image(\n",
    "                    value=image,\n",
    "                    format='jpg',\n",
    "                    width='200'\n",
    "                )\n",
    "\n",
    "label_headline = widgets.Label(\n",
    "                    value='',\n",
    "                    style={'description_width': 'initial'}\n",
    "                )\n",
    "\n",
    "vbox_headline = widgets.VBox([image_headline, label_headline])"
   ]
  },
  {
   "cell_type": "code",
   "execution_count": 56,
   "id": "0e86f940",
   "metadata": {},
   "outputs": [],
   "source": [
    "global stored_choices, path\n",
    "stored_choices = {}\n",
    "path = \"../temp_storage.json\""
   ]
  },
  {
   "cell_type": "code",
   "execution_count": 57,
   "id": "7f2ed878",
   "metadata": {},
   "outputs": [],
   "source": [
    "# Read the CSV file into a DataFrame\n",
    "df = pd.read_csv('../questions.csv')"
   ]
  },
  {
   "cell_type": "code",
   "execution_count": 58,
   "id": "07db2fbc",
   "metadata": {},
   "outputs": [],
   "source": [
    "# gets the question based on value of other (methods) column\n",
    "ques = df.loc[df['question_code'] == 'num_cams_avail', 'question_text'].iloc[0]"
   ]
  },
  {
   "cell_type": "code",
   "execution_count": 59,
   "id": "231d60ae",
   "metadata": {},
   "outputs": [],
   "source": [
    "# # Read the JSON file\n",
    "# with open('../data.json', 'r') as file:\n",
    "#     data = json.load(file)"
   ]
  },
  {
   "cell_type": "code",
   "execution_count": 60,
   "id": "c4a7dbe3",
   "metadata": {},
   "outputs": [],
   "source": [
    "# # Access the question and options\n",
    "# question = data['question1']\n",
    "# options = data['options1']"
   ]
  },
  {
   "cell_type": "code",
   "execution_count": 61,
   "id": "aa93752b",
   "metadata": {},
   "outputs": [],
   "source": [
    "# # Question 1----------------\n",
    "# question1 = \"What is the capital of France?\"\n",
    "# options1 = [\"Paris\", \"London\", \"Berlin\", \"Rome\"]"
   ]
  },
  {
   "cell_type": "code",
   "execution_count": 62,
   "id": "091899f4",
   "metadata": {},
   "outputs": [],
   "source": [
    "# Display question and options as widgets-------\n",
    "question_widget5 = widgets.HTML(value=f\"<h3>{ques}</h3>\")\n",
    "\n",
    "options_widget5 = widgets.IntText(\n",
    "                            value=0,  # Default value\n",
    "                            description='Enter value:',\n",
    "                            disabled=False,\n",
    "                            layout={'width': 'max-content'}\n",
    "                        )\n",
    "# options_widget1 = widgets.RadioButtons(options=opt, value = None, layout={'width': 'max-content'})"
   ]
  },
  {
   "cell_type": "code",
   "execution_count": 63,
   "id": "623e84ad",
   "metadata": {},
   "outputs": [],
   "source": [
    "# Function to handle changes in the widget's value\n",
    "def on_value_change(change):\n",
    "    change[\"new\"]"
   ]
  },
  {
   "cell_type": "code",
   "execution_count": 64,
   "id": "d2331a12",
   "metadata": {},
   "outputs": [],
   "source": [
    "# display(options_widget5)"
   ]
  },
  {
   "cell_type": "code",
   "execution_count": 65,
   "id": "c5ecc95c",
   "metadata": {},
   "outputs": [],
   "source": [
    "# options_widget5.value"
   ]
  },
  {
   "cell_type": "code",
   "execution_count": 66,
   "id": "009bc876",
   "metadata": {},
   "outputs": [],
   "source": [
    "# Create a button for submitting the question\n",
    "submit_button = widgets.Button(description=\"Submit\")"
   ]
  },
  {
   "cell_type": "code",
   "execution_count": 67,
   "id": "c181258f",
   "metadata": {},
   "outputs": [],
   "source": [
    "# Create a button for skipping the question\n",
    "skip_button = widgets.Button(description=\"Skip\")"
   ]
  },
  {
   "cell_type": "code",
   "execution_count": 68,
   "id": "747df9a0",
   "metadata": {},
   "outputs": [],
   "source": [
    "output = widgets.Output()\n",
    "def on_button_clicked(event):\n",
    "    with output:\n",
    "        clear_output()\n",
    "        global selected_option5\n",
    "        \n",
    "        options_widget5.observe(on_value_change, names='value')\n",
    "        selected_option5 = options_widget5.value\n",
    "        notebook_filename = \"notebook3.ipynb\"\n",
    "        link = Markdown('''<a href=\"{}\" target=\"_self\" rel=\"noopener noreferrer\">Next</a>'''.format(notebook_filename))\n",
    "            \n",
    "        # Read the existing JSON file\n",
    "        with open(path, \"r\") as f:\n",
    "            stored_choices = json.load(f)\n",
    "\n",
    "#         %store -r stored_choices\n",
    "        stored_choices[\"answer5\"] = selected_option5\n",
    "#         %store stored_choices\n",
    "        # Write the updated dictionary back to the JSON file\n",
    "        with open(path, \"w\") as f:\n",
    "            json.dump(stored_choices, f)\n",
    "            \n",
    "        display(link)\n",
    "\n",
    "submit_button.on_click(on_button_clicked)\n",
    "# vbox_result = widgets.VBox([question_widget1, options_widget1, submit_button, output, choice])"
   ]
  },
  {
   "cell_type": "code",
   "execution_count": 69,
   "id": "a3421499",
   "metadata": {},
   "outputs": [],
   "source": [
    "output = widgets.Output()\n",
    "def on_skip_button_clicked(event):\n",
    "    with output:\n",
    "        clear_output()\n",
    "        link = Markdown('''<a href=\"https://voila.readthedocs.io/en/stable/deploy.html\" target=\"_self\"> \n",
    "                                    Next \n",
    "                            </a>''')\n",
    "        display(link)\n",
    "\n",
    "skip_button.on_click(on_skip_button_clicked)\n",
    "# vbox_result = widgets.VBox([question_widget1, options_widget1, submit_button, output, choice])"
   ]
  },
  {
   "cell_type": "code",
   "execution_count": 70,
   "id": "a448edb4",
   "metadata": {},
   "outputs": [],
   "source": [
    "# display(vbox_result)"
   ]
  },
  {
   "cell_type": "code",
   "execution_count": 71,
   "id": "50740d73",
   "metadata": {},
   "outputs": [
    {
     "data": {
      "application/vnd.jupyter.widget-view+json": {
       "model_id": "b2c77c3b73c24973a55fb38270d6a9e7",
       "version_major": 2,
       "version_minor": 0
      },
      "text/plain": [
       "VBox(children=(Image(value=b'\\x89PNG\\r\\n\\x1a\\n\\x00\\x00\\x00\\rIHDR\\x00\\x00\\x01\\xfb\\x00\\x00\\x01|\\x08\\x06\\x00\\x00\\…"
      ]
     },
     "metadata": {},
     "output_type": "display_data"
    },
    {
     "data": {
      "application/vnd.jupyter.widget-view+json": {
       "model_id": "66ead2a3617747a68bae0ebe8153ba2d",
       "version_major": 2,
       "version_minor": 0
      },
      "text/plain": [
       "VBox(children=(HTML(value='<h3>If so, how many?</h3>'), IntText(value=0, description='Enter value:', layout=La…"
      ]
     },
     "metadata": {},
     "output_type": "display_data"
    },
    {
     "data": {
      "application/vnd.jupyter.widget-view+json": {
       "model_id": "4e817ffb383a4842ae16e08c3f08354f",
       "version_major": 2,
       "version_minor": 0
      },
      "text/plain": [
       "HBox(children=(Button(description='Submit', style=ButtonStyle()), Button(description='Skip', style=ButtonStyle…"
      ]
     },
     "metadata": {},
     "output_type": "display_data"
    }
   ],
   "source": [
    "# Apply center alignment using CSS styling to the container\n",
    "container = widgets.VBox(children=[question_widget5, options_widget5, output], layout=widgets.Layout(\n",
    "    align_items='center'  # Center align vertically\n",
    "#     justify_content='center',  # Center align horizontally\n",
    "#     height='100vh'  # Set height to 100% of viewport height for vertical centering\n",
    "))\n",
    "button_container = widgets.HBox(children=[submit_button, skip_button], layout=widgets.Layout(\n",
    "#     align_items='center'  # Center align vertically\n",
    "    justify_content='center',  # Center align horizontally\n",
    "#     height='100vh'  # Set height to 100% of viewport height for vertical centering\n",
    "))\n",
    "# Display the container\n",
    "display(vbox_headline)\n",
    "display(container)\n",
    "display(button_container)"
   ]
  },
  {
   "cell_type": "code",
   "execution_count": 107,
   "id": "db8ce473",
   "metadata": {},
   "outputs": [],
   "source": [
    "# from ipywidgets import AppLayout, Button, Layout"
   ]
  },
  {
   "cell_type": "code",
   "execution_count": 108,
   "id": "9f888b4c",
   "metadata": {},
   "outputs": [],
   "source": [
    "# # Utils widgets\n",
    "# from ipywidgets import Button, Layout, jslink, IntText, IntSlider\n",
    "\n",
    "# def create_expanded_button(description, button_style):\n",
    "#     return Button(description=description, button_style=button_style, layout=Layout(height='auto', width='auto'))"
   ]
  },
  {
   "cell_type": "code",
   "execution_count": 109,
   "id": "0a3e56ab",
   "metadata": {},
   "outputs": [],
   "source": [
    "# header_button = widgets.HTML(value=f\"<h3>{ques}</h3>\")\n",
    "# left_button = create_expanded_button('Left', 'info')\n",
    "# center_button = create_expanded_button('Center', 'warning')\n",
    "# right_button = create_expanded_button('Right', 'info')\n",
    "# footer_button = create_expanded_button('Footer', 'success')"
   ]
  },
  {
   "cell_type": "code",
   "execution_count": 110,
   "id": "1230b8bb",
   "metadata": {},
   "outputs": [],
   "source": [
    "# AppLayout(header=header_button,\n",
    "#           left_sidebar=left_button,\n",
    "#           center=center_button,\n",
    "#           right_sidebar=right_button,\n",
    "#           footer=footer_button)"
   ]
  },
  {
   "cell_type": "code",
   "execution_count": null,
   "id": "5a466187",
   "metadata": {},
   "outputs": [],
   "source": []
  }
 ],
 "metadata": {
  "kernelspec": {
   "display_name": "Python 3 (ipykernel)",
   "language": "python",
   "name": "python3"
  },
  "language_info": {
   "codemirror_mode": {
    "name": "ipython",
    "version": 3
   },
   "file_extension": ".py",
   "mimetype": "text/x-python",
   "name": "python",
   "nbconvert_exporter": "python",
   "pygments_lexer": "ipython3",
   "version": "3.12.3"
  }
 },
 "nbformat": 4,
 "nbformat_minor": 5
}
