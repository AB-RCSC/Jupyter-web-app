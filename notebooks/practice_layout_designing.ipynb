{
 "cells": [
  {
   "cell_type": "code",
   "execution_count": 1,
   "id": "627d80bd",
   "metadata": {},
   "outputs": [],
   "source": [
    "import json\n",
    "import pandas as pd\n",
    "import ipywidgets as widgets\n",
    "from ipywidgets import AppLayout, Button, Layout\n",
    "from ipywidgets import Button, Layout, jslink, IntText, IntSlider\n",
    "from IPython.display import display, Javascript, Markdown, clear_output, HTML\n",
    "from ipywidgets import GridspecLayout"
   ]
  },
  {
   "cell_type": "code",
   "execution_count": 151,
   "id": "3356c9cc",
   "metadata": {},
   "outputs": [
    {
     "data": {
      "text/html": [
       "<style>\n",
       ".lbl_bg{\n",
       "    width:auto;\n",
       "    background-color:lightblue;\n",
       "}\n",
       ".box_style{\n",
       "    width:auto;\n",
       "    border : 2px solid white;\n",
       "    height: auto;\n",
       "    background-color:white;\n",
       "}\n",
       "</style>\n"
      ],
      "text/plain": [
       "<IPython.core.display.HTML object>"
      ]
     },
     "metadata": {},
     "output_type": "display_data"
    }
   ],
   "source": [
    "%%html\n",
    "<style>\n",
    ".lbl_bg{\n",
    "    width:auto;\n",
    "    background-color:lightblue;\n",
    "}\n",
    ".box_style{\n",
    "    width:auto;\n",
    "    border : 2px solid white;\n",
    "    height: auto;\n",
    "    background-color:white;\n",
    "}\n",
    "</style>"
   ]
  },
  {
   "cell_type": "code",
   "execution_count": 152,
   "id": "971dc426",
   "metadata": {},
   "outputs": [],
   "source": [
    "# Utils widgets\n",
    "\n",
    "def create_expanded_button(description, button_style):\n",
    "    return Button(description=description, button_style=button_style, layout=Layout(height='auto', width='auto'))"
   ]
  },
  {
   "cell_type": "code",
   "execution_count": 153,
   "id": "0e8e65be",
   "metadata": {},
   "outputs": [],
   "source": [
    "# Image Widget\n",
    "\n",
    "file = open(\"../logo.png\", \"rb\")\n",
    "image = file.read()\n",
    "\n",
    "image_headline = widgets.Image(\n",
    "                    value=image,\n",
    "                    format='jpg',\n",
    "                    width='200'\n",
    "                )\n",
    "\n",
    "label_headline = widgets.Label(\n",
    "                    value='',\n",
    "                    style={'description_width': 'initial'}\n",
    "                )\n",
    "\n",
    "vbox_headline = widgets.VBox([image_headline, label_headline])"
   ]
  },
  {
   "cell_type": "code",
   "execution_count": 154,
   "id": "0b463d87",
   "metadata": {},
   "outputs": [],
   "source": [
    "global stored_choices, path\n",
    "stored_choices = {}\n",
    "path = \"../temp_storage.json\""
   ]
  },
  {
   "cell_type": "code",
   "execution_count": 155,
   "id": "80ca91cc",
   "metadata": {},
   "outputs": [],
   "source": [
    "# Read the CSV file into a DataFrame\n",
    "df = pd.read_csv('../questions.csv')"
   ]
  },
  {
   "cell_type": "code",
   "execution_count": 156,
   "id": "089123ca",
   "metadata": {},
   "outputs": [],
   "source": [
    "# gets the question based on value of other (methods) column\n",
    "ques = df.loc[df['question_code'] == 'user_entry', 'question_text'].iloc[0]\n",
    "opt = df.loc[df['question_code'] == 'user_entry', 'q_option_label'].iloc[0]\n",
    "# opt = opt.replace('[', '').replace(']', '').replace('\"', '') # for format ([\"\",\"\"])\n",
    "opt = opt.split(',') # for format (,)"
   ]
  },
  {
   "cell_type": "code",
   "execution_count": 157,
   "id": "c7bc372d",
   "metadata": {},
   "outputs": [],
   "source": [
    "question_widget1 = widgets.HTML(value=f\"<h3>{ques}</h3>\", layout=widgets.Layout(\n",
    "        display='flex',\n",
    "        justify_content='center',\n",
    "        align_items='center'\n",
    "    ))"
   ]
  },
  {
   "cell_type": "code",
   "execution_count": 158,
   "id": "adbfc8c1",
   "metadata": {},
   "outputs": [],
   "source": [
    "question_widget1.style.background = 'lightgreen'"
   ]
  },
  {
   "cell_type": "code",
   "execution_count": 159,
   "id": "d33327c7",
   "metadata": {},
   "outputs": [],
   "source": [
    "# header_button = question_widget1\n",
    "# left_button = create_expanded_button('Left', 'info')\n",
    "# center_button = create_expanded_button('Center', 'warning')\n",
    "# right_button = create_expanded_button('Right', 'info')\n",
    "# footer_button = create_expanded_button('Footer', 'success')"
   ]
  },
  {
   "cell_type": "code",
   "execution_count": 160,
   "id": "406d9d38",
   "metadata": {},
   "outputs": [],
   "source": [
    "# center_button.description"
   ]
  },
  {
   "cell_type": "code",
   "execution_count": 161,
   "id": "820fa36b",
   "metadata": {},
   "outputs": [],
   "source": [
    "# AppLayout(header=header_button,\n",
    "#           left_sidebar=left_button,\n",
    "#           center=center_button,\n",
    "#           right_sidebar=right_button,\n",
    "#           footer=footer_button)"
   ]
  },
  {
   "cell_type": "code",
   "execution_count": 162,
   "id": "9e8d466b",
   "metadata": {},
   "outputs": [],
   "source": [
    "# from ipywidgets import Button\n",
    "\n",
    "# Button(description='Danger Button', button_style='success')"
   ]
  },
  {
   "cell_type": "code",
   "execution_count": 163,
   "id": "f1799ed5",
   "metadata": {},
   "outputs": [],
   "source": [
    "# b1 = Button(description='Custom color')\n",
    "# b1.style.button_color = 'lightgreen'\n",
    "# b1"
   ]
  },
  {
   "cell_type": "code",
   "execution_count": 164,
   "id": "824afb9b",
   "metadata": {},
   "outputs": [],
   "source": [
    "# question_widget1.style.keys"
   ]
  },
  {
   "cell_type": "code",
   "execution_count": 165,
   "id": "d5ed6492",
   "metadata": {},
   "outputs": [],
   "source": [
    "# question_widget1"
   ]
  },
  {
   "cell_type": "code",
   "execution_count": 166,
   "id": "68898177",
   "metadata": {},
   "outputs": [],
   "source": [
    "# Create a button for submitting the question\n",
    "submit_button = widgets.Button(description=\"Submit\")"
   ]
  },
  {
   "cell_type": "code",
   "execution_count": 167,
   "id": "6082c525",
   "metadata": {},
   "outputs": [],
   "source": [
    "# Create a button for skipping the question\n",
    "skip_button = widgets.Button(description=\"Skip\")\n",
    "skip_button.add_class(\"lbl_bg\");"
   ]
  },
  {
   "cell_type": "code",
   "execution_count": 168,
   "id": "3573374c",
   "metadata": {},
   "outputs": [],
   "source": [
    "grid = GridspecLayout(2, 2, width = 'auto', height='auto')\n",
    "grid[0, :] = question_widget1\n",
    "grid[1, 0] = create_expanded_button('Design a new remote camera project', 'warning')\n",
    "grid[1, 1] = create_expanded_button('Analyze data that was already collected', 'info')\n",
    "# grid[2, 2] = create_expanded_button('Four', 'warning')\n",
    "# grid[3, 2] = create_expanded_button('Five', 'danger')"
   ]
  },
  {
   "cell_type": "code",
   "execution_count": 169,
   "id": "ea357aca",
   "metadata": {},
   "outputs": [],
   "source": [
    "# print(grid[1,0].description)"
   ]
  },
  {
   "cell_type": "code",
   "execution_count": 170,
   "id": "373fd633",
   "metadata": {},
   "outputs": [],
   "source": [
    "# link = \"Submit your answer for next question\""
   ]
  },
  {
   "cell_type": "code",
   "execution_count": 191,
   "id": "4b7d596a",
   "metadata": {},
   "outputs": [],
   "source": [
    "output = widgets.Output()\n",
    "def option1_button_clicked(event):\n",
    "    with output:\n",
    "        clear_output()\n",
    "        notebook_filename = \"notebook2.ipynb\"\n",
    "        link = \"Submit your answer for next question\"\n",
    "        link = Markdown('''<a href=\"{}\" target=\"_self\" rel=\"noopener noreferrer\">Next</a>'''.format(notebook_filename))\n",
    "        stored_choices[\"answer1\"] = grid[1,0].description\n",
    "        with open(path, \"w\") as f:\n",
    "            json.dump(stored_choices, f)\n",
    "        display(link)\n",
    "grid[1,0].on_click(option1_button_clicked)\n",
    "# vbox_result = widgets.VBox([question_widget1, options_widget1, submit_button, output, choice])"
   ]
  },
  {
   "cell_type": "code",
   "execution_count": 192,
   "id": "3ee4f19b",
   "metadata": {},
   "outputs": [],
   "source": [
    "# link"
   ]
  },
  {
   "cell_type": "code",
   "execution_count": 193,
   "id": "0384aad1",
   "metadata": {},
   "outputs": [],
   "source": [
    "output = widgets.Output()\n",
    "def option2_button_clicked(event):\n",
    "    with output:\n",
    "        clear_output()\n",
    "        notebook_filename = \"notebook3.ipynb\"\n",
    "        link = Markdown('''<a href=\"{}\" target=\"_self\" rel=\"noopener noreferrer\">Next</a>'''.format(notebook_filename))\n",
    "        stored_choices[\"answer1\"] = grid[1,1].description\n",
    "        with open(path, \"w\") as f:\n",
    "            json.dump(stored_choices, f)\n",
    "        display(link)\n",
    "grid[1,1].on_click(option2_button_clicked)\n",
    "# vbox_result = widgets.VBox([question_widget1, options_widget1, submit_button, output, choice])"
   ]
  },
  {
   "cell_type": "code",
   "execution_count": 194,
   "id": "c9d32cb6",
   "metadata": {},
   "outputs": [],
   "source": [
    "# output = widgets.Output()\n",
    "# def on_button_clicked(event):\n",
    "#     with output:\n",
    "#         clear_output()\n",
    "# #         %store stored_choices\n",
    "#         display(link)\n",
    "\n",
    "# submit_button.on_click(on_button_clicked)\n",
    "# # vbox_result = widgets.VBox([question_widget1, options_widget1, submit_button, output, choice])"
   ]
  },
  {
   "cell_type": "code",
   "execution_count": 195,
   "id": "e3978f97",
   "metadata": {},
   "outputs": [],
   "source": [
    "output = widgets.Output()\n",
    "def on_skip_button_clicked(event):\n",
    "    with output:\n",
    "        clear_output()\n",
    "        link = Markdown('''<a href=\"https://voila.readthedocs.io/en/stable/deploy.html\" target=\"_self\"> \n",
    "                                    Next \n",
    "                            </a>''')\n",
    "        display(link)\n",
    "\n",
    "skip_button.on_click(on_skip_button_clicked)\n",
    "# vbox_result = widgets.VBox([question_widget1, options_widget1, submit_button, output, choice])"
   ]
  },
  {
   "cell_type": "code",
   "execution_count": 196,
   "id": "2dd86051",
   "metadata": {},
   "outputs": [
    {
     "data": {
      "application/vnd.jupyter.widget-view+json": {
       "model_id": "0b042d237b474a49871cffc17e6399a9",
       "version_major": 2,
       "version_minor": 0
      },
      "text/plain": [
       "VBox(children=(Image(value=b'\\x89PNG\\r\\n\\x1a\\n\\x00\\x00\\x00\\rIHDR\\x00\\x00\\x01\\xfb\\x00\\x00\\x01|\\x08\\x06\\x00\\x00\\…"
      ]
     },
     "metadata": {},
     "output_type": "display_data"
    },
    {
     "data": {
      "application/vnd.jupyter.widget-view+json": {
       "model_id": "5abd9bbb5063491fbaa2d371e377c70b",
       "version_major": 2,
       "version_minor": 0
      },
      "text/plain": [
       "VBox(children=(GridspecLayout(children=(HTML(value='<h3>Are you looking to design a new remote camera project,…"
      ]
     },
     "metadata": {},
     "output_type": "display_data"
    },
    {
     "data": {
      "application/vnd.jupyter.widget-view+json": {
       "model_id": "a10d54d93cd34e14925af6e1a30cfbd6",
       "version_major": 2,
       "version_minor": 0
      },
      "text/plain": [
       "HBox(children=(Button(description='Skip', style=ButtonStyle(), _dom_classes=('lbl_bg',)),), layout=Layout(just…"
      ]
     },
     "metadata": {},
     "output_type": "display_data"
    }
   ],
   "source": [
    "# Apply center alignment using CSS styling to the container\n",
    "container = widgets.VBox(children=[grid, output], layout=widgets.Layout(\n",
    "    align_items='center'  # Center align vertically\n",
    "#     justify_content='center'  # Center align horizontally\n",
    "#     height='100vh'  # Set height to 100% of viewport height for vertical centering\n",
    "))\n",
    "container.add_class(\"box_style\")\n",
    "button_container = widgets.HBox(children=[skip_button], layout=widgets.Layout(\n",
    "#     align_items='center'  # Center align vertically\n",
    "    justify_content='center',  # Center align horizontally\n",
    "#     height='100vh'  # Set height to 100% of viewport height for vertical centering\n",
    "))\n",
    "# Display the container\n",
    "display(vbox_headline)\n",
    "display(container)\n",
    "display(button_container)"
   ]
  },
  {
   "cell_type": "code",
   "execution_count": 178,
   "id": "0966234b",
   "metadata": {
    "scrolled": true
   },
   "outputs": [],
   "source": [
    "# items = [grid, output]\n",
    "# box = widgets.Box(children = items, layout=widgets.Layout(\n",
    "#     background_color='lightblue',\n",
    "#     align_items='center',  # Center align vertically\n",
    "#     width = 'auto',\n",
    "#     justify_content='center'  # Center align horizontally\n",
    "# #     height='100vh'  # Set height to 100% of viewport height for vertical centering\n",
    "# ))\n",
    "# box.add_class(\"box_style\")\n",
    "# display(box)"
   ]
  },
  {
   "cell_type": "code",
   "execution_count": null,
   "id": "341829d6",
   "metadata": {},
   "outputs": [],
   "source": []
  },
  {
   "cell_type": "code",
   "execution_count": null,
   "id": "fe3c70c6",
   "metadata": {},
   "outputs": [],
   "source": []
  }
 ],
 "metadata": {
  "kernelspec": {
   "display_name": "Python 3 (ipykernel)",
   "language": "python",
   "name": "python3"
  },
  "language_info": {
   "codemirror_mode": {
    "name": "ipython",
    "version": 3
   },
   "file_extension": ".py",
   "mimetype": "text/x-python",
   "name": "python",
   "nbconvert_exporter": "python",
   "pygments_lexer": "ipython3",
   "version": "3.12.3"
  }
 },
 "nbformat": 4,
 "nbformat_minor": 5
}
