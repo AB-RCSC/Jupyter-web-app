{
 "cells": [
  {
   "cell_type": "code",
   "execution_count": 1,
   "id": "57ac7c01",
   "metadata": {},
   "outputs": [],
   "source": [
    "# pip install markdown-it-py"
   ]
  },
  {
   "cell_type": "code",
   "execution_count": 1,
   "id": "627d80bd",
   "metadata": {},
   "outputs": [],
   "source": [
    "import json\n",
    "import pandas as pd\n",
    "import ipywidgets as widgets\n",
    "from ipywidgets import AppLayout, Button, Layout\n",
    "from ipywidgets import Button, Layout, jslink, IntText, IntSlider\n",
    "from IPython.display import display, Javascript, Markdown, clear_output, HTML\n",
    "from ipywidgets import GridspecLayout\n",
    "from markdown_it import MarkdownIt"
   ]
  },
  {
   "cell_type": "code",
   "execution_count": 2,
   "id": "6990e3c1",
   "metadata": {},
   "outputs": [
    {
     "data": {
      "text/html": [
       "<style>\n",
       ".lbl_bg{\n",
       "    background-color:lightblue;\n",
       "}\n",
       ".box_style{\n",
       "    width:auto;\n",
       "    border : 2px solid white;\n",
       "    height: auto;\n",
       "    background-color:white;\n",
       "}\n",
       "</style>\n"
      ],
      "text/plain": [
       "<IPython.core.display.HTML object>"
      ]
     },
     "metadata": {},
     "output_type": "display_data"
    }
   ],
   "source": [
    "%%html\n",
    "<style>\n",
    ".lbl_bg{\n",
    "    background-color:lightblue;\n",
    "}\n",
    ".box_style{\n",
    "    width:auto;\n",
    "    border : 2px solid white;\n",
    "    height: auto;\n",
    "    background-color:white;\n",
    "}\n",
    "</style>"
   ]
  },
  {
   "cell_type": "code",
   "execution_count": 3,
   "id": "971dc426",
   "metadata": {},
   "outputs": [],
   "source": [
    "# Utils widgets\n",
    "def create_expanded_button(description, button_style):\n",
    "    return Button(description=description, button_style=button_style, layout=Layout(height='auto', width='auto'))"
   ]
  },
  {
   "cell_type": "code",
   "execution_count": 4,
   "id": "0e8e65be",
   "metadata": {},
   "outputs": [],
   "source": [
    "# Image Widget\n",
    "\n",
    "file = open(\"../logo.png\", \"rb\")\n",
    "image = file.read()\n",
    "\n",
    "image_headline = widgets.Image(\n",
    "                    value=image,\n",
    "                    format='jpg',\n",
    "                    width='200'\n",
    "                )\n",
    "\n",
    "label_headline = widgets.Label(\n",
    "                    value='',\n",
    "                    style={'description_width': 'initial'}\n",
    "                )\n",
    "\n",
    "vbox_headline = widgets.VBox([image_headline, label_headline])"
   ]
  },
  {
   "cell_type": "code",
   "execution_count": 5,
   "id": "0b463d87",
   "metadata": {},
   "outputs": [],
   "source": [
    "global stored_choices, path\n",
    "stored_choices = {}\n",
    "path = \"../temp_storage.json\""
   ]
  },
  {
   "cell_type": "code",
   "execution_count": 6,
   "id": "80ca91cc",
   "metadata": {},
   "outputs": [],
   "source": [
    "# Read the CSV file into a DataFrame\n",
    "df = pd.read_csv('../questions.csv')"
   ]
  },
  {
   "cell_type": "code",
   "execution_count": 7,
   "id": "089123ca",
   "metadata": {},
   "outputs": [],
   "source": [
    "# gets the question based on value of other (methods) column\n",
    "ques = df.loc[df['question_code'] == 'user_entry', 'question_text'].iloc[0]\n",
    "opt = df.loc[df['question_code'] == 'user_entry', 'q_option_label'].iloc[0]\n",
    "# opt = opt.replace('[', '').replace(']', '').replace('\"', '') # for format ([\"\",\"\"])\n",
    "opt = opt.split(',') # for format (,)"
   ]
  },
  {
   "cell_type": "code",
   "execution_count": 8,
   "id": "c7bc372d",
   "metadata": {},
   "outputs": [],
   "source": [
    "question_widget1 = widgets.HTML(value=f\"<h3>{ques}</h3>\", layout=widgets.Layout(\n",
    "        display='flex',\n",
    "        justify_content='center',\n",
    "        align_items='center'\n",
    "    ))"
   ]
  },
  {
   "cell_type": "code",
   "execution_count": 9,
   "id": "adbfc8c1",
   "metadata": {},
   "outputs": [],
   "source": [
    "question_widget1.style.background = 'lightgreen'"
   ]
  },
  {
   "cell_type": "code",
   "execution_count": 10,
   "id": "d33327c7",
   "metadata": {},
   "outputs": [],
   "source": [
    "# header_button = question_widget1\n",
    "# left_button = create_expanded_button('Left', 'info')\n",
    "# center_button = create_expanded_button('Center', 'warning')\n",
    "# right_button = create_expanded_button('Right', 'info')\n",
    "# footer_button = create_expanded_button('Footer', 'success')"
   ]
  },
  {
   "cell_type": "code",
   "execution_count": 11,
   "id": "406d9d38",
   "metadata": {},
   "outputs": [],
   "source": [
    "# center_button.description"
   ]
  },
  {
   "cell_type": "code",
   "execution_count": 12,
   "id": "820fa36b",
   "metadata": {},
   "outputs": [],
   "source": [
    "# AppLayout(header=header_button,\n",
    "#           left_sidebar=left_button,\n",
    "#           center=center_button,\n",
    "#           right_sidebar=right_button,\n",
    "#           footer=footer_button)"
   ]
  },
  {
   "cell_type": "code",
   "execution_count": 13,
   "id": "9e8d466b",
   "metadata": {},
   "outputs": [],
   "source": [
    "# from ipywidgets import Button\n",
    "\n",
    "# Button(description='Danger Button', button_style='success')"
   ]
  },
  {
   "cell_type": "code",
   "execution_count": 14,
   "id": "f1799ed5",
   "metadata": {},
   "outputs": [],
   "source": [
    "# b1 = Button(description='Custom color')\n",
    "# b1.style.button_color = 'lightgreen'\n",
    "# b1"
   ]
  },
  {
   "cell_type": "code",
   "execution_count": 15,
   "id": "824afb9b",
   "metadata": {},
   "outputs": [],
   "source": [
    "# question_widget1.style.keys"
   ]
  },
  {
   "cell_type": "code",
   "execution_count": 16,
   "id": "d5ed6492",
   "metadata": {},
   "outputs": [],
   "source": [
    "# question_widget1"
   ]
  },
  {
   "cell_type": "code",
   "execution_count": 17,
   "id": "68898177",
   "metadata": {},
   "outputs": [],
   "source": [
    "# Create a button for submitting the question\n",
    "submit_button = widgets.Button(description=\"Submit\")"
   ]
  },
  {
   "cell_type": "code",
   "execution_count": 18,
   "id": "6082c525",
   "metadata": {},
   "outputs": [],
   "source": [
    "# Create a button for skipping the question\n",
    "skip_button = widgets.Button(description=\"Skip\")\n",
    "skip_button.add_class(\"lbl_bg\");"
   ]
  },
  {
   "cell_type": "code",
   "execution_count": 19,
   "id": "3573374c",
   "metadata": {},
   "outputs": [],
   "source": [
    "grid = GridspecLayout(2, 2, width = 'auto', height='auto')\n",
    "grid[0, :] = question_widget1\n",
    "grid[1, 0] = create_expanded_button('Design a new remote camera project', 'warning')\n",
    "grid[1, 1] = create_expanded_button('Analyze data that was already collected', 'info')\n",
    "# grid[2, 2] = create_expanded_button('Four', 'warning')\n",
    "# grid[3, 2] = create_expanded_button('Five', 'danger')"
   ]
  },
  {
   "cell_type": "code",
   "execution_count": 20,
   "id": "ea357aca",
   "metadata": {},
   "outputs": [],
   "source": [
    "# print(grid[1,0].description)"
   ]
  },
  {
   "cell_type": "code",
   "execution_count": 21,
   "id": "519a481c",
   "metadata": {},
   "outputs": [],
   "source": [
    "# link = \"Submit your answer for next question\""
   ]
  },
  {
   "cell_type": "code",
   "execution_count": 22,
   "id": "4b7d596a",
   "metadata": {},
   "outputs": [],
   "source": [
    "output = widgets.Output()\n",
    "def option1_button_clicked(event):\n",
    "    with output:\n",
    "        clear_output()\n",
    "        notebook_filename = \"notebook2.ipynb\"\n",
    "#         link = \"Submit your answer for next question\"\n",
    "        link = Markdown('''<a href=\"{}\" target=\"_self\" rel=\"noopener noreferrer\">Next</a>'''.format(notebook_filename))\n",
    "        stored_choices[\"answer1\"] = grid[1,0].description\n",
    "        with open(path, \"w\") as f:\n",
    "            json.dump(stored_choices, f)\n",
    "        display(link)\n",
    "grid[1,0].on_click(option1_button_clicked)\n",
    "# vbox_result = widgets.VBox([question_widget1, options_widget1, submit_button, output, choice])"
   ]
  },
  {
   "cell_type": "code",
   "execution_count": 23,
   "id": "3ee4f19b",
   "metadata": {},
   "outputs": [],
   "source": [
    "# link"
   ]
  },
  {
   "cell_type": "code",
   "execution_count": 24,
   "id": "0384aad1",
   "metadata": {},
   "outputs": [],
   "source": [
    "output = widgets.Output()\n",
    "def option2_button_clicked(event):\n",
    "    with output:\n",
    "        clear_output()\n",
    "        notebook_filename = \"notebook3.ipynb\"\n",
    "        link = Markdown('''<a href=\"{}\" target=\"_self\" rel=\"noopener noreferrer\">Next</a>'''.format(notebook_filename))\n",
    "        stored_choices[\"answer1\"] = grid[1,1].description\n",
    "        with open(path, \"w\") as f:\n",
    "            json.dump(stored_choices, f)\n",
    "        display(link)\n",
    "grid[1,1].on_click(option2_button_clicked)\n",
    "# vbox_result = widgets.VBox([question_widget1, options_widget1, submit_button, output, choice])"
   ]
  },
  {
   "cell_type": "code",
   "execution_count": 25,
   "id": "c9d32cb6",
   "metadata": {},
   "outputs": [],
   "source": [
    "# output = widgets.Output()\n",
    "# def on_button_clicked(event):\n",
    "#     with output:\n",
    "#         clear_output()\n",
    "# #         %store stored_choices\n",
    "#         display(link)\n",
    "\n",
    "# submit_button.on_click(on_button_clicked)\n",
    "# # vbox_result = widgets.VBox([question_widget1, options_widget1, submit_button, output, choice])"
   ]
  },
  {
   "cell_type": "code",
   "execution_count": 26,
   "id": "e3978f97",
   "metadata": {},
   "outputs": [],
   "source": [
    "output = widgets.Output()\n",
    "def on_skip_button_clicked(event):\n",
    "    with output:\n",
    "        clear_output()\n",
    "        link = Markdown('''<a href=\"https://voila.readthedocs.io/en/stable/deploy.html\" target=\"_self\"> \n",
    "                                    Next \n",
    "                            </a>''')\n",
    "        display(link)\n",
    "\n",
    "skip_button.on_click(on_skip_button_clicked)\n",
    "# vbox_result = widgets.VBox([question_widget1, options_widget1, submit_button, output, choice])"
   ]
  },
  {
   "cell_type": "code",
   "execution_count": 27,
   "id": "f11fa6ed",
   "metadata": {},
   "outputs": [],
   "source": [
    "# Create an Output widget for the pop-up window content\n",
    "output_popup = widgets.Output()\n",
    "\n",
    "# Function to show the pop-up window\n",
    "def show_popup(b):\n",
    "    with output_popup:\n",
    "        output_popup.clear_output()\n",
    "        display(popup_window)\n",
    "\n",
    "# Function to close the pop-up window\n",
    "def close_popup(b):\n",
    "    output_popup.clear_output()\n",
    "\n",
    "# Create a close button for the pop-up window\n",
    "close_button = widgets.Button(\n",
    "    description=\"Close\",\n",
    "    layout=widgets.Layout(width='100px')\n",
    ")\n",
    "close_button.on_click(close_popup)"
   ]
  },
  {
   "cell_type": "code",
   "execution_count": 28,
   "id": "7392169a",
   "metadata": {},
   "outputs": [],
   "source": [
    "# import ipywidgets as widgets\n",
    "# from IPython.display import display, HTML\n",
    "# import markdown\n",
    "\n",
    "# def show_markdown_popup(button):\n",
    "#     with open(\"../README.md\", \"r\") as file:\n",
    "#         md_content = file.read()\n",
    "\n",
    "#     html_content = markdown.markdown(md_content)\n",
    "\n",
    "#     popup_content = HTML(html_content)\n",
    "#     close_button = widgets.Button(description=\"Close\")\n",
    "#     close_button.on_click(lambda x: popup.close())\n",
    "\n",
    "#     popup = widgets.VBox([popup_content, close_button])\n",
    "#     popup.layout.width = '500px'\n",
    "#     popup.layout.height = '300px'\n",
    "\n",
    "#     display(popup)\n",
    "\n",
    "# show_button = widgets.Button(description=\"Show Markdown Popup\")\n",
    "# show_button.on_click(show_markdown_popup)\n",
    "# display(show_button)\n"
   ]
  },
  {
   "cell_type": "code",
   "execution_count": 29,
   "id": "d102158b",
   "metadata": {},
   "outputs": [],
   "source": [
    "# with open(\"../MockUp_FocusGroups.md\", \"r\", encoding='utf-8') as file:\n",
    "#     md_content = file.read()\n",
    "\n",
    "# md = MarkdownIt()\n",
    "# html_content = md.render(md_content)\n",
    "# popup_window = HTML(html_content)"
   ]
  },
  {
   "cell_type": "code",
   "execution_count": 31,
   "id": "661293e6",
   "metadata": {},
   "outputs": [],
   "source": [
    "with open(\"../README.md\", \"r\") as file:\n",
    "    md_content = file.read()\n",
    "\n",
    "md = MarkdownIt()\n",
    "html_content = md.render(md_content)\n",
    "# popup_window = HTML(html_content)"
   ]
  },
  {
   "cell_type": "code",
   "execution_count": 36,
   "id": "12ea2889",
   "metadata": {},
   "outputs": [],
   "source": [
    "# Create the pop-up window\n",
    "popup_window = widgets.VBox(\n",
    "    children=[\n",
    "        widgets.HTML(html_content),\n",
    "#         widgets.HTML('<h3>Pop-up Window</h3>'),\n",
    "        close_button\n",
    "    ],\n",
    "    layout=widgets.Layout(\n",
    "        display='flex',\n",
    "        flex_flow='column',\n",
    "        align_items='center',\n",
    "        justify_content='center',\n",
    "        border='solid 1px black',\n",
    "        padding='10px',\n",
    "        width='auto',\n",
    "        height='auto',\n",
    "        background_color='lightyellow'\n",
    "    )\n",
    ")"
   ]
  },
  {
   "cell_type": "code",
   "execution_count": 37,
   "id": "06fe8f99",
   "metadata": {},
   "outputs": [],
   "source": [
    "# Create a button that will be positioned at the top right corner\n",
    "button = widgets.Button(\n",
    "    description=\"Show Popup\"\n",
    "#     layout=widgets.Layout(width='100px')\n",
    ")\n",
    "button.on_click(show_popup)"
   ]
  },
  {
   "cell_type": "code",
   "execution_count": 38,
   "id": "2dd86051",
   "metadata": {},
   "outputs": [
    {
     "data": {
      "application/vnd.jupyter.widget-view+json": {
       "model_id": "cd8c9a76ed564a78ac29f252cbd2f41f",
       "version_major": 2,
       "version_minor": 0
      },
      "text/plain": [
       "VBox(children=(Image(value=b'\\x89PNG\\r\\n\\x1a\\n\\x00\\x00\\x00\\rIHDR\\x00\\x00\\x01\\xfb\\x00\\x00\\x01|\\x08\\x06\\x00\\x00\\…"
      ]
     },
     "metadata": {},
     "output_type": "display_data"
    },
    {
     "data": {
      "application/vnd.jupyter.widget-view+json": {
       "model_id": "76e9f74d04c94a2fa72d63816bf32846",
       "version_major": 2,
       "version_minor": 0
      },
      "text/plain": [
       "VBox(children=(GridspecLayout(children=(HTML(value='<h3>Are you looking to design a new remote camera project,…"
      ]
     },
     "metadata": {},
     "output_type": "display_data"
    },
    {
     "data": {
      "application/vnd.jupyter.widget-view+json": {
       "model_id": "e0f22f58203e40bcb4ead8f74839f875",
       "version_major": 2,
       "version_minor": 0
      },
      "text/plain": [
       "VBox(children=(Button(description='Skip', style=ButtonStyle(), _dom_classes=('lbl_bg',)), Button(description='…"
      ]
     },
     "metadata": {},
     "output_type": "display_data"
    }
   ],
   "source": [
    "# Apply center alignment using CSS styling to the container\n",
    "container = widgets.VBox(children=[grid, output], layout=widgets.Layout(\n",
    "    align_items='center'  # Center align vertically\n",
    "#     justify_content='center'  # Center align horizontally\n",
    "#     height='100vh'  # Set height to 100% of viewport height for vertical centering\n",
    "))\n",
    "container.add_class(\"box_style\")\n",
    "button_container = widgets.VBox(children=[skip_button, button, output_popup], layout=widgets.Layout(\n",
    "    align_items='center'  # Center align vertically\n",
    "#     justify_content='center',  # Center align horizontally\n",
    "#     height='100vh'  # Set height to 100% of viewport height for vertical centering\n",
    "))\n",
    "# Display the container\n",
    "display(vbox_headline)\n",
    "display(container)\n",
    "display(button_container)"
   ]
  },
  {
   "cell_type": "code",
   "execution_count": 40,
   "id": "0966234b",
   "metadata": {
    "scrolled": true
   },
   "outputs": [],
   "source": [
    "# items = [grid, output]\n",
    "# box = widgets.Box(children = items, layout=widgets.Layout(\n",
    "#     background_color='lightblue',\n",
    "#     align_items='center',  # Center align vertically\n",
    "#     width = 'auto',\n",
    "#     justify_content='center'  # Center align horizontally\n",
    "# #     height='100vh'  # Set height to 100% of viewport height for vertical centering\n",
    "# ))\n",
    "# box.add_class(\"box_style\")\n",
    "# display(box)"
   ]
  },
  {
   "cell_type": "code",
   "execution_count": 35,
   "id": "8c77b4ad",
   "metadata": {},
   "outputs": [],
   "source": [
    "# import ipywidgets as widgets\n",
    "# from IPython.display import display\n",
    "\n",
    "# # Function to show the pop-up window\n",
    "# def show_popup(b):\n",
    "#     with output:\n",
    "#         output.clear_output()\n",
    "#         display(popup_window)\n",
    "\n",
    "# # Function to close the pop-up window\n",
    "# def close_popup(b):\n",
    "#     output.clear_output()\n",
    "\n",
    "# # Create a button that will be positioned at the top right corner\n",
    "# button = widgets.Button(\n",
    "#     description=\"Show Popup\",\n",
    "#     layout=widgets.Layout(width='100px')\n",
    "# )\n",
    "# button.on_click(show_popup)\n",
    "\n",
    "# # Create a close button for the pop-up window\n",
    "# close_button = widgets.Button(\n",
    "#     description=\"Close\",\n",
    "#     layout=widgets.Layout(width='100px')\n",
    "# )\n",
    "# close_button.on_click(close_popup)\n",
    "\n",
    "# # Create the pop-up window\n",
    "# popup_window = widgets.VBox(\n",
    "#     children=[\n",
    "#         widgets.HTML('<h3>Pop-up Window</h3>'),\n",
    "#         close_button\n",
    "#     ],\n",
    "#     layout=widgets.Layout(\n",
    "#         display='flex',\n",
    "#         flex_flow='column',\n",
    "#         align_items='center',\n",
    "#         justify_content='center',\n",
    "#         border='solid 1px black',\n",
    "#         padding='10px',\n",
    "#         width='200px',\n",
    "#         height='150px',\n",
    "#         background_color='lightyellow'\n",
    "#     )\n",
    "# )\n",
    "\n",
    "# # Create an Output widget for the pop-up window content\n",
    "# output = widgets.Output()\n",
    "\n",
    "# # Create a box to hold the content and the button\n",
    "# box_content = widgets.HTML('<h3>Content goes here</h3>')\n",
    "\n",
    "# # Create a container for the box content and the button\n",
    "# box = widgets.Box(\n",
    "#     children=[\n",
    "#         box_content,\n",
    "#         button\n",
    "#     ],\n",
    "#     layout=widgets.Layout(\n",
    "#         display='flex',\n",
    "#         flex_flow='column',\n",
    "#         position='relative',\n",
    "#         width='300px',\n",
    "#         height='200px',\n",
    "#         border='solid 1px black',\n",
    "#         padding='10px'\n",
    "#     )\n",
    "# )\n",
    "\n",
    "# # Position the button at the top right corner using CSS\n",
    "# button.layout.margin = '0px 0px 0px auto'  # This aligns the button to the right\n",
    "# button.layout.position = 'absolute'\n",
    "# button.layout.top = '2px'\n",
    "# button.layout.right = '2px'\n",
    "\n",
    "# # Display the main box and the output widget\n",
    "# display(box, output)\n"
   ]
  },
  {
   "cell_type": "code",
   "execution_count": 326,
   "id": "e094baf5",
   "metadata": {},
   "outputs": [],
   "source": [
    "# import ipywidgets as widgets\n",
    "# from IPython.display import display, Javascript\n",
    "\n",
    "# # Function to show the pop-up window\n",
    "# def show_popup(b):\n",
    "#     with output:\n",
    "#         output.clear_output()\n",
    "#         display(popup_window)\n",
    "\n",
    "# # Function to close the pop-up window\n",
    "# def close_popup(b):\n",
    "#     output.clear_output()\n",
    "\n",
    "# # Create a button that will be positioned at the top right corner\n",
    "# button = widgets.Button(\n",
    "#     description=\"Show Popup\",\n",
    "#     layout=widgets.Layout(width='100px')\n",
    "# )\n",
    "# button.on_click(show_popup)\n",
    "\n",
    "# # Create a close button for the pop-up window\n",
    "# close_button = widgets.Button(\n",
    "#     description=\"Close\",\n",
    "#     layout=widgets.Layout(width='100px')\n",
    "# )\n",
    "# close_button.on_click(close_popup)\n",
    "\n",
    "# # Create the pop-up window\n",
    "# popup_window = widgets.VBox(\n",
    "#     children=[\n",
    "#         widgets.HTML('<h3>Pop-up Window</h3>'),\n",
    "#         close_button\n",
    "#     ],\n",
    "#     layout=widgets.Layout(\n",
    "#         display='flex',\n",
    "#         flex_flow='column',\n",
    "#         align_items='center',\n",
    "#         justify_content='center',\n",
    "#         border='solid 1px black',\n",
    "#         padding='10px',\n",
    "#         width='200px',\n",
    "#         height='150px',\n",
    "#         background_color='lightyellow'\n",
    "#     )\n",
    "# )\n",
    "\n",
    "# # Create an Output widget for the pop-up window content\n",
    "# output = widgets.Output()\n",
    "\n",
    "# # Create a box to hold the content and the button\n",
    "# box_content = widgets.HTML('<h3>Content goes here</h3>')\n",
    "# box_layout = widgets.Layout(\n",
    "#     display='flex',\n",
    "#     flex_flow='column',\n",
    "#     align_items='flex-start',\n",
    "#     border='solid 1px black',\n",
    "#     padding='10px',\n",
    "#     position='relative',\n",
    "#     width='300px',\n",
    "#     height='200px'\n",
    "# )\n",
    "\n",
    "# # Container for the content and the button\n",
    "# content_and_button = widgets.Box(\n",
    "#     children=[box_content, button],\n",
    "#     layout=widgets.Layout(\n",
    "#         display='flex',\n",
    "#         flex_flow='column',\n",
    "#         justify_content='flex-start',\n",
    "#         align_items='flex-start',\n",
    "#         position='relative',\n",
    "#         width='100%'\n",
    "#     )\n",
    "# )\n",
    "\n",
    "# # Position the button at the top right corner using CSS\n",
    "# display(Javascript(\"\"\"\n",
    "# var button = document.querySelector('.widget-button');\n",
    "# button.style.position = 'absolute';\n",
    "# button.style.top = '10px';\n",
    "# button.style.right = '10px';\n",
    "# \"\"\"))\n",
    "\n",
    "# # Display the main box and the output widget\n",
    "# display(content_and_button, output)\n"
   ]
  },
  {
   "cell_type": "code",
   "execution_count": 327,
   "id": "341829d6",
   "metadata": {},
   "outputs": [],
   "source": [
    "# import ipywidgets as widgets\n",
    "# from IPython.display import display, Javascript\n",
    "\n",
    "# # Function to show the pop-up window\n",
    "# def show_popup(b):\n",
    "#     with output:\n",
    "#         output.clear_output()\n",
    "#         display(popup_window)\n",
    "\n",
    "# # Function to close the pop-up window\n",
    "# def close_popup():\n",
    "#     output.clear_output()\n",
    "\n",
    "# # Create a button that will be positioned at the top right corner\n",
    "# button = widgets.Button(\n",
    "#     description=\"Show Popup\",\n",
    "#     layout=widgets.Layout(width='100px')\n",
    "# )\n",
    "# button.on_click(show_popup)\n",
    "\n",
    "# # Create a box to hold the content and the button\n",
    "# box = widgets.Box(\n",
    "#     children=[\n",
    "#         widgets.HTML('<h3>Content goes here</h3>'),  # Example content\n",
    "#         button\n",
    "#     ],\n",
    "#     layout=widgets.Layout(\n",
    "#         display='flex',\n",
    "#         flex_flow='row wrap',\n",
    "#         justify_content='space-between',\n",
    "#         align_items='flex-start',\n",
    "#         border='solid 1px black',\n",
    "#         padding='10px',\n",
    "#         position='relative',\n",
    "#         width='300px',\n",
    "#         height='200px'\n",
    "#     )\n",
    "# )\n",
    "\n",
    "# # Create an Output widget for the pop-up window content\n",
    "# output = widgets.Output()\n",
    "\n",
    "# # Create the pop-up window (initially hidden)\n",
    "# popup_window = widgets.HTML(\n",
    "#     value='<div id=\"popup\" style=\"border: solid 1px black; padding: 10px; width: 200px; height: 150px; background-color: lightyellow; display: flex; flex-direction: column; align-items: center; justify-content: center; cursor: pointer;\"><h3>Pop-up Window</h3></div>'\n",
    "# )\n",
    "\n",
    "# # JavaScript to handle click event on the pop-up window\n",
    "# js_code = \"\"\"\n",
    "# document.querySelector('#popup').onclick = function() {\n",
    "#     var kernel = IPython.notebook.kernel;\n",
    "#     kernel.execute(\"close_popup()\");\n",
    "# }\n",
    "# \"\"\"\n",
    "\n",
    "# # Function to toggle popup visibility\n",
    "# def toggle_popup_visibility(show=True):\n",
    "#     with output:\n",
    "#         output.clear_output()\n",
    "#         if show:\n",
    "#             display(popup_window)\n",
    "#             display(Javascript(js_code))\n",
    "\n",
    "# # Attach toggle function to button click\n",
    "# button.on_click(lambda b: toggle_popup_visibility(True))\n",
    "\n",
    "# # Display the main box and the output widget\n",
    "# display(box, output)\n"
   ]
  },
  {
   "cell_type": "code",
   "execution_count": 328,
   "id": "4114d96b",
   "metadata": {},
   "outputs": [],
   "source": [
    "# import ipywidgets as widgets\n",
    "# from IPython.display import display, Javascript\n",
    "\n",
    "# # Function to show the pop-up window\n",
    "# def show_popup(b):\n",
    "#     with output:\n",
    "#         output.clear_output()\n",
    "#         display(popup_window)\n",
    "\n",
    "# # Function to close the pop-up window\n",
    "# def close_popup():\n",
    "#     output.clear_output()\n",
    "\n",
    "# # Create a button that will be positioned at the top right corner\n",
    "# button = widgets.Button(\n",
    "#     description=\"Show Popup\",\n",
    "#     layout=widgets.Layout(width='100px')\n",
    "# )\n",
    "# button.on_click(show_popup)\n",
    "\n",
    "# # Create a box to hold the content and the button, with the button positioned at the top right corner\n",
    "# box_content = widgets.HTML('<h3>Content goes here</h3>')\n",
    "# box_layout = widgets.Layout(\n",
    "#     display='flex',\n",
    "#     flex_flow='column',\n",
    "#     align_items='flex-start',\n",
    "#     border='solid 1px black',\n",
    "#     padding='10px',\n",
    "#     position='relative',\n",
    "#     width='300px',\n",
    "#     height='200px'\n",
    "# )\n",
    "\n",
    "# # Container for the content and the button\n",
    "# content_and_button = widgets.Box(\n",
    "#     children=[box_content, button],\n",
    "#     layout=widgets.Layout(\n",
    "#         display='flex',\n",
    "#         flex_flow='column',\n",
    "#         justify_content='flex-start',\n",
    "#         align_items='flex-start',\n",
    "#         position='relative',\n",
    "#         width='100%'\n",
    "#     )\n",
    "# )\n",
    "\n",
    "# # Create an Output widget for the pop-up window content\n",
    "# output = widgets.Output()\n",
    "\n",
    "# # Create the pop-up window (initially hidden)\n",
    "# popup_window = widgets.HTML(\n",
    "#     value='<div id=\"popup\" style=\"border: solid 1px black; padding: 10px; width: 200px; height: 150px; background-color: lightyellow; display: flex; flex-direction: column; align-items: center; justify-content: center; cursor: pointer;\"><h3>Pop-up Window</h3></div>'\n",
    "# )\n",
    "\n",
    "# # JavaScript to handle click event on the pop-up window\n",
    "# js_code = \"\"\"\n",
    "# document.querySelector('#popup').onclick = function() {\n",
    "#     var kernel = IPython.notebook.kernel;\n",
    "#     kernel.execute(\"close_popup()\");\n",
    "# }\n",
    "# \"\"\"\n",
    "\n",
    "# # Function to toggle popup visibility\n",
    "# def toggle_popup_visibility(show=True):\n",
    "#     with output:\n",
    "#         output.clear_output()\n",
    "#         if show:\n",
    "#             display(popup_window)\n",
    "#             display(Javascript(js_code))\n",
    "\n",
    "# # Attach toggle function to button click\n",
    "# button.on_click(lambda b: toggle_popup_visibility(True))\n",
    "\n",
    "# # Position the button at the top right corner using CSS\n",
    "# display(Javascript(\"\"\"\n",
    "# var button = document.querySelector('.widget-button');\n",
    "# button.style.position = 'absolute';\n",
    "# button.style.top = '10px';\n",
    "# button.style.right = '10px';\n",
    "# \"\"\"))\n",
    "\n",
    "# # Display the main box and the output widget\n",
    "# display(content_and_button, output)\n"
   ]
  },
  {
   "cell_type": "code",
   "execution_count": null,
   "id": "0c188524",
   "metadata": {},
   "outputs": [],
   "source": []
  }
 ],
 "metadata": {
  "kernelspec": {
   "display_name": "Python 3 (ipykernel)",
   "language": "python",
   "name": "python3"
  },
  "language_info": {
   "codemirror_mode": {
    "name": "ipython",
    "version": 3
   },
   "file_extension": ".py",
   "mimetype": "text/x-python",
   "name": "python",
   "nbconvert_exporter": "python",
   "pygments_lexer": "ipython3",
   "version": "3.12.3"
  }
 },
 "nbformat": 4,
 "nbformat_minor": 5
}
