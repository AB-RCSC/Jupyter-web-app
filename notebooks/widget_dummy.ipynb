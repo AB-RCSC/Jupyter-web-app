{
 "cells": [
  {
   "cell_type": "markdown",
   "id": "e21897df-b9a3-4c48-9882-366d6b00cce8",
   "metadata": {},
   "source": [
    "<!-- # Info\n",
    "\n",
    "Here's a working example of how we might implement the factor widgets; not sure how this will integrate with ensuring the buttons are reactive.\n",
    "I also was hoping to embed little arrows between the options, so I create an img (such as \"arrow_4_grid_6_12.png\") that we might be able to embed here in between the question and options (see ppt example)\n",
    "Will also have to try to wrap text in question (\"sp_size\" below)\n",
    " -->\n",
    "<!-- from:  -->\n",
    "<!-- - https://ipywidgets.readthedocs.io/en/7.6.2/examples/Widget%20List.html -->\n",
    "<!-- - https://ipywidgets.readthedocs.io/en/7.6.5/examples/Layout%20Templates.html -->\n",
    "<!-- - https://ipywidgets.readthedocs.io/en/7.x/examples/Widget%20Styling.html -->\n",
    "<!-- - May have info on embedding images --> <!--https://ipywidgets.readthedocs.io/en/latest/examples/Widget%20Layout.html#image-layout-and-sizing -->\n",
    "\n",
    "<!-- ![image.png](attachment:9b6469ac-e7dc-4258-9922-24b66d82d06c.png)/    -->\n",
    "\n",
    "<!-- ![arrow_4_grid_6_12.png](attachment:6b5822e6-59df-4a35-97ff-b40cc5b0f2c2.png) -->"
   ]
  },
  {
   "cell_type": "code",
   "execution_count": 1,
   "id": "2abc8c87",
   "metadata": {},
   "outputs": [],
   "source": [
    "import json\n",
    "import pandas as pd\n",
    "import ipywidgets as widgets\n",
    "from ipywidgets import AppLayout, Button, Layout\n",
    "from ipywidgets import Button, Layout, jslink, IntText, IntSlider\n",
    "from IPython.display import display, Javascript, Markdown, clear_output, HTML\n",
    "from ipywidgets import GridspecLayout\n",
    "from markdown_it import MarkdownIt"
   ]
  },
  {
   "cell_type": "code",
   "execution_count": 2,
   "id": "3c756428",
   "metadata": {},
   "outputs": [],
   "source": [
    "# Image Widget\n",
    "\n",
    "file = open(\"../logo.png\", \"rb\")\n",
    "image = file.read()\n",
    "\n",
    "image_headline = widgets.Image(\n",
    "                    value=image,\n",
    "                    format='jpg',\n",
    "                    width='200'\n",
    "                )\n",
    "\n",
    "label_headline = widgets.Label(\n",
    "                    value='',\n",
    "                    style={'description_width': 'initial'}\n",
    "                )\n",
    "\n",
    "vbox_headline = widgets.VBox([image_headline, label_headline])"
   ]
  },
  {
   "cell_type": "code",
   "execution_count": 3,
   "id": "a194c12e",
   "metadata": {},
   "outputs": [],
   "source": [
    "def create_expanded_button(description, button_style):\n",
    "    return Button(description=description, button_style=button_style, layout=Layout(height='auto', width='auto')) #width='max-content'"
   ]
  },
  {
   "cell_type": "code",
   "execution_count": 4,
   "id": "38b5b76d",
   "metadata": {},
   "outputs": [],
   "source": [
    "# Factor widget\n",
    "\n",
    "sp_size = create_expanded_button('What is the approximate size of the Target Species?', 'success')\n",
    "sp_size.style.button_color = 'lightblue'\n",
    "sp_size.style.text_color = 'black'\n",
    "\n",
    "sp_size_small = create_expanded_button('Small', 'success')\n",
    "sp_size_small.style.button_color = 'lightgreen'\n",
    "sp_size_small.style.text_color = 'black'\n",
    "\n",
    "sp_size_medium = create_expanded_button('Medium', 'success')\n",
    "sp_size_medium.style.button_color = 'green'\n",
    "sp_size_medium.style.text_color = 'black'\n",
    "\n",
    "sp_size_large = create_expanded_button('Large', 'success')\n",
    "sp_size_large.style.button_color = 'darkgreen'\n",
    "sp_size_large.style.text_color = 'black'\n",
    "\n",
    "# sp_size_unknown = create_expanded_button('Unknown', 'success')\n",
    "# sp_size_unknown.style.button_color = 'lightgrey'\n",
    "# sp_size_unknown.style.text_color = 'black'\n",
    "\n",
    "\n",
    "factor_grid = GridspecLayout(6, 12, grid_gap='5px', height='200px')\n",
    "factor_grid[2:4, 2:6] = sp_size\n",
    "factor_grid[1, 7:9] = sp_size_small\n",
    "factor_grid[2, 7:9] = sp_size_medium\n",
    "factor_grid[3, 7:9] = sp_size_large\n",
    "# factor_grid[4, 7:9] = sp_size_unknown\n",
    "# factor_grid\n",
    "\n",
    "logical_integer_container = widgets.VBox(children=[factor_grid], layout=widgets.Layout(\n",
    "    align_items='center'  # Center align vertically\n",
    "#     border='solid 2px black',\n",
    "#     width = \"70%\"\n",
    "#     justify_content='center'  # Center align horizontally\n",
    "#     height='100vh'  # Set height to 100% of viewport height for vertical centering\n",
    "))"
   ]
  },
  {
   "cell_type": "code",
   "execution_count": 5,
   "id": "5fdc706c",
   "metadata": {},
   "outputs": [
    {
     "data": {
      "application/vnd.jupyter.widget-view+json": {
       "model_id": "08eca29a66eb4861b384191446a5daf5",
       "version_major": 2,
       "version_minor": 0
      },
      "text/plain": [
       "VBox(children=(GridspecLayout(children=(Button(button_style='success', description='What is the approximate si…"
      ]
     },
     "metadata": {},
     "output_type": "display_data"
    }
   ],
   "source": [
    "display(logical_integer_container)"
   ]
  },
  {
   "cell_type": "code",
   "execution_count": null,
   "id": "a7b2d904",
   "metadata": {},
   "outputs": [],
   "source": []
  }
 ],
 "metadata": {
  "kernelspec": {
   "display_name": "Python 3 (ipykernel)",
   "language": "python",
   "name": "python3"
  },
  "language_info": {
   "codemirror_mode": {
    "name": "ipython",
    "version": 3
   },
   "file_extension": ".py",
   "mimetype": "text/x-python",
   "name": "python",
   "nbconvert_exporter": "python",
   "pygments_lexer": "ipython3",
   "version": "3.12.3"
  }
 },
 "nbformat": 4,
 "nbformat_minor": 5
}
