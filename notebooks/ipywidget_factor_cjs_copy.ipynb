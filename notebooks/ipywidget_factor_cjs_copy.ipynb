{
 "cells": [
  {
   "cell_type": "markdown",
   "id": "e21897df-b9a3-4c48-9882-366d6b00cce8",
   "metadata": {},
   "source": [
    "<!-- # Info\n",
    "\n",
    "Here's a working example of how we might implement the factor widgets; not sure how this will integrate with ensuring the buttons are reactive.\n",
    "I also was hoping to embed little arrows between the options, so I create an img (such as \"arrow_4_grid_6_12.png\") that we might be able to embed here in between the question and options (see ppt example)\n",
    "Will also have to try to wrap text in question (\"sp_size\" below)\n",
    " -->\n",
    "<!-- from:  -->\n",
    "<!-- - https://ipywidgets.readthedocs.io/en/7.6.2/examples/Widget%20List.html -->\n",
    "<!-- - https://ipywidgets.readthedocs.io/en/7.6.5/examples/Layout%20Templates.html -->\n",
    "<!-- - https://ipywidgets.readthedocs.io/en/7.x/examples/Widget%20Styling.html -->\n",
    "<!-- - May have info on embedding images --> <!--https://ipywidgets.readthedocs.io/en/latest/examples/Widget%20Layout.html#image-layout-and-sizing -->\n",
    "\n",
    "<!-- ![image.png](attachment:9b6469ac-e7dc-4258-9922-24b66d82d06c.png)/    -->\n",
    "\n",
    "<!-- ![arrow_4_grid_6_12.png](attachment:6b5822e6-59df-4a35-97ff-b40cc5b0f2c2.png) -->"
   ]
  },
  {
   "cell_type": "code",
   "execution_count": 79,
   "id": "b2390a1e-d692-4016-b031-f9b0f9dd9f76",
   "metadata": {},
   "outputs": [],
   "source": [
    "# pip install ipywidgets"
   ]
  },
  {
   "cell_type": "code",
   "execution_count": 51,
   "id": "2abc8c87",
   "metadata": {},
   "outputs": [],
   "source": [
    "from IPython.display import display, Javascript, Markdown, clear_output, HTML\n",
    "from ipywidgets import Button, Layout, jslink, IntText, IntSlider, GridspecLayout\n",
    "from markdown_it import MarkdownIt\n",
    "import ipywidgets as widgets\n",
    "import json"
   ]
  },
  {
   "cell_type": "code",
   "execution_count": 52,
   "id": "2fcdaac5",
   "metadata": {},
   "outputs": [
    {
     "data": {
      "text/html": [
       "<style>\n",
       ".lbl_bg{\n",
       "    background-color:lightblue;\n",
       "}\n",
       ".box_style{\n",
       "    width:auto;\n",
       "    border : 2px solid white;\n",
       "    height: auto;\n",
       "    background-color:white;\n",
       "    display: flex;\n",
       "    justify-content: center;\n",
       "    align-items: center;\n",
       "}\n",
       "</style>\n"
      ],
      "text/plain": [
       "<IPython.core.display.HTML object>"
      ]
     },
     "metadata": {},
     "output_type": "display_data"
    }
   ],
   "source": [
    "%%html\n",
    "<style>\n",
    ".lbl_bg{\n",
    "    background-color:lightblue;\n",
    "}\n",
    ".box_style{\n",
    "    width:auto;\n",
    "    border : 2px solid white;\n",
    "    height: auto;\n",
    "    background-color:white;\n",
    "    display: flex;\n",
    "    justify-content: center;\n",
    "    align-items: center;\n",
    "}\n",
    "</style>"
   ]
  },
  {
   "cell_type": "code",
   "execution_count": 53,
   "id": "3c756428",
   "metadata": {},
   "outputs": [],
   "source": [
    "# Image Widget\n",
    "\n",
    "file = open(\"../logo.png\", \"rb\")\n",
    "image = file.read()\n",
    "\n",
    "image_headline = widgets.Image(\n",
    "                    value=image,\n",
    "                    format='jpg',\n",
    "                    width='200'\n",
    "                )\n",
    "\n",
    "label_headline = widgets.Label(\n",
    "                    value='',\n",
    "                    style={'description_width': 'initial'}\n",
    "                )\n",
    "\n",
    "vbox_headline = widgets.VBox([image_headline, label_headline])"
   ]
  },
  {
   "cell_type": "code",
   "execution_count": 54,
   "id": "bf2970ab",
   "metadata": {},
   "outputs": [],
   "source": [
    "global stored_choices, path\n",
    "stored_choices = {}\n",
    "path = \"../temp_storage.json\""
   ]
  },
  {
   "cell_type": "code",
   "execution_count": 55,
   "id": "8d745c1c",
   "metadata": {},
   "outputs": [],
   "source": [
    "# # Logical widget\n",
    "\n",
    "# def create_expanded_button(description, button_style):\n",
    "#     return Button(description=description, button_style=button_style, layout=Layout(height='auto', width='auto'))\n",
    "\n",
    "# num_cam = create_expanded_button('Do you have a limited number of cameras?', 'success')\n",
    "# num_cam.style.button_color = 'lightblue'\n",
    "# num_cam.style.text_color = 'black'\n",
    "\n",
    "# num_cam_true = create_expanded_button('True', 'success')\n",
    "# num_cam_true .style.button_color = 'lightgreen'\n",
    "# num_cam_true .style.text_color = 'black'\n",
    "\n",
    "# num_cam_false = create_expanded_button('False', 'success')\n",
    "# num_cam_false.style.button_color = 'red'\n",
    "# num_cam_false.style.text_color = 'black'\n",
    "\n",
    "# logical_grid = GridspecLayout(6, 12, grid_gap='5px', height='200px')\n",
    "# logical_grid[2:4, 2:6] = num_cam\n",
    "# logical_grid[1:3, 7:9] = num_cam_true\n",
    "# logical_grid[3:5, 7:9] = num_cam_false\n",
    "# # logical_grid[3, 7:9] = num_cam_true\n",
    "# # logical_grid[4, 7:9] = num_cam_false\n",
    "# logical_grid\n",
    "\n"
   ]
  },
  {
   "cell_type": "code",
   "execution_count": 26,
   "id": "af661ab5-7cae-4eaf-b12e-b89bf11c0617",
   "metadata": {},
   "outputs": [],
   "source": [
    "# Factor widget\n",
    "\n",
    "def create_expanded_button(description, button_style):\n",
    "    return Button(description=description, button_style=button_style, layout=Layout(height='auto', width='auto'))\n",
    "\n",
    "# top_left_button = create_expanded_button(\"Top left\", 'info')\n",
    "# top_right_button = create_expanded_button(\"Top right\", 'success')\n",
    "# bottom_left_button = create_expanded_button(\"Bottom left\", 'danger')\n",
    "# bottom_right_button = create_expanded_button(\"Bottom right\", 'warning')\n",
    "\n",
    "# top_left_text = IntText(description='Top left', layout=Layout(width='auto', height='auto'))\n",
    "# top_right_text = IntText(description='Top right', layout=Layout(width='auto', height='auto'))\n",
    "# bottom_left_slider = IntSlider(description='Bottom left', layout=Layout(width='auto', height='auto'))\n",
    "# bottom_right_slider = IntSlider(description='Bottom right', layout=Layout(width='auto', height='auto'))\n",
    "\n",
    "# from ipywidgets import AppLayout, Layout, Button, Box, FloatText, Textarea, Dropdown, Label, IntSlider, GridspecLayout\n",
    "\n",
    "# AppLayout(grid_gap='20px',\n",
    "#           height=\"200px\",\n",
    "#           width=\"50%\")\n",
    "\n",
    "# form_item_layout = Layout(\n",
    "#     display='flex',\n",
    "#     flex_flow='row',\n",
    "#     border='solid 2px',\n",
    "#     justify_content='space-between'\n",
    "# )\n",
    "\n",
    "sp_size = create_expanded_button('What is the approximate size of the Target Species?', 'success')\n",
    "sp_size.style.button_color = 'lightblue'\n",
    "sp_size.style.text_color = 'black'\n",
    "\n",
    "sp_size_small = create_expanded_button('Small', 'success')\n",
    "sp_size_small.style.button_color = 'lightgreen'\n",
    "sp_size_small.style.text_color = 'black'\n",
    "\n",
    "sp_size_medium = create_expanded_button('Medium', 'success')\n",
    "sp_size_medium.style.button_color = 'green'\n",
    "sp_size_medium.style.text_color = 'black'\n",
    "\n",
    "sp_size_large = create_expanded_button('Large', 'success')\n",
    "sp_size_large.style.button_color = 'darkgreen'\n",
    "sp_size_large.style.text_color = 'black'\n",
    "\n",
    "sp_size_unknown = create_expanded_button('Unknown', 'success')\n",
    "sp_size_unknown.style.button_color = 'lightgrey'\n",
    "sp_size_unknown.style.text_color = 'black'\n",
    "\n",
    "\n",
    "factor_grid = GridspecLayout(6, 12, grid_gap='5px', height='300px')\n",
    "factor_grid[2:4, 2:6] = sp_size\n",
    "factor_grid[1, 7:9] = sp_size_small\n",
    "factor_grid[2, 7:9] = sp_size_medium\n",
    "factor_grid[3, 7:9] = sp_size_large\n",
    "factor_grid[4, 7:9] = sp_size_unknown\n",
    "# factor_grid"
   ]
  },
  {
   "cell_type": "code",
   "execution_count": 27,
   "id": "33c51809",
   "metadata": {},
   "outputs": [],
   "source": [
    "# Create an Output widget for the pop-up window content\n",
    "output_popup = widgets.Output()\n",
    "\n",
    "# Function to show the pop-up window\n",
    "def show_popup(b):\n",
    "    with output_popup:\n",
    "        output_popup.clear_output()\n",
    "        display(popup_window)\n",
    "\n",
    "# Function to close the pop-up window\n",
    "def close_popup(b):\n",
    "    output_popup.clear_output()\n",
    "\n",
    "# Create a close button for the pop-up window\n",
    "close_button = widgets.Button(\n",
    "    description=\"Close\",\n",
    "    layout=widgets.Layout(width='100px')\n",
    ")\n",
    "close_button.on_click(close_popup)"
   ]
  },
  {
   "cell_type": "code",
   "execution_count": 28,
   "id": "de4fefd4",
   "metadata": {},
   "outputs": [],
   "source": [
    "with open(\"../Readme.md\", \"r\") as file:\n",
    "    md_content = file.read()\n",
    "\n",
    "md = MarkdownIt()\n",
    "html_content = md.render(md_content)\n",
    "# popup_window = HTML(html_content)"
   ]
  },
  {
   "cell_type": "code",
   "execution_count": 29,
   "id": "128c7168",
   "metadata": {},
   "outputs": [],
   "source": [
    "# Create the pop-up window\n",
    "popup_window = widgets.VBox(\n",
    "    children=[\n",
    "        widgets.HTML(html_content),\n",
    "#         widgets.HTML('<h3>Pop-up Window</h3>'),\n",
    "        close_button\n",
    "    ],\n",
    "    layout=widgets.Layout(\n",
    "        display='flex',\n",
    "        flex_flow='column',\n",
    "        align_items='center',\n",
    "        justify_content='center',\n",
    "        border='solid 1px black',\n",
    "        padding='10px',\n",
    "        width='auto',\n",
    "        height='auto',\n",
    "        background_color='lightyellow'\n",
    "    )\n",
    ")"
   ]
  },
  {
   "cell_type": "code",
   "execution_count": 30,
   "id": "76fe256a",
   "metadata": {},
   "outputs": [],
   "source": [
    "# Create a button that will be positioned at the top right corner\n",
    "button = widgets.Button(\n",
    "    description=\"Show Popup\"\n",
    "#     layout=widgets.Layout(width='100px')\n",
    ")\n",
    "button.on_click(show_popup)"
   ]
  },
  {
   "cell_type": "code",
   "execution_count": 31,
   "id": "cbb97fa5",
   "metadata": {},
   "outputs": [],
   "source": [
    "# grid[1, 7:9].description"
   ]
  },
  {
   "cell_type": "code",
   "execution_count": 32,
   "id": "be63610c",
   "metadata": {},
   "outputs": [],
   "source": [
    "# Create a button for skipping the question\n",
    "skip_button = widgets.Button(description=\"Skip\")\n",
    "# skip_button.add_class(\"lbl_bg\");"
   ]
  },
  {
   "cell_type": "code",
   "execution_count": 33,
   "id": "96402bb1",
   "metadata": {},
   "outputs": [],
   "source": [
    "output = widgets.Output()\n",
    "def small_button_clicked(event):\n",
    "    with output:\n",
    "        clear_output()\n",
    "        notebook_filename = \"notebook1.ipynb\"\n",
    "#         link = \"Submit your answer for next question\"\n",
    "        link = Markdown('''<a href=\"{}\" target=\"_self\" rel=\"noopener noreferrer\">Next</a>'''.format(notebook_filename))\n",
    "        stored_choices[\"answer1\"] = factor_grid[1, 7:9].description\n",
    "        with open(path, \"w\") as f:\n",
    "            json.dump(stored_choices, f)\n",
    "        display(link)\n",
    "factor_grid[1, 7:9].on_click(small_button_clicked)\n",
    "# vbox_result = widgets.VBox([question_widget1, options_widget1, submit_button, output, choice])"
   ]
  },
  {
   "cell_type": "code",
   "execution_count": 34,
   "id": "459e567f",
   "metadata": {},
   "outputs": [],
   "source": [
    "output = widgets.Output()\n",
    "def medium_button_clicked(event):\n",
    "    with output:\n",
    "        clear_output()\n",
    "        notebook_filename = \"notebook2.ipynb\"\n",
    "#         link = \"Submit your answer for next question\"\n",
    "        link = Markdown('''<a href=\"{}\" target=\"_self\" rel=\"noopener noreferrer\">Next</a>'''.format(notebook_filename))\n",
    "        stored_choices[\"answer1\"] = factor_grid[2, 7:9].description\n",
    "        with open(path, \"w\") as f:\n",
    "            json.dump(stored_choices, f)\n",
    "        display(link)\n",
    "factor_grid[2, 7:9].on_click(medium_button_clicked)\n",
    "# vbox_result = widgets.VBox([question_widget1, options_widget1, submit_button, output, choice])"
   ]
  },
  {
   "cell_type": "code",
   "execution_count": 35,
   "id": "650b3cdd",
   "metadata": {},
   "outputs": [],
   "source": [
    "output = widgets.Output()\n",
    "def large_button_clicked(event):\n",
    "    with output:\n",
    "        clear_output()\n",
    "        notebook_filename = \"notebook3.ipynb\"\n",
    "#         link = \"Submit your answer for next question\"\n",
    "        link = Markdown('''<a href=\"{}\" target=\"_self\" rel=\"noopener noreferrer\">Next</a>'''.format(notebook_filename))\n",
    "        stored_choices[\"answer1\"] = factor_grid[3, 7:9].description\n",
    "        with open(path, \"w\") as f:\n",
    "            json.dump(stored_choices, f)\n",
    "        display(link)\n",
    "factor_grid[3, 7:9].on_click(large_button_clicked)\n",
    "# vbox_result = widgets.VBox([question_widget1, options_widget1, submit_button, output, choice])"
   ]
  },
  {
   "cell_type": "code",
   "execution_count": 36,
   "id": "03b168af",
   "metadata": {},
   "outputs": [],
   "source": [
    "output = widgets.Output()\n",
    "def unknown_button_clicked(event):\n",
    "    with output:\n",
    "        clear_output()\n",
    "        notebook_filename = \"notebook5.ipynb\"\n",
    "#         link = \"Submit your answer for next question\"\n",
    "        link = Markdown('''<a href=\"{}\" target=\"_self\" rel=\"noopener noreferrer\">Next</a>'''.format(notebook_filename))\n",
    "        stored_choices[\"answer1\"] = factor_grid[4, 7:9].description\n",
    "        with open(path, \"w\") as f:\n",
    "            json.dump(stored_choices, f)\n",
    "        display(link)\n",
    "factor_grid[4, 7:9].on_click(unknown_button_clicked)\n",
    "# vbox_result = widgets.VBox([question_widget1, options_widget1, submit_button, output, choice])"
   ]
  },
  {
   "cell_type": "code",
   "execution_count": 37,
   "id": "ff04ef43",
   "metadata": {},
   "outputs": [],
   "source": [
    "output = widgets.Output()\n",
    "def on_skip_button_clicked(event):\n",
    "    with output:\n",
    "        clear_output()\n",
    "        link = Markdown('''<a href=\"https://voila.readthedocs.io/en/stable/deploy.html\" target=\"_self\"> \n",
    "                                    Next \n",
    "                            </a>''')\n",
    "        display(link)\n",
    "\n",
    "skip_button.on_click(on_skip_button_clicked)\n",
    "# vbox_result = widgets.VBox([question_widget1, options_widget1, submit_button, output, choice])"
   ]
  },
  {
   "cell_type": "code",
   "execution_count": 38,
   "id": "10d586de",
   "metadata": {},
   "outputs": [
    {
     "data": {
      "application/vnd.jupyter.widget-view+json": {
       "model_id": "8cbc7fd42b1148fbb24a7ee707e033b7",
       "version_major": 2,
       "version_minor": 0
      },
      "text/plain": [
       "VBox(children=(Image(value=b'\\x89PNG\\r\\n\\x1a\\n\\x00\\x00\\x00\\rIHDR\\x00\\x00\\x01\\xfb\\x00\\x00\\x01|\\x08\\x06\\x00\\x00\\…"
      ]
     },
     "metadata": {},
     "output_type": "display_data"
    },
    {
     "data": {
      "application/vnd.jupyter.widget-view+json": {
       "model_id": "b2eb4392844a42f8b0d3422f7e0b8eee",
       "version_major": 2,
       "version_minor": 0
      },
      "text/plain": [
       "VBox(children=(GridspecLayout(children=(Button(button_style='success', description='What is the approximate si…"
      ]
     },
     "metadata": {},
     "output_type": "display_data"
    },
    {
     "data": {
      "application/vnd.jupyter.widget-view+json": {
       "model_id": "a78b8d5206b443a59655b66a5eb2f13f",
       "version_major": 2,
       "version_minor": 0
      },
      "text/plain": [
       "VBox(children=(Button(description='Skip', style=ButtonStyle()), Button(description='Show Popup', style=ButtonS…"
      ]
     },
     "metadata": {},
     "output_type": "display_data"
    }
   ],
   "source": [
    "# Apply center alignment using CSS styling to the container\n",
    "container = widgets.VBox(children=[factor_grid, output], layout=widgets.Layout(\n",
    "    align_items='center'  # Center align vertically\n",
    "#     border='solid 2px black',\n",
    "#     width = \"70%\"\n",
    "#     justify_content='center'  # Center align horizontally\n",
    "#     height='100vh'  # Set height to 100% of viewport height for vertical centering\n",
    "))\n",
    "container.add_class(\"box_style\")\n",
    "button_container = widgets.VBox(children=[skip_button, button, output_popup], layout=widgets.Layout(\n",
    "    align_items='center'  # Center align vertically\n",
    "#     justify_content='center',  # Center align horizontally\n",
    "#     height='100vh'  # Set height to 100% of viewport height for vertical centering\n",
    "))\n",
    "# Display the container\n",
    "display(vbox_headline)\n",
    "display(container)\n",
    "display(button_container)"
   ]
  },
  {
   "cell_type": "code",
   "execution_count": 18,
   "id": "5340a350",
   "metadata": {},
   "outputs": [],
   "source": [
    "# import ipywidgets as widgets\n",
    "# from IPython.display import display\n",
    "\n",
    "# # Create some example widgets\n",
    "# widget1 = widgets.Label(\"Widget 1\")\n",
    "# widget2 = widgets.Label(\"Widget 2\")\n",
    "# widget3 = widgets.Label(\"Widget 3\")\n",
    "\n",
    "# # Create a VBox widget with a border\n",
    "# vbox = widgets.VBox(\n",
    "#     [widget1, widget2, widget3],\n",
    "#     layout=widgets.Layout(\n",
    "#         border='solid 2px black',\n",
    "#         padding='10px',\n",
    "#         margin='10px'\n",
    "#     )\n",
    "# )\n",
    "\n",
    "# # Display the VBox widget\n",
    "# display(vbox)\n"
   ]
  },
  {
   "cell_type": "code",
   "execution_count": 21,
   "id": "af8d7147",
   "metadata": {},
   "outputs": [],
   "source": [
    "# import ipywidgets as widgets\n",
    "# from IPython.display import display, HTML\n",
    "\n",
    "# # Create some example widgets\n",
    "# widget1 = widgets.Label(\"Widget 1\")\n",
    "# widget2 = widgets.Label(\"Widget 2\")\n",
    "# widget3 = widgets.Label(\"Widget 3\")\n",
    "\n",
    "# # Create a VBox widget with customized properties\n",
    "# vbox = widgets.VBox(\n",
    "#     [widget1, widget2, widget3],\n",
    "#     layout=widgets.Layout(\n",
    "#         border='solid 2px black',\n",
    "#         padding='20px',\n",
    "#         width='70%',  # Full width inside the container\n",
    "#         background_color='lightyellow'\n",
    "#     )\n",
    "# )\n",
    "\n",
    "# # Define the HTML and CSS for centering\n",
    "# html_code = \"\"\"\n",
    "# <div class=\"centered-container\">\n",
    "#   <div class=\"centered-content\">\n",
    "#   </div>\n",
    "# </div>\n",
    "\n",
    "# <style>\n",
    "#   .centered-container {\n",
    "#     display: flex;\n",
    "#     justify-content: center;\n",
    "#     align-items: center;\n",
    "#     width: 100%;\n",
    "#   }\n",
    "\n",
    "#   .centered-content {\n",
    "#     width: 50%; /* 50% of the viewport width */\n",
    "#     display: flex;\n",
    "#     justify-content: center;\n",
    "#   }\n",
    "# </style>\n",
    "# \"\"\"\n",
    "\n",
    "# # Display the HTML for the container\n",
    "# display(HTML(html_code))\n",
    "\n",
    "# # Display the VBox inside the centered content div\n",
    "# centered_content = widgets.HTML(value=\"<div class='centered-content'></div>\")\n",
    "# display(centered_content)\n",
    "# display(vbox)\n"
   ]
  },
  {
   "cell_type": "code",
   "execution_count": 23,
   "id": "f7dc6a58",
   "metadata": {},
   "outputs": [],
   "source": [
    "# import ipywidgets as widgets\n",
    "# from IPython.display import display, HTML\n",
    "\n",
    "# # Create buttons\n",
    "# button1 = widgets.Button(description=\"Button 1\")\n",
    "# button2 = widgets.Button(description=\"Button 2\")\n",
    "# button3 = widgets.Button(description=\"Button 3\")\n",
    "# button4 = widgets.Button(description=\"Button 4\")\n",
    "# button5 = widgets.Button(description=\"Button 5\")\n",
    "\n",
    "# # Create a grid layout for buttons\n",
    "# grid = widgets.GridspecLayout(2, 2, height='300px', width='400px')\n",
    "\n",
    "# # Add buttons to the grid\n",
    "# grid[0, 0] = button1\n",
    "# grid[0, 1] = widgets.VBox([button2, button3, button4, button5])\n",
    "\n",
    "# # Display the grid\n",
    "# display(grid)\n",
    "\n",
    "# # Create SVG arrows\n",
    "# arrow_svg = '''\n",
    "# <svg height=\"300\" width=\"400\">\n",
    "#   <defs>\n",
    "#     <marker id=\"arrowhead\" markerWidth=\"10\" markerHeight=\"7\" refX=\"0\" refY=\"3.5\" orient=\"auto\">\n",
    "#       <polygon points=\"0 0, 10 3.5, 0 7\" />\n",
    "#     </marker>\n",
    "#   </defs>\n",
    "#   <line x1=\"100\" y1=\"30\" x2=\"200\" y2=\"30\" stroke=\"black\" stroke-width=\"2\" marker-end=\"url(#arrowhead)\" />\n",
    "#   <line x1=\"100\" y1=\"30\" x2=\"200\" y2=\"80\" stroke=\"black\" stroke-width=\"2\" marker-end=\"url(#arrowhead)\" />\n",
    "#   <line x1=\"100\" y1=\"30\" x2=\"200\" y2=\"130\" stroke=\"black\" stroke-width=\"2\" marker-end=\"url(#arrowhead)\" />\n",
    "#   <line x1=\"100\" y1=\"30\" x2=\"200\" y2=\"180\" stroke=\"black\" stroke-width=\"2\" marker-end=\"url(#arrowhead)\" />\n",
    "# </svg>\n",
    "# '''\n",
    "\n",
    "# # Display the SVG arrows\n",
    "# display(HTML(arrow_svg))\n"
   ]
  },
  {
   "cell_type": "code",
   "execution_count": null,
   "id": "8ef3fcc9",
   "metadata": {},
   "outputs": [],
   "source": []
  }
 ],
 "metadata": {
  "kernelspec": {
   "display_name": "Python 3 (ipykernel)",
   "language": "python",
   "name": "python3"
  },
  "language_info": {
   "codemirror_mode": {
    "name": "ipython",
    "version": 3
   },
   "file_extension": ".py",
   "mimetype": "text/x-python",
   "name": "python",
   "nbconvert_exporter": "python",
   "pygments_lexer": "ipython3",
   "version": "3.12.3"
  }
 },
 "nbformat": 4,
 "nbformat_minor": 5
}
