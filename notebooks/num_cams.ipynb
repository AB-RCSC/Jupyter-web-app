{
 "cells": [
  {
   "cell_type": "code",
   "execution_count": 1,
   "id": "66ed741d",
   "metadata": {},
   "outputs": [],
   "source": [
    "import json\n",
    "import pandas as pd\n",
    "import ipywidgets as widgets\n",
    "from IPython.display import display, Javascript, Markdown, clear_output, HTML"
   ]
  },
  {
   "cell_type": "code",
   "execution_count": 2,
   "id": "13557dd0",
   "metadata": {},
   "outputs": [],
   "source": [
    "# Image Widget\n",
    "\n",
    "file = open(\"../logo.png\", \"rb\")\n",
    "image = file.read()\n",
    "\n",
    "image_headline = widgets.Image(\n",
    "                    value=image,\n",
    "                    format='jpg',\n",
    "                    width='200'\n",
    "                )\n",
    "\n",
    "label_headline = widgets.Label(\n",
    "                    value='',\n",
    "                    style={'description_width': 'initial'}\n",
    "                )\n",
    "\n",
    "vbox_headline = widgets.VBox([image_headline, label_headline])"
   ]
  },
  {
   "cell_type": "code",
   "execution_count": 4,
   "id": "0e20e2ea",
   "metadata": {},
   "outputs": [],
   "source": [
    "global stored_choices, path\n",
    "\n",
    "# stored_choices = {}\n",
    "path = \"../temp_storage.json\"\n",
    "back_path = \"../backtracking.json\""
   ]
  },
  {
   "cell_type": "code",
   "execution_count": null,
   "id": "ecf635e0",
   "metadata": {},
   "outputs": [],
   "source": [
    "with open(path, \"r\") as f:\n",
    "    stored_choices = json.load(f)"
   ]
  },
  {
   "cell_type": "code",
   "execution_count": 5,
   "id": "dabf0eb3",
   "metadata": {},
   "outputs": [],
   "source": [
    "with open(back_path, 'r') as f:\n",
    "    back_list = json.load(f)"
   ]
  },
  {
   "cell_type": "code",
   "execution_count": 6,
   "id": "4ae3b753",
   "metadata": {},
   "outputs": [],
   "source": [
    "# Read the CSV file into a DataFrame\n",
    "\n",
    "df = pd.read_csv('new_format.csv', low_memory=False)"
   ]
  },
  {
   "cell_type": "code",
   "execution_count": 3,
   "id": "d73fa4d6",
   "metadata": {},
   "outputs": [],
   "source": [
    "notebook_list = [\"objective\", \"num_cams\", \"cam_strat_covar\", \"surv_dur_min_max\", \"sp_asymptote\", \n",
    "                 \"obj_targ_sp\", \"sp_info\", \"sp_occ_restr\", \"sp_hr_size\", \"sp_size\", \"sp_rarity\", \n",
    "                 \"sp_detprob_cat\", \"cam_independent\"]"
   ]
  },
  {
   "cell_type": "code",
   "execution_count": 7,
   "id": "b9bfeeb0",
   "metadata": {},
   "outputs": [],
   "source": [
    "# seperates the string based on ',' also removes the whitespace after comma & makes a list\n",
    "\n",
    "def split_and_trim(s):\n",
    "    return [item.strip() for item in s.split(',')]"
   ]
  },
  {
   "cell_type": "code",
   "execution_count": 8,
   "id": "37b3733c",
   "metadata": {},
   "outputs": [],
   "source": [
    "# gets the question based on value of other column\n",
    "\n",
    "ques1 = df.loc[df['question_code'] == 'num_cams_limited', 'question_text'].iloc[0]\n",
    "opt1 = df.loc[df['question_code'] == 'num_cams_limited', 'q_option_label'].iloc[0]\n",
    "opt_codes1 = df.loc[df['question_code'] == 'num_cams_limited', 'q_option_code'].iloc[0]\n",
    "\n",
    "opt1 = split_and_trim(opt1)\n",
    "opt_codes1 = split_and_trim(opt_codes1)\n",
    "\n",
    "ques2 = df.loc[df['question_code'] == 'num_cams_avail', 'question_text'].iloc[0]"
   ]
  },
  {
   "cell_type": "code",
   "execution_count": 9,
   "id": "4ce9a00e",
   "metadata": {},
   "outputs": [],
   "source": [
    "# Display question and options as widgets\n",
    "\n",
    "question_widget1 = widgets.HTML(value=f\"<h3>{ques1}</h3>\")\n",
    "options_widget1 = widgets.RadioButtons(options=opt1, value = None, layout={'width': 'max-content'})\n",
    "\n",
    "question_widget2 = widgets.HTML(value=f\"<h3>{ques2}</h3>\")\n",
    "options_widget2 = widgets.IntText(\n",
    "                            value=0,  # Default value\n",
    "                            description='Enter value:',\n",
    "                            disabled=False,\n",
    "                            layout={'width': 'max-content'}\n",
    "                        )"
   ]
  },
  {
   "cell_type": "code",
   "execution_count": 10,
   "id": "388c8e7c",
   "metadata": {},
   "outputs": [],
   "source": [
    "# Create a button for going back to previous question\n",
    "\n",
    "back_button = widgets.Button(description=\"Back\")"
   ]
  },
  {
   "cell_type": "code",
   "execution_count": 11,
   "id": "f5ade430",
   "metadata": {},
   "outputs": [],
   "source": [
    "# Create a buttons for submitting the question\n",
    "\n",
    "submit_button = widgets.Button(description=\"Submit\")"
   ]
  },
  {
   "cell_type": "code",
   "execution_count": null,
   "id": "7084ee67",
   "metadata": {},
   "outputs": [],
   "source": [
    "current_notebook_index = stored_choices[\"next_notebook_index\"]"
   ]
  },
  {
   "cell_type": "code",
   "execution_count": 15,
   "id": "aee3a643",
   "metadata": {},
   "outputs": [
    {
     "data": {
      "text/plain": [
       "'obj_pop_size'"
      ]
     },
     "execution_count": 15,
     "metadata": {},
     "output_type": "execute_result"
    }
   ],
   "source": [
    "selected_objective = stored_choices['objective']"
   ]
  },
  {
   "cell_type": "code",
   "execution_count": 13,
   "id": "0a7dace7",
   "metadata": {},
   "outputs": [
    {
     "data": {
      "text/plain": [
       "['obj_divers_rich', 'obj_rel_abund', 'obj_behaviour']"
      ]
     },
     "execution_count": 13,
     "metadata": {},
     "output_type": "execute_result"
    }
   ],
   "source": [
    "condition = df.loc[df['page_name'] == 'cam_strat_covar', 'json_logic'].iloc[0]\n",
    "condition_json = json.loads(condition)"
   ]
  },
  {
   "cell_type": "code",
   "execution_count": 12,
   "id": "0c6612b7",
   "metadata": {},
   "outputs": [],
   "source": [
    "# For going back to last question\n",
    "\n",
    "output = widgets.Output()\n",
    "def on_back_button_clicked(event):\n",
    "    with output:\n",
    "        clear_output()\n",
    "        file_name = back_list[-1]\n",
    "        notebook_filename = file_name + \".ipynb\"\n",
    "        link = Markdown('''<a href=\"{}\" target=\"_self\" rel=\"noopener noreferrer\">Previous</a>'''.format(notebook_filename))\n",
    "        back_list.pop()\n",
    "        with open (back_path, \"w\")as f:\n",
    "            json.dump(back_list, f)\n",
    "        display(link)\n",
    "\n",
    "back_button.on_click(on_back_button_clicked)"
   ]
  },
  {
   "cell_type": "code",
   "execution_count": 17,
   "id": "462d62e1",
   "metadata": {},
   "outputs": [],
   "source": [
    "output = widgets.Output()\n",
    "def on_button_clicked(event):\n",
    "    with output:\n",
    "        clear_output()\n",
    "        global selected_option1\n",
    "        \n",
    "        link = \"Submit your answer for next question\"\n",
    "        selected_option1 = options_widget1.value\n",
    "        selected_option2 = options_widget2.value\n",
    "\n",
    "        \n",
    "        # storing the option code for the selected option\n",
    "        selected_option_index = opt1.index(selected_option1)\n",
    "        selected_option_code = opt_codes1[selected_option_index]\n",
    "        \n",
    "        if selected_objective in condition_json['objective']:\n",
    "            next_notebook_index = current_notebook_index + 1\n",
    "        else:\n",
    "            next_notebook_index = current_notebook_index + 2\n",
    "        notebook_filename = notebook_list[next_notebook_index] + \".ipynb\"\n",
    "        \n",
    "        link = Markdown('''<a href=\"{}\" target=\"_self\" rel=\"noopener noreferrer\">Next</a>'''.format(notebook_filename))\n",
    "\n",
    "        back_list.append(\"num_cams\")\n",
    "        with open (back_path, \"w\")as f:\n",
    "            json.dump(back_list, f)\n",
    "            \n",
    "        with open (back_path, \"w\")as f:\n",
    "            json.dump(back_list, f)\n",
    "        \n",
    "        with open(path, \"r\") as f:\n",
    "            stored_choices = json.load(f)\n",
    "            \n",
    "        stored_choices[\"num_cams_limited\"] = selected_option_code\n",
    "        stored_choices[\"num_cams_avail\"] = selected_option2\n",
    "        stored_choices[\"next_notebook_index\"] = next_notebook_index\n",
    "        \n",
    "        with open(path, \"w\") as f:\n",
    "            json.dump(stored_choices, f)\n",
    "\n",
    "        display(link)\n",
    "\n",
    "submit_button.on_click(on_button_clicked)"
   ]
  },
  {
   "cell_type": "code",
   "execution_count": 18,
   "id": "dc10f247",
   "metadata": {},
   "outputs": [
    {
     "data": {
      "application/vnd.jupyter.widget-view+json": {
       "model_id": "68e3f625acf341dda2302519bacbcbab",
       "version_major": 2,
       "version_minor": 0
      },
      "text/plain": [
       "VBox(children=(Image(value=b'\\x89PNG\\r\\n\\x1a\\n\\x00\\x00\\x00\\rIHDR\\x00\\x00\\x01\\xfb\\x00\\x00\\x01|\\x08\\x06\\x00\\x00\\…"
      ]
     },
     "metadata": {},
     "output_type": "display_data"
    },
    {
     "data": {
      "application/vnd.jupyter.widget-view+json": {
       "model_id": "705af84c1dbf47c2ac1d0a2bf0364452",
       "version_major": 2,
       "version_minor": 0
      },
      "text/plain": [
       "VBox(children=(HTML(value='<h3>Do you have a limited number of cameras?</h3>'), RadioButtons(layout=Layout(wid…"
      ]
     },
     "metadata": {},
     "output_type": "display_data"
    },
    {
     "data": {
      "application/vnd.jupyter.widget-view+json": {
       "model_id": "11ad5e4c3a604da6ae58f2faefb7681b",
       "version_major": 2,
       "version_minor": 0
      },
      "text/plain": [
       "HBox(children=(Button(description='Back', style=ButtonStyle()), Button(description='Submit', style=ButtonStyle…"
      ]
     },
     "metadata": {},
     "output_type": "display_data"
    }
   ],
   "source": [
    "# Apply center alignment using CSS styling to the container\n",
    "\n",
    "container = widgets.VBox(children=[question_widget1, options_widget1, question_widget2, options_widget2, output], layout=widgets.Layout(\n",
    "    align_items='center'  # Center align vertically\n",
    "))\n",
    "\n",
    "button_container = widgets.HBox(children=[back_button, submit_button], layout=widgets.Layout(\n",
    "    justify_content='center',  # Center align horizontally\n",
    "))\n",
    "\n",
    "\n",
    "display(vbox_headline)\n",
    "display(container)\n",
    "display(button_container)"
   ]
  },
  {
   "cell_type": "code",
   "execution_count": null,
   "id": "f34a6729",
   "metadata": {},
   "outputs": [],
   "source": []
  }
 ],
 "metadata": {
  "kernelspec": {
   "display_name": "Python 3 (ipykernel)",
   "language": "python",
   "name": "python3"
  },
  "language_info": {
   "codemirror_mode": {
    "name": "ipython",
    "version": 3
   },
   "file_extension": ".py",
   "mimetype": "text/x-python",
   "name": "python",
   "nbconvert_exporter": "python",
   "pygments_lexer": "ipython3",
   "version": "3.12.3"
  }
 },
 "nbformat": 4,
 "nbformat_minor": 5
}
