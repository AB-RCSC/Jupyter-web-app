{
 "cells": [
  {
   "cell_type": "code",
   "execution_count": 2,
   "id": "c2697664",
   "metadata": {},
   "outputs": [],
   "source": [
    "# !jupyter nbextension enable --py widgetsnbextension --sys-prefix"
   ]
  },
  {
   "cell_type": "code",
   "execution_count": 3,
   "id": "9620c4d3",
   "metadata": {},
   "outputs": [],
   "source": [
    "# !jupyter serverextension enable voila --sys-prefix"
   ]
  },
  {
   "cell_type": "code",
   "execution_count": 4,
   "id": "076f4536",
   "metadata": {},
   "outputs": [],
   "source": [
    "import json\n",
    "import pandas as pd\n",
    "import ipywidgets as widgets\n",
    "from IPython.display import display, Javascript, Markdown, clear_output, HTML"
   ]
  },
  {
   "cell_type": "code",
   "execution_count": 5,
   "id": "9b04b861",
   "metadata": {},
   "outputs": [],
   "source": [
    "# Image Widget\n",
    "\n",
    "file = open(\"../logo.png\", \"rb\")\n",
    "image = file.read()\n",
    "\n",
    "image_headline = widgets.Image(\n",
    "                    value=image,\n",
    "                    format='jpg',\n",
    "                    width='200'\n",
    "                )\n",
    "\n",
    "label_headline = widgets.Label(\n",
    "                    value='',\n",
    "                    style={'description_width': 'initial'}\n",
    "                )\n",
    "\n",
    "vbox_headline = widgets.VBox([image_headline, label_headline])"
   ]
  },
  {
   "cell_type": "code",
   "execution_count": 6,
   "id": "0e86f940",
   "metadata": {},
   "outputs": [],
   "source": [
    "global stored_choices, path\n",
    "stored_choices = {}\n",
    "path = \"../temp_storage.json\"\n",
    "back_path = \"../backtracking.json\"\n",
    "img_path = \"../logo.png\""
   ]
  },
  {
   "cell_type": "code",
   "execution_count": 7,
   "id": "413301cd",
   "metadata": {},
   "outputs": [],
   "source": [
    "with open(back_path, 'r') as f:\n",
    "    back_list = json.load(f)"
   ]
  },
  {
   "cell_type": "code",
   "execution_count": 8,
   "id": "7f2ed878",
   "metadata": {},
   "outputs": [],
   "source": [
    "# Read the CSV file into a DataFrame\n",
    "df = pd.read_csv('../questions.csv')"
   ]
  },
  {
   "cell_type": "code",
   "execution_count": 9,
   "id": "07db2fbc",
   "metadata": {},
   "outputs": [],
   "source": [
    "# gets the question based on value of other (methods) column\n",
    "ques = df.loc[df['question_code'] == 'user_entry', 'question_text'].iloc[0]\n",
    "opt = df.loc[df['question_code'] == 'user_entry', 'q_option_label'].iloc[0]\n",
    "# opt = opt.replace('[', '').replace(']', '').replace('\"', '') # for format ([\"\",\"\"])\n",
    "opt = opt.split(',') # for format (,)"
   ]
  },
  {
   "cell_type": "code",
   "execution_count": 10,
   "id": "231d60ae",
   "metadata": {},
   "outputs": [],
   "source": [
    "# # Read the JSON file\n",
    "# with open('../data.json', 'r') as file:\n",
    "#     data = json.load(file)"
   ]
  },
  {
   "cell_type": "code",
   "execution_count": 11,
   "id": "c4a7dbe3",
   "metadata": {},
   "outputs": [],
   "source": [
    "# # Access the question and options\n",
    "# question = data['question1']\n",
    "# options = data['options1']"
   ]
  },
  {
   "cell_type": "code",
   "execution_count": 12,
   "id": "aa93752b",
   "metadata": {},
   "outputs": [],
   "source": [
    "# # Question 1----------------\n",
    "# question1 = \"What is the capital of France?\"\n",
    "# options1 = [\"Paris\", \"London\", \"Berlin\", \"Rome\"]"
   ]
  },
  {
   "cell_type": "code",
   "execution_count": 13,
   "id": "091899f4",
   "metadata": {},
   "outputs": [],
   "source": [
    "# Display question and options as widgets-------\n",
    "question_widget1 = widgets.HTML(value=f\"<h3>{ques}</h3>\")\n",
    "# question_widget1.style.background = 'lightblue'\n",
    "options_widget1 = widgets.RadioButtons(options=opt, value = None, layout={'width': 'max-content'})"
   ]
  },
  {
   "cell_type": "code",
   "execution_count": 14,
   "id": "009bc876",
   "metadata": {},
   "outputs": [],
   "source": [
    "# Create a button for submitting the question\n",
    "submit_button = widgets.Button(description=\"Submit\")"
   ]
  },
  {
   "cell_type": "code",
   "execution_count": 15,
   "id": "c181258f",
   "metadata": {},
   "outputs": [],
   "source": [
    "# Create a button for skipping the question\n",
    "skip_button = widgets.Button(description=\"Skip\")"
   ]
  },
  {
   "cell_type": "code",
   "execution_count": 16,
   "id": "747df9a0",
   "metadata": {},
   "outputs": [],
   "source": [
    "output = widgets.Output()\n",
    "def on_button_clicked(event):\n",
    "    with output:\n",
    "        clear_output()\n",
    "        global selected_option1\n",
    "        \n",
    "        link = \"Submit your answer for next question\"\n",
    "        selected_option1 = options_widget1.value\n",
    "#         notebook_filename = \"notebook2.ipynb\"\n",
    "        notebook_filename = \"ipywidget_factor_cjs_copy.ipynb\"\n",
    "        if selected_option1 == opt[0]:\n",
    "            link = Markdown('''<a href=\"{}\" target=\"_self\" rel=\"noopener noreferrer\">Next</a>'''.format(notebook_filename))\n",
    "            # display(Javascript('window.location.href = \"dummy2.ipynb\";'))\n",
    "        elif selected_option1 == opt[1]:\n",
    "            link = Markdown('''<a href=\"notebook3.ipynb\" target=\"_self\"> \n",
    "                                    Next \n",
    "                            </a>''')\n",
    "            # display(Javascript('window.location.href = \"dummy3.ipynb\";'))\n",
    "        if not back_list:\n",
    "            back_list.append(\"notebook1\")\n",
    "        if back_list and back_list[-1]!=\"notebook1\":\n",
    "            back_list.append(\"notebook1\")\n",
    "        with open (back_path, \"w\")as f:\n",
    "            json.dump(back_list, f)\n",
    "        \n",
    "        stored_choices[\"answer1\"] = selected_option1\n",
    "        with open(path, \"w\") as f:\n",
    "            json.dump(stored_choices, f)\n",
    "#         %store stored_choices\n",
    "        display(link)\n",
    "\n",
    "submit_button.on_click(on_button_clicked)\n",
    "# vbox_result = widgets.VBox([question_widget1, options_widget1, submit_button, output, choice])"
   ]
  },
  {
   "cell_type": "code",
   "execution_count": 17,
   "id": "a3421499",
   "metadata": {},
   "outputs": [],
   "source": [
    "output = widgets.Output()\n",
    "def on_skip_button_clicked(event):\n",
    "    with output:\n",
    "        clear_output()\n",
    "        link = Markdown('''<a href=\"https://voila.readthedocs.io/en/stable/deploy.html\" target=\"_self\"> \n",
    "                                    Next \n",
    "                            </a>''')\n",
    "        display(link)\n",
    "        \n",
    "\n",
    "skip_button.on_click(on_skip_button_clicked)\n",
    "# vbox_result = widgets.VBox([question_widget1, options_widget1, submit_button, output, choice])"
   ]
  },
  {
   "cell_type": "code",
   "execution_count": 18,
   "id": "a448edb4",
   "metadata": {},
   "outputs": [],
   "source": [
    "# display(vbox_result)"
   ]
  },
  {
   "cell_type": "code",
   "execution_count": 19,
   "id": "50740d73",
   "metadata": {
    "scrolled": true
   },
   "outputs": [
    {
     "data": {
      "application/vnd.jupyter.widget-view+json": {
       "model_id": "bee4388d5ee747759a4f546df7c76567",
       "version_major": 2,
       "version_minor": 0
      },
      "text/plain": [
       "VBox(children=(Image(value=b'\\x89PNG\\r\\n\\x1a\\n\\x00\\x00\\x00\\rIHDR\\x00\\x00\\x01\\xfb\\x00\\x00\\x01|\\x08\\x06\\x00\\x00\\…"
      ]
     },
     "metadata": {},
     "output_type": "display_data"
    },
    {
     "data": {
      "application/vnd.jupyter.widget-view+json": {
       "model_id": "e926b7510b704cd592fdf1e55f074813",
       "version_major": 2,
       "version_minor": 0
      },
      "text/plain": [
       "VBox(children=(HTML(value='<h3>Are you looking to design a new remote camera project, or analyze data that was…"
      ]
     },
     "metadata": {},
     "output_type": "display_data"
    },
    {
     "data": {
      "application/vnd.jupyter.widget-view+json": {
       "model_id": "423ae11ff6664af9822842a18d21259c",
       "version_major": 2,
       "version_minor": 0
      },
      "text/plain": [
       "HBox(children=(Button(description='Submit', style=ButtonStyle()), Button(description='Skip', style=ButtonStyle…"
      ]
     },
     "metadata": {},
     "output_type": "display_data"
    }
   ],
   "source": [
    "# Apply center alignment using CSS styling to the container\n",
    "container = widgets.VBox(children=[question_widget1, options_widget1, output], layout=widgets.Layout(\n",
    "    align_items='center'  # Center align vertically\n",
    "#     justify_content='center',  # Center align horizontally\n",
    "#     height='100vh'  # Set height to 100% of viewport height for vertical centering\n",
    "))\n",
    "button_container = widgets.HBox(children=[submit_button, skip_button], layout=widgets.Layout(\n",
    "#     align_items='center'  # Center align vertically\n",
    "    justify_content='center',  # Center align horizontally\n",
    "#     height='100vh'  # Set height to 100% of viewport height for vertical centering\n",
    "))\n",
    "# Display the container\n",
    "display(vbox_headline)\n",
    "display(container)\n",
    "display(button_container)"
   ]
  },
  {
   "cell_type": "code",
   "execution_count": null,
   "id": "42baa6da",
   "metadata": {},
   "outputs": [],
   "source": []
  },
  {
   "cell_type": "code",
   "execution_count": null,
   "id": "9769a129",
   "metadata": {},
   "outputs": [],
   "source": []
  },
  {
   "cell_type": "code",
   "execution_count": null,
   "id": "0686d6e5",
   "metadata": {},
   "outputs": [],
   "source": []
  },
  {
   "cell_type": "code",
   "execution_count": null,
   "id": "904d47c4",
   "metadata": {},
   "outputs": [],
   "source": []
  },
  {
   "cell_type": "code",
   "execution_count": null,
   "id": "2eaa15b3",
   "metadata": {},
   "outputs": [],
   "source": []
  },
  {
   "cell_type": "code",
   "execution_count": null,
   "id": "4fb88d67",
   "metadata": {},
   "outputs": [],
   "source": []
  },
  {
   "cell_type": "code",
   "execution_count": null,
   "id": "bebb7b37",
   "metadata": {},
   "outputs": [],
   "source": []
  },
  {
   "cell_type": "code",
   "execution_count": null,
   "id": "90253de1",
   "metadata": {},
   "outputs": [],
   "source": []
  },
  {
   "cell_type": "code",
   "execution_count": null,
   "id": "72f8b4a7",
   "metadata": {},
   "outputs": [],
   "source": []
  },
  {
   "cell_type": "code",
   "execution_count": null,
   "id": "c0d8d0b7",
   "metadata": {},
   "outputs": [],
   "source": []
  }
 ],
 "metadata": {
  "kernelspec": {
   "display_name": "Python 3 (ipykernel)",
   "language": "python",
   "name": "python3"
  },
  "language_info": {
   "codemirror_mode": {
    "name": "ipython",
    "version": 3
   },
   "file_extension": ".py",
   "mimetype": "text/x-python",
   "name": "python",
   "nbconvert_exporter": "python",
   "pygments_lexer": "ipython3",
   "version": "3.12.3"
  }
 },
 "nbformat": 4,
 "nbformat_minor": 5
}
