{
 "cells": [
  {
   "cell_type": "code",
   "execution_count": 1,
   "id": "66ed741d",
   "metadata": {},
   "outputs": [],
   "source": [
    "import json\n",
    "import pandas as pd\n",
    "import ipywidgets as widgets\n",
    "from ipywidgets import AppLayout, Button, Layout\n",
    "from ipywidgets import Button, Layout, jslink, IntText, IntSlider\n",
    "from IPython.display import display, Javascript, Markdown, clear_output, HTML\n",
    "from ipywidgets import GridspecLayout\n",
    "from markdown_it import MarkdownIt"
   ]
  },
  {
   "cell_type": "code",
   "execution_count": 2,
   "id": "13557dd0",
   "metadata": {},
   "outputs": [],
   "source": [
    "# Custom CSS to ensure text wraps properly\n",
    "css = \"\"\"\n",
    "<style>\n",
    ".custom-button {\n",
    "    white-space: normal;\n",
    "    font-size: 16px !important;\n",
    "    font-weight: bold !important;\n",
    "}\n",
    "</style>\n",
    "\"\"\""
   ]
  },
  {
   "cell_type": "code",
   "execution_count": 3,
   "id": "d73fa4d6",
   "metadata": {},
   "outputs": [],
   "source": [
    "# Custom CSS to ensure text wraps properly\n",
    "header_css = \"\"\"\n",
    "<style>\n",
    ".custom-header {\n",
    "    white-space: normal;\n",
    "    font-size: 18px !important;\n",
    "    font-weight: bold !important;\n",
    "    padding: 50px;\n",
    "    color: #000000\n",
    "}\n",
    "</style>\n",
    "\"\"\""
   ]
  },
  {
   "cell_type": "code",
   "execution_count": 4,
   "id": "0e20e2ea",
   "metadata": {},
   "outputs": [],
   "source": [
    "# Custom CSS to ensure text wraps properly\n",
    "footer_css = \"\"\"\n",
    "<style>\n",
    ".custom-footer {\n",
    "    width: auto;\n",
    "    align-item: flex-start !important; \n",
    "    padding-top: 70px;\n",
    "    height: auto\n",
    "}\n",
    "</style>\n",
    "\"\"\""
   ]
  },
  {
   "cell_type": "code",
   "execution_count": 5,
   "id": "dabf0eb3",
   "metadata": {},
   "outputs": [],
   "source": [
    "# Header widget\n",
    "html_header = widgets.HTML(value=\"<h1>Remote Camera Decision Support Tool</h1>\")"
   ]
  },
  {
   "cell_type": "code",
   "execution_count": 6,
   "id": "4ae3b753",
   "metadata": {},
   "outputs": [],
   "source": [
    "html_header.add_class(\"custom-header\")\n",
    "# Create a HTML widget to include the custom CSS\n",
    "header_css_widget = widgets.HTML(value=header_css)"
   ]
  },
  {
   "cell_type": "code",
   "execution_count": 7,
   "id": "b9bfeeb0",
   "metadata": {},
   "outputs": [],
   "source": [
    "html_footer = widgets.HTML(value=\"\"\"\n",
    "<footer>\n",
    "    <img src='footer.png' alt='Footer Image'>\n",
    "</footer>\n",
    "\"\"\")\n"
   ]
  },
  {
   "cell_type": "code",
   "execution_count": 8,
   "id": "37b3733c",
   "metadata": {},
   "outputs": [],
   "source": [
    "html_footer.add_class(\"custom-footer\")\n",
    "# Create a HTML widget to include the custom CSS\n",
    "footer_css_widget = widgets.HTML(value=footer_css)"
   ]
  },
  {
   "cell_type": "code",
   "execution_count": 9,
   "id": "4ce9a00e",
   "metadata": {},
   "outputs": [],
   "source": [
    "# Image Widget\n",
    "\n",
    "file = open(\"../logo.png\", \"rb\")\n",
    "image = file.read()\n",
    "\n",
    "image_headline = widgets.Image(\n",
    "                    value=image,\n",
    "                    format='jpg',\n",
    "                    width='200'\n",
    "                )\n",
    "\n",
    "label_headline = widgets.Label(\n",
    "                    value='',\n",
    "                    style={'description_width': 'initial'}\n",
    "                )\n",
    "\n",
    "# vbox_headline = widgets.HBox([image_headline, label_headline])"
   ]
  },
  {
   "cell_type": "code",
   "execution_count": 10,
   "id": "388c8e7c",
   "metadata": {},
   "outputs": [],
   "source": [
    "def create_expanded_button(description, button_style):\n",
    "    return Button(description=description, button_style=button_style, layout=Layout(height='auto', width='auto')) #width='max-content'"
   ]
  },
  {
   "cell_type": "code",
   "execution_count": 11,
   "id": "f5ade430",
   "metadata": {},
   "outputs": [],
   "source": [
    "# Concept Library\n",
    "\n",
    "concept_header = create_expanded_button('Concept Library', 'success')\n",
    "concept_header.style.button_color = '#2D6EB4'\n",
    "concept_header.style.text_color = 'black'\n",
    "\n",
    "concept_option1 = create_expanded_button('option-1', 'success')\n",
    "concept_option1 .style.button_color = '#97C3F2'\n",
    "concept_option1 .style.text_color = 'black'\n",
    "\n",
    "concept_option2 = create_expanded_button('option-2', 'success')\n",
    "concept_option2.style.button_color = '#B4D5F8'\n",
    "concept_option2.style.text_color = 'black'\n",
    "\n",
    "concept_option3 = create_expanded_button('option-3', 'success')\n",
    "concept_option3.style.button_color = '#B4D5F9'\n",
    "concept_option3.style.text_color = 'black'\n",
    "\n",
    "concept_grid = GridspecLayout(4, 41, grid_gap='5px', height='170px')\n",
    "concept_grid[0, 1:41] = concept_header\n",
    "concept_grid[1, 1:41] = concept_option1\n",
    "concept_grid[2, 1:41] = concept_option2\n",
    "concept_grid[3, 1:41] = concept_option3\n",
    "# concept_grid"
   ]
  },
  {
   "cell_type": "code",
   "execution_count": 12,
   "id": "538391d6",
   "metadata": {},
   "outputs": [],
   "source": [
    "left_col = widgets.VBox(\n",
    "    [image_headline, concept_grid],\n",
    "    layout=widgets.Layout(\n",
    "        width='auto',  # Set the width to 50% of the container or viewport\n",
    "        height='auto',  # Set a fixed height\n",
    "#         border_right='solid 4px grey',\n",
    "        padding='10px',\n",
    "#         margin='auto',  # Center the VBox horizontally\n",
    "        align_items='flex-start',  # Center the items inside the VBox   \"flex-start\"\n",
    "        justify_content='center'  # Center the items vertically inside the VBox\n",
    "    )\n",
    ")\n",
    "\n",
    "\n",
    "# vbox_headline = widgets.VBox([image_headline, concept_grid])\n",
    "# display(left_col) "
   ]
  },
  {
   "cell_type": "code",
   "execution_count": 13,
   "id": "0c6612b7",
   "metadata": {},
   "outputs": [],
   "source": [
    "global stored_choices, path\n",
    "\n",
    "stored_choices = {}\n",
    "path = \"../temp_storage.json\"\n",
    "back_path = \"../backtracking.json\""
   ]
  },
  {
   "cell_type": "code",
   "execution_count": 14,
   "id": "462d62e1",
   "metadata": {},
   "outputs": [],
   "source": [
    "with open(path, \"r\") as f:\n",
    "    stored_choices = json.load(f)"
   ]
  },
  {
   "cell_type": "code",
   "execution_count": 15,
   "id": "dc10f247",
   "metadata": {},
   "outputs": [],
   "source": [
    "with open(back_path, 'r') as f:\n",
    "    back_list = json.load(f)"
   ]
  },
  {
   "cell_type": "code",
   "execution_count": 37,
   "id": "f34a6729",
   "metadata": {},
   "outputs": [],
   "source": [
    "# Read the CSV file into a DataFrame\n",
    "\n",
    "df = pd.read_csv('new_format.csv', low_memory=False)"
   ]
  },
  {
   "cell_type": "code",
   "execution_count": 38,
   "id": "29420c5d",
   "metadata": {},
   "outputs": [],
   "source": [
    "# seperates the string based on ',' also removes the whitespace after comma & makes a list\n",
    "\n",
    "def split_and_trim(s):\n",
    "    return [item.strip() for item in s.split(',')]"
   ]
  },
  {
   "cell_type": "code",
   "execution_count": 39,
   "id": "48635952",
   "metadata": {},
   "outputs": [],
   "source": [
    "# gets the question based on value of other column\n",
    "\n",
    "ques1 = df.loc[df['question_code'] == 'cam_strat_covar', 'question_text'].iloc[0]\n",
    "opt1 = df.loc[df['question_code'] == 'cam_strat_covar', 'q_option_label'].iloc[0]\n",
    "opt_codes1 = df.loc[df['question_code'] == 'cam_strat_covar', 'q_option_code'].iloc[0]\n",
    "\n",
    "opt1 = split_and_trim(opt1)\n",
    "opt_codes1 = split_and_trim(opt_codes1)\n",
    "\n",
    "ques2 = df.loc[df['question_code'] == 'cam_strat_covar_num', 'question_text'].iloc[0]"
   ]
  },
  {
   "cell_type": "code",
   "execution_count": 20,
   "id": "02383e68",
   "metadata": {},
   "outputs": [],
   "source": [
    "# Factor widget\n",
    "\n",
    "question1 = create_expanded_button(ques1, 'success')\n",
    "question1.style.button_color = 'lightblue'\n",
    "question1.style.text_color = 'black'\n",
    "# Add custom class to the button\n",
    "question1.add_class('custom-button')\n",
    "\n",
    "option1 = create_expanded_button(opt1[0], 'success')\n",
    "option1.style.button_color = 'lightgreen'\n",
    "option1.style.text_color = 'black'\n",
    "\n",
    "option2 = create_expanded_button(opt1[1], 'success')\n",
    "option2.style.button_color = 'green'\n",
    "option2.style.text_color = 'black'\n",
    "\n",
    "\n",
    "# Create a HTML widget to include the custom CSS\n",
    "css_widget = widgets.HTML(value=css)\n",
    "\n",
    "factor_grid = GridspecLayout(4, 12, grid_gap='3px', height='250px')\n",
    "factor_grid[1:2, 2:6] = question1\n",
    "factor_grid[0, 7:9] = option1\n",
    "factor_grid[2, 7:9] = option2\n",
    "\n",
    "# factor_grid\n",
    "\n",
    "logical_integer_container = widgets.VBox(children=[factor_grid, css_widget], layout=widgets.Layout(\n",
    "    align_items='center'  # Center align vertically\n",
    "#     border='solid 2px black',\n",
    "#     width = \"70%\"\n",
    "#     justify_content='center'  # Center align horizontally\n",
    "#     height='100vh'  # Set height to 100% of viewport height for vertical centering\n",
    "))\n",
    "# logical_integer_container"
   ]
  },
  {
   "cell_type": "code",
   "execution_count": 22,
   "id": "48b933ba",
   "metadata": {},
   "outputs": [],
   "source": [
    "# Factor widget\n",
    "\n",
    "question2 = create_expanded_button(ques2, 'success')\n",
    "question2.style.button_color = 'lightblue'\n",
    "question2.style.text_color = 'black'\n",
    "# Add custom class to the button\n",
    "question2.add_class('custom-button')\n",
    "\n",
    "options_widget2 = widgets.IntText(\n",
    "                            value=0,  # Default value\n",
    "                            description=\"Enter value\",\n",
    "                            disabled=False,\n",
    "                            layout={'width': 'max-content'}\n",
    "                        )\n",
    "\n",
    "# Create a HTML widget to include the custom CSS\n",
    "css_widget = widgets.HTML(value=css)\n",
    "\n",
    "integer_grid = GridspecLayout(4, 12, grid_gap='3px', height='200px')\n",
    "integer_grid[1:3, 0:7] = question2\n",
    "integer_grid[1:2, 8:12] = options_widget2\n",
    "\n",
    "# factor_grid\n",
    "\n",
    "integer_container = widgets.VBox(children=[integer_grid, css_widget], layout=widgets.Layout(\n",
    "    align_items='center'  # Center align vertically\n",
    "#     border='solid 2px black',\n",
    "#     width = \"70%\"\n",
    "#     justify_content='center'  # Center align horizontally\n",
    "#     height='100vh'  # Set height to 100% of viewport height for vertical centering\n",
    "))\n",
    "# integer_container"
   ]
  },
  {
   "cell_type": "code",
   "execution_count": 23,
   "id": "6ca4cb74",
   "metadata": {},
   "outputs": [],
   "source": [
    "output = widgets.Output()\n",
    "def option_1_button_clicked(event):\n",
    "    with output:\n",
    "        clear_output()\n",
    "        global selected_objective\n",
    "        \n",
    "        display(integer_container)\n",
    "        selected_objective = stored_choices['objective']\n",
    "        \n",
    "factor_grid[0, 7:9].on_click(option_1_button_clicked)"
   ]
  },
  {
   "cell_type": "code",
   "execution_count": 24,
   "id": "2b10884e",
   "metadata": {},
   "outputs": [],
   "source": [
    "output = widgets.Output()\n",
    "def option_2_button_clicked(event):\n",
    "    with output:\n",
    "        clear_output()\n",
    "        global selected_objective\n",
    "        \n",
    "        selected_option = factor_grid[2, 7:9].description\n",
    "        selected_option_index = opt.index(selected_option)\n",
    "        selected_option_code = opt_codes[selected_option_index]\n",
    "        \n",
    "        stored_choices[\"cam_strat_covar\"] = selected_option_code\n",
    "        \n",
    "        with open(path, \"w\") as f:\n",
    "            json.dump(stored_choices, f)\n",
    "            \n",
    "        selected_objective = stored_choices['objective']\n",
    "        \n",
    "factor_grid[2, 7:9].on_click(option_2_button_clicked)"
   ]
  },
  {
   "cell_type": "code",
   "execution_count": 25,
   "id": "81715eee",
   "metadata": {},
   "outputs": [],
   "source": [
    "# Define the iframe HTML for a YouTube video\n",
    "iframe = \"\"\"\n",
    "<iframe width=\"800\" height=\"500\" src=\"https://ab-rcsc.github.io/RCSC-WildCAM_Remote-Camera-Survey-Guidelines-and-Metadata-Standards/2_metadata-standards/2_8.0_Deployment.html#deployment-start-date-time-dd-mmm-yyyy-hh-mm-ss\" \n",
    "        frameborder=\"0\" allow=\"accelerometer; autoplay; encrypted-media; gyroscope; picture-in-picture\" \n",
    "        allowfullscreen></iframe>\n",
    "\"\"\"\n",
    "\n",
    "# Display the iframe\n",
    "# display(HTML(iframe))\n"
   ]
  },
  {
   "cell_type": "code",
   "execution_count": 26,
   "id": "8a481b24",
   "metadata": {},
   "outputs": [],
   "source": [
    "# Create an Output widget for the pop-up window content\n",
    "output_popup = widgets.Output()\n",
    "\n",
    "# Function to show the pop-up window\n",
    "def show_popup(b):\n",
    "    with output_popup:\n",
    "        output_popup.clear_output()\n",
    "        display(popup_window)\n",
    "\n",
    "# Function to close the pop-up window\n",
    "def close_popup(b):\n",
    "    output_popup.clear_output()\n",
    "\n",
    "# Create a close button for the pop-up window\n",
    "close_button = widgets.Button(\n",
    "    description=\"Close\",\n",
    "    layout=widgets.Layout(width='100px')\n",
    ")\n",
    "close_button.on_click(close_popup)"
   ]
  },
  {
   "cell_type": "code",
   "execution_count": 27,
   "id": "e0b151e2",
   "metadata": {},
   "outputs": [],
   "source": [
    "# Create the pop-up window\n",
    "popup_window = widgets.VBox(\n",
    "    children=[\n",
    "        widgets.HTML(iframe),\n",
    "#         widgets.HTML('<h3>Pop-up Window</h3>'),\n",
    "        close_button\n",
    "    ],\n",
    "    layout=widgets.Layout(\n",
    "        display='flex',\n",
    "        flex_flow='column',\n",
    "        align_items='center',\n",
    "        justify_content='center',\n",
    "        border='solid 1px grey',\n",
    "        padding='10px',\n",
    "        width='auto',\n",
    "        height='auto',\n",
    "        background_color='lightyellow'\n",
    "    )\n",
    ")"
   ]
  },
  {
   "cell_type": "code",
   "execution_count": 28,
   "id": "228e59d1",
   "metadata": {},
   "outputs": [],
   "source": [
    "# Create a button that will be positioned at the top right corner\n",
    "button = widgets.Button(\n",
    "    description=\"Show Popup\"\n",
    "#     layout=widgets.Layout(width='100px')\n",
    ")\n",
    "button.on_click(show_popup)"
   ]
  },
  {
   "cell_type": "code",
   "execution_count": 29,
   "id": "8541624c",
   "metadata": {},
   "outputs": [],
   "source": [
    "# Create a buttons for submitting the question\n",
    "\n",
    "submit_button = widgets.Button(description=\"Submit\")"
   ]
  },
  {
   "cell_type": "code",
   "execution_count": 30,
   "id": "3b4dbe9d",
   "metadata": {},
   "outputs": [],
   "source": [
    "# Create a button for going back to previous question\n",
    "\n",
    "back_button = widgets.Button(description=\"Back\")"
   ]
  },
  {
   "cell_type": "code",
   "execution_count": 31,
   "id": "8bfc723d",
   "metadata": {},
   "outputs": [],
   "source": [
    "# Create a button for skipping the question\n",
    "skip_button = widgets.Button(description=\"Skip\")\n",
    "# skip_button.add_class(\"lbl_bg\");"
   ]
  },
  {
   "cell_type": "code",
   "execution_count": 32,
   "id": "cf361c50",
   "metadata": {},
   "outputs": [],
   "source": [
    "# For going back to last question\n",
    "\n",
    "output = widgets.Output()\n",
    "def on_back_button_clicked(event):\n",
    "    with output:\n",
    "        clear_output()\n",
    "        file_name = back_list[-1]\n",
    "        notebook_filename = file_name + \".ipynb\"\n",
    "        link = Markdown('''<a href=\"{}\" target=\"_self\" rel=\"noopener noreferrer\">Previous</a>'''.format(notebook_filename))\n",
    "        back_list.pop()\n",
    "        with open (back_path, \"w\")as f:\n",
    "            json.dump(back_list, f)\n",
    "        display(link)\n",
    "\n",
    "back_button.on_click(on_back_button_clicked)"
   ]
  },
  {
   "cell_type": "code",
   "execution_count": 33,
   "id": "99af7993",
   "metadata": {},
   "outputs": [],
   "source": [
    "output = widgets.Output()\n",
    "def on_skip_button_clicked(event):\n",
    "    with output:\n",
    "        clear_output()\n",
    "        link = Markdown('''<a href=\"https://voila.readthedocs.io/en/stable/deploy.html\" target=\"_self\"> \n",
    "                                    Next \n",
    "                            </a>''')\n",
    "        display(link)\n",
    "\n",
    "skip_button.on_click(on_skip_button_clicked)\n",
    "# vbox_result = widgets.VBox([question_widget1, options_widget1, submit_button, output, choice])"
   ]
  },
  {
   "cell_type": "code",
   "execution_count": 34,
   "id": "c58ee83d",
   "metadata": {},
   "outputs": [],
   "source": [
    "output = widgets.Output()\n",
    "def on_button_clicked(event):\n",
    "    with output:\n",
    "        clear_output()\n",
    "        global selected_option1\n",
    "        next_notebook = ''\n",
    "        link = \"Submit your answer for next question\"\n",
    "\n",
    "        next_notebook = \"surv_dur_min_max\"\n",
    "            \n",
    "        notebook_filename = next_notebook + \".ipynb\"\n",
    "        \n",
    "        link = Markdown('''<a href=\"{}\" target=\"_self\" rel=\"noopener noreferrer\">Next</a>'''.format(notebook_filename))\n",
    "\n",
    "        back_list.append(\"cam_strat_covar\")\n",
    "        with open (back_path, \"w\")as f:\n",
    "            json.dump(back_list, f)\n",
    "            \n",
    "        if options_widget2.value > 0:\n",
    "            stored_choices[\"cam_strat_covar\"] = options_widget2.value\n",
    "            options_widget2.value = 0\n",
    "        \n",
    "        with open(path, \"w\") as f:\n",
    "            json.dump(stored_choices, f)\n",
    "\n",
    "        display(link)\n",
    "\n",
    "submit_button.on_click(on_button_clicked)"
   ]
  },
  {
   "cell_type": "code",
   "execution_count": 35,
   "id": "22c5f6d4",
   "metadata": {},
   "outputs": [
    {
     "data": {
      "application/vnd.jupyter.widget-view+json": {
       "model_id": "ca47a291510c467893a64b6c9de74680",
       "version_major": 2,
       "version_minor": 0
      },
      "text/plain": [
       "HBox(children=(VBox(children=(Image(value=b'\\x89PNG\\r\\n\\x1a\\n\\x00\\x00\\x00\\rIHDR\\x00\\x00\\x01\\xfb\\x00\\x00\\x01|\\x…"
      ]
     },
     "metadata": {},
     "output_type": "display_data"
    }
   ],
   "source": [
    "\n",
    "all_button = widgets.HBox(\n",
    "    [back_button, submit_button, skip_button],\n",
    "    layout=widgets.Layout(\n",
    "        width='70%',  # Set the width to 50% of the container or viewport\n",
    "        height='auto',  # Set a fixed height\n",
    "#         border='solid 2px grey',\n",
    "        padding='10px',\n",
    "        margin='auto',  # Center the VBox horizontally\n",
    "        align_items='center',  # Center the items inside the VBox\n",
    "        justify_content='center'  # Center the items vertically inside the VBox\n",
    "    )\n",
    ")\n",
    "buttons = widgets.VBox(\n",
    "    [output, all_button],\n",
    "    layout=widgets.Layout(\n",
    "        width='70%',  # Set the width to 50% of the container or viewport\n",
    "        height='auto',  # Set a fixed height\n",
    "#         border='solid 2px grey',\n",
    "        padding='10px',\n",
    "        margin='auto',  # Center the VBox horizontally\n",
    "        align_items='center',  # Center the items inside the VBox\n",
    "        justify_content='center'  # Center the items vertically inside the VBox\n",
    "    )\n",
    ")\n",
    "\n",
    "\n",
    "\n",
    "upper = widgets.VBox(\n",
    "    [logical_integer_container, buttons],\n",
    "    layout=widgets.Layout(\n",
    "        width='70%',  # Set the width to 50% of the container or viewport\n",
    "        height='auto',  # Set a fixed height\n",
    "        border='solid 2px grey',\n",
    "        padding='10px',\n",
    "        margin='auto',  # Center the VBox horizontally\n",
    "        align_items='center',  # Center the items inside the VBox\n",
    "        justify_content='center'  # Center the items vertically inside the VBox\n",
    "    )\n",
    ")\n",
    "\n",
    "\n",
    "popup = widgets.VBox(children=[button, output_popup], layout=widgets.Layout(\n",
    "        width='70%',  # Set the width to 50% of the container or viewport\n",
    "        height='auto',  # Set a fixed height\n",
    "#         border='solid 4px grey',\n",
    "        padding='10px',\n",
    "        margin='auto',  # Center the VBox horizontally\n",
    "        align_items='center',  # Center the items inside the VBox\n",
    "        justify_content='center'  # Center the items vertically inside the VBox\n",
    "    ))\n",
    "\n",
    "right_col = widgets.VBox(children=[html_header, header_css_widget, upper, popup, html_footer, footer_css_widget], layout=widgets.Layout(\n",
    "        width='70%',  # Set the width to 50% of the container or viewport\n",
    "        height='auto',  # Set a fixed height\n",
    "        border_left='solid 5px grey',\n",
    "        padding='10px',\n",
    "        margin='auto',  # Center the VBox horizontally\n",
    "        align_items='center',  # Center the items inside the VBox\n",
    "        justify_content='center'\n",
    "))\n",
    "\n",
    "cols = widgets.HBox(\n",
    "    [left_col, right_col],\n",
    "    layout=widgets.Layout(\n",
    "        width='auto',  # Set the width to 50% of the container or viewport\n",
    "        height='auto',  # Set a fixed height\n",
    "        border='solid 4px grey',\n",
    "#         padding='10px',\n",
    "#         margin='auto',  # Center the VBox horizontally\n",
    "        align_items='flex-start',  # Center the items inside the VBox\n",
    "        justify_content='center',  # Center the items vertically inside the VBox\n",
    "        background_color='lightyellow'\n",
    "    )\n",
    ")\n",
    "\n",
    "# Display the container\n",
    "\n",
    "# right_col.add_class(\"box_style\")\n",
    "# display(left_col)\n",
    "# display(right_col)\n",
    "display(cols)\n",
    "# display(popup)"
   ]
  },
  {
   "cell_type": "code",
   "execution_count": null,
   "id": "62710cff",
   "metadata": {},
   "outputs": [],
   "source": []
  }
 ],
 "metadata": {
  "kernelspec": {
   "display_name": "Python 3 (ipykernel)",
   "language": "python",
   "name": "python3"
  },
  "language_info": {
   "codemirror_mode": {
    "name": "ipython",
    "version": 3
   },
   "file_extension": ".py",
   "mimetype": "text/x-python",
   "name": "python",
   "nbconvert_exporter": "python",
   "pygments_lexer": "ipython3",
   "version": "3.12.3"
  }
 },
 "nbformat": 4,
 "nbformat_minor": 5
}
