{
 "cells": [
  {
   "cell_type": "code",
   "execution_count": 116,
   "id": "66ed741d",
   "metadata": {},
   "outputs": [],
   "source": [
    "import json\n",
    "import pandas as pd\n",
    "import ipywidgets as widgets\n",
    "from IPython.display import display, Javascript, Markdown, clear_output, HTML\n",
    "from ipywidgets import Button, Layout, jslink, IntText, IntSlider, GridspecLayout"
   ]
  },
  {
   "cell_type": "code",
   "execution_count": 117,
   "id": "13557dd0",
   "metadata": {},
   "outputs": [],
   "source": [
    "# Image Widget\n",
    "\n",
    "file = open(\"../logo.png\", \"rb\")\n",
    "image = file.read()\n",
    "\n",
    "image_headline = widgets.Image(\n",
    "                    value=image,\n",
    "                    format='jpg',\n",
    "                    width='200'\n",
    "                )\n",
    "\n",
    "label_headline = widgets.Label(\n",
    "                    value='',\n",
    "                    style={'description_width': 'initial'}\n",
    "                )\n",
    "\n",
    "vbox_headline = widgets.VBox([image_headline, label_headline])"
   ]
  },
  {
   "cell_type": "code",
   "execution_count": 118,
   "id": "0e20e2ea",
   "metadata": {},
   "outputs": [],
   "source": [
    "global stored_choices, path\n",
    "\n",
    "# stored_choices = {}\n",
    "path = \"../temp_storage.json\"\n",
    "back_path = \"../backtracking.json\""
   ]
  },
  {
   "cell_type": "code",
   "execution_count": 119,
   "id": "ecf635e0",
   "metadata": {},
   "outputs": [],
   "source": [
    "with open(path, \"r\") as f:\n",
    "    stored_choices = json.load(f)"
   ]
  },
  {
   "cell_type": "code",
   "execution_count": 120,
   "id": "dabf0eb3",
   "metadata": {},
   "outputs": [],
   "source": [
    "with open(back_path, 'r') as f:\n",
    "    back_list = json.load(f)"
   ]
  },
  {
   "cell_type": "code",
   "execution_count": 121,
   "id": "4ae3b753",
   "metadata": {},
   "outputs": [],
   "source": [
    "# Read the CSV file into a DataFrame\n",
    "\n",
    "df = pd.read_csv('new_format.csv', low_memory=False)"
   ]
  },
  {
   "cell_type": "code",
   "execution_count": 122,
   "id": "d73fa4d6",
   "metadata": {},
   "outputs": [],
   "source": [
    "notebook_list = [\"objective\", \"num_cams\", \"cam_strat_covar\", \"surv_dur_min_max\", \"sp_asymptote\", \n",
    "                 \"obj_targ_sp\", \"sp_info\", \"sp_occ_restr\", \"sp_hr_size\", \"sp_size\", \"sp_rarity\", \n",
    "                 \"sp_detprob_cat\", \"cam_independent\"]"
   ]
  },
  {
   "cell_type": "code",
   "execution_count": 123,
   "id": "b9bfeeb0",
   "metadata": {},
   "outputs": [],
   "source": [
    "# seperates the string based on ',' also removes the whitespace after comma & makes a list\n",
    "\n",
    "def split_and_trim(s):\n",
    "    return [item.strip() for item in s.split(',')]"
   ]
  },
  {
   "cell_type": "code",
   "execution_count": 124,
   "id": "37b3733c",
   "metadata": {},
   "outputs": [],
   "source": [
    "# gets the question based on value of other column\n",
    "\n",
    "ques1 = df.loc[df['question_code'] == 'surv_dur_mth_min', 'question_text'].iloc[0]\n",
    "opt1 = df.loc[df['question_code'] == 'surv_dur_mth_min', 'q_option_label'].iloc[0]\n",
    "opt_codes1 = df.loc[df['question_code'] == 'surv_dur_mth_min', 'q_option_code'].iloc[0]\n",
    "\n",
    "opt1 = split_and_trim(opt1)\n",
    "opt_codes1 = split_and_trim(opt_codes1)\n",
    "\n",
    "# ques2 = df.loc[df['question_code'] == 'num_cams_avail', 'question_text'].iloc[0]"
   ]
  },
  {
   "cell_type": "code",
   "execution_count": 125,
   "id": "4ce9a00e",
   "metadata": {},
   "outputs": [],
   "source": [
    "# # Display question and options as widgets\n",
    "\n",
    "# question_widget1 = widgets.HTML(value=f\"<h3>{ques1}</h3>\")\n",
    "# options_widget1 = widgets.RadioButtons(options=opt1, value = None, layout={'width': 'max-content'})\n",
    "\n",
    "# # question_widget2 = widgets.HTML(value=f\"<h3>{ques2}</h3>\")\n",
    "# # options_widget2 = widgets.IntText(\n",
    "# #                             value=0,  # Default value\n",
    "# #                             description='Enter value:',\n",
    "# #                             disabled=False,\n",
    "# #                             layout={'width': 'max-content'}\n",
    "# #                         )"
   ]
  },
  {
   "cell_type": "code",
   "execution_count": null,
   "id": "def008ee",
   "metadata": {},
   "outputs": [],
   "source": []
  },
  {
   "cell_type": "code",
   "execution_count": null,
   "id": "542b9328",
   "metadata": {},
   "outputs": [],
   "source": []
  },
  {
   "cell_type": "code",
   "execution_count": null,
   "id": "b3826b31",
   "metadata": {},
   "outputs": [],
   "source": []
  },
  {
   "cell_type": "code",
   "execution_count": null,
   "id": "e5d372c3",
   "metadata": {},
   "outputs": [],
   "source": []
  },
  {
   "cell_type": "code",
   "execution_count": 126,
   "id": "532f7517",
   "metadata": {},
   "outputs": [],
   "source": [
    "def create_expanded_button(description, button_style):\n",
    "    return Button(description=description, button_style=button_style, layout=Layout(height='auto', width='auto')) #width='max-content'"
   ]
  },
  {
   "cell_type": "code",
   "execution_count": 127,
   "id": "5760656b",
   "metadata": {},
   "outputs": [],
   "source": [
    "# Factor widget\n",
    "\n",
    "ques_button = create_expanded_button(ques1, 'success')\n",
    "ques_button.style.button_color = 'lightblue'\n",
    "ques_button.style.text_color = 'black'\n",
    "\n",
    "option_1_button = create_expanded_button(opt1[0], 'success')\n",
    "option_1_button.style.button_color = 'lightgreen'\n",
    "option_1_button.style.text_color = 'black'\n",
    "\n",
    "option_2_button = create_expanded_button(opt1[1], 'success')\n",
    "option_2_button.style.button_color = 'red'\n",
    "option_2_button.style.text_color = 'black'\n",
    "\n",
    "\n",
    "factor_grid = GridspecLayout(4, 12, grid_gap='5px', height='200px')\n",
    "factor_grid[1:3, 0:6] = ques_button\n",
    "factor_grid[1, 7:9] = option_1_button\n",
    "factor_grid[2, 7:9] = option_2_button\n",
    "\n",
    "# factor_grid"
   ]
  },
  {
   "cell_type": "code",
   "execution_count": 128,
   "id": "efe3620d",
   "metadata": {},
   "outputs": [],
   "source": [
    "output = widgets.Output()\n",
    "def option_1_button_clicked(event):\n",
    "    with output:\n",
    "        clear_output()\n",
    "        global options_widget2\n",
    "        options_widget2 = widgets.IntText(\n",
    "                            value=0,  # Default value\n",
    "                            description='Enter value:',\n",
    "                            disabled=False,\n",
    "                            layout={'width': 'max-content'}\n",
    "                        )\n",
    "        \n",
    "        display(options_widget2)\n",
    "        \n",
    "factor_grid[1, 7:9].on_click(option_1_button_clicked)"
   ]
  },
  {
   "cell_type": "code",
   "execution_count": 129,
   "id": "5c710794",
   "metadata": {},
   "outputs": [],
   "source": [
    "output = widgets.Output()\n",
    "def option_2_button_clicked(event):\n",
    "    with output:\n",
    "        clear_output()\n",
    "        selected_option = factor_grid[2, 7:9].description\n",
    "        selected_option_index = opt1.index(selected_option)\n",
    "        selected_option_code = opt_codes1[selected_option_index]\n",
    "        \n",
    "        stored_choices[\"surv_dur_mth_min\"] = selected_option_code\n",
    "        \n",
    "factor_grid[2, 7:9].on_click(option_2_button_clicked)"
   ]
  },
  {
   "cell_type": "code",
   "execution_count": null,
   "id": "4d51810d",
   "metadata": {},
   "outputs": [],
   "source": []
  },
  {
   "cell_type": "code",
   "execution_count": null,
   "id": "f6ddd38d",
   "metadata": {},
   "outputs": [],
   "source": []
  },
  {
   "cell_type": "code",
   "execution_count": null,
   "id": "cb70173f",
   "metadata": {},
   "outputs": [],
   "source": []
  },
  {
   "cell_type": "code",
   "execution_count": 130,
   "id": "388c8e7c",
   "metadata": {},
   "outputs": [],
   "source": [
    "# Create a button for going back to previous question\n",
    "\n",
    "back_button = widgets.Button(description=\"Back\")"
   ]
  },
  {
   "cell_type": "code",
   "execution_count": 131,
   "id": "f5ade430",
   "metadata": {},
   "outputs": [],
   "source": [
    "# Create a buttons for submitting the question\n",
    "\n",
    "submit_button = widgets.Button(description=\"Submit\")"
   ]
  },
  {
   "cell_type": "code",
   "execution_count": 132,
   "id": "7084ee67",
   "metadata": {},
   "outputs": [],
   "source": [
    "current_notebook_index = stored_choices[\"next_notebook_index\"]"
   ]
  },
  {
   "cell_type": "code",
   "execution_count": 133,
   "id": "aee3a643",
   "metadata": {},
   "outputs": [],
   "source": [
    "selected_objective = stored_choices['objective']"
   ]
  },
  {
   "cell_type": "code",
   "execution_count": 134,
   "id": "0a7dace7",
   "metadata": {},
   "outputs": [],
   "source": [
    "condition = df.loc[df['page_name'] == 'sp_asymptote', 'json_logic'].iloc[0]\n",
    "condition_json = json.loads(condition)"
   ]
  },
  {
   "cell_type": "code",
   "execution_count": 135,
   "id": "0c6612b7",
   "metadata": {},
   "outputs": [],
   "source": [
    "# For going back to last question\n",
    "\n",
    "output = widgets.Output()\n",
    "def on_back_button_clicked(event):\n",
    "    with output:\n",
    "        clear_output()\n",
    "        file_name = back_list[-1]\n",
    "        notebook_filename = file_name + \".ipynb\"\n",
    "        link = Markdown('''<a href=\"{}\" target=\"_self\" rel=\"noopener noreferrer\">Previous</a>'''.format(notebook_filename))\n",
    "        back_list.pop()\n",
    "        with open (back_path, \"w\")as f:\n",
    "            json.dump(back_list, f)\n",
    "        display(link)\n",
    "\n",
    "back_button.on_click(on_back_button_clicked)"
   ]
  },
  {
   "cell_type": "code",
   "execution_count": 136,
   "id": "462d62e1",
   "metadata": {},
   "outputs": [],
   "source": [
    "output = widgets.Output()\n",
    "def on_button_clicked(event):\n",
    "    with output:\n",
    "        clear_output()\n",
    "        global selected_option1\n",
    "        \n",
    "        link = \"Submit your answer for next question\"\n",
    "        \n",
    "        if selected_objective in condition_json['objective']:\n",
    "            next_notebook_index = current_notebook_index + 1\n",
    "        else:\n",
    "            next_notebook_index = current_notebook_index + 2\n",
    "        notebook_filename = notebook_list[next_notebook_index] + \".ipynb\"\n",
    "        \n",
    "        link = Markdown('''<a href=\"{}\" target=\"_self\" rel=\"noopener noreferrer\">Next</a>'''.format(notebook_filename))\n",
    "\n",
    "        back_list.append(\"surv_dur_min_max\")\n",
    "        with open (back_path, \"w\")as f:\n",
    "            json.dump(back_list, f)\n",
    "        \n",
    "        if options_widget2.value > 0:\n",
    "            stored_choices[\"surv_dur_mth_min\"] = options_widget2.value\n",
    "            options_widget2.value = 0\n",
    "            \n",
    "        stored_choices[\"next_notebook_index\"] = next_notebook_index\n",
    "        \n",
    "        with open(path, \"w\") as f:\n",
    "            json.dump(stored_choices, f)\n",
    "\n",
    "        display(link)\n",
    "\n",
    "submit_button.on_click(on_button_clicked)"
   ]
  },
  {
   "cell_type": "code",
   "execution_count": 137,
   "id": "dc10f247",
   "metadata": {},
   "outputs": [
    {
     "data": {
      "application/vnd.jupyter.widget-view+json": {
       "model_id": "999fa84551fc4fa096c8519a261c6921",
       "version_major": 2,
       "version_minor": 0
      },
      "text/plain": [
       "VBox(children=(Image(value=b'\\x89PNG\\r\\n\\x1a\\n\\x00\\x00\\x00\\rIHDR\\x00\\x00\\x01\\xfb\\x00\\x00\\x01|\\x08\\x06\\x00\\x00\\…"
      ]
     },
     "metadata": {},
     "output_type": "display_data"
    },
    {
     "data": {
      "application/vnd.jupyter.widget-view+json": {
       "model_id": "b9875ceea0cb4aa7a2650a695fe4dfa4",
       "version_major": 2,
       "version_minor": 0
      },
      "text/plain": [
       "VBox(children=(GridspecLayout(children=(Button(button_style='success', description='Is there a minimum number …"
      ]
     },
     "metadata": {},
     "output_type": "display_data"
    },
    {
     "data": {
      "application/vnd.jupyter.widget-view+json": {
       "model_id": "485f4f76a72540fb9022ded746127fe7",
       "version_major": 2,
       "version_minor": 0
      },
      "text/plain": [
       "HBox(children=(Button(description='Back', style=ButtonStyle()), Button(description='Submit', style=ButtonStyle…"
      ]
     },
     "metadata": {},
     "output_type": "display_data"
    }
   ],
   "source": [
    "# Apply center alignment using CSS styling to the container\n",
    "\n",
    "container = widgets.VBox(children=[factor_grid, output], layout=widgets.Layout(\n",
    "    align_items='center'  # Center align vertically\n",
    "))\n",
    "\n",
    "button_container = widgets.HBox(children=[back_button, submit_button], layout=widgets.Layout(\n",
    "    justify_content='center',  # Center align horizontally\n",
    "))\n",
    "\n",
    "\n",
    "display(vbox_headline)\n",
    "display(container)\n",
    "display(button_container)"
   ]
  },
  {
   "cell_type": "code",
   "execution_count": null,
   "id": "90642348",
   "metadata": {},
   "outputs": [],
   "source": []
  },
  {
   "cell_type": "code",
   "execution_count": null,
   "id": "205559ae",
   "metadata": {},
   "outputs": [],
   "source": []
  },
  {
   "cell_type": "code",
   "execution_count": null,
   "id": "80ed17c9",
   "metadata": {},
   "outputs": [],
   "source": []
  },
  {
   "cell_type": "code",
   "execution_count": null,
   "id": "5f587178",
   "metadata": {},
   "outputs": [],
   "source": []
  },
  {
   "cell_type": "code",
   "execution_count": null,
   "id": "cb90d6e6",
   "metadata": {},
   "outputs": [],
   "source": []
  },
  {
   "cell_type": "code",
   "execution_count": null,
   "id": "a7c1f1b0",
   "metadata": {},
   "outputs": [],
   "source": []
  }
 ],
 "metadata": {
  "kernelspec": {
   "display_name": "Python 3 (ipykernel)",
   "language": "python",
   "name": "python3"
  },
  "language_info": {
   "codemirror_mode": {
    "name": "ipython",
    "version": 3
   },
   "file_extension": ".py",
   "mimetype": "text/x-python",
   "name": "python",
   "nbconvert_exporter": "python",
   "pygments_lexer": "ipython3",
   "version": "3.12.3"
  }
 },
 "nbformat": 4,
 "nbformat_minor": 5
}
