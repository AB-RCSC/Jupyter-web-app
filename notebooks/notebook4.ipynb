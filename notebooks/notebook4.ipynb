{
 "cells": [
  {
   "cell_type": "code",
   "execution_count": 5,
   "id": "67fb037c",
   "metadata": {},
   "outputs": [],
   "source": [
    "import ipywidgets as widgets\n",
    "from IPython.display import display, Javascript, Markdown, clear_output, HTML"
   ]
  },
  {
   "cell_type": "code",
   "execution_count": 34,
   "id": "aa652f5a",
   "metadata": {},
   "outputs": [],
   "source": [
    "choice1 = widgets.Text(description = \"answer1: \")\n",
    "choice2 = widgets.Text(description = \"answer2: \")\n",
    "choice3 = widgets.Text(description = \"answer3: \")"
   ]
  },
  {
   "cell_type": "code",
   "execution_count": 35,
   "id": "9e967c6a",
   "metadata": {},
   "outputs": [],
   "source": [
    "%store -r selected_option1\n",
    "%store -r selected_option2\n",
    "%store -r selected_option3"
   ]
  },
  {
   "cell_type": "code",
   "execution_count": 37,
   "id": "3757a9cd",
   "metadata": {},
   "outputs": [],
   "source": [
    "choice1.value = selected_option1\n",
    "choice2.value = selected_option2\n",
    "choice3.value = selected_option3"
   ]
  },
  {
   "cell_type": "code",
   "execution_count": 38,
   "id": "5c50923c",
   "metadata": {},
   "outputs": [],
   "source": [
    "summary = widgets.VBox([choice1, choice2, choice3])"
   ]
  },
  {
   "cell_type": "code",
   "execution_count": 39,
   "id": "122c5130",
   "metadata": {},
   "outputs": [
    {
     "data": {
      "application/vnd.jupyter.widget-view+json": {
       "model_id": "e5f8cf2488db4bd5acab28bb8bade85d",
       "version_major": 2,
       "version_minor": 0
      },
      "text/plain": [
       "VBox(children=(Text(value='Paris', description='answer1: '), Text(value='Elephant', description='answer2: '), …"
      ]
     },
     "metadata": {},
     "output_type": "display_data"
    }
   ],
   "source": [
    "display(summary)"
   ]
  },
  {
   "cell_type": "code",
   "execution_count": null,
   "id": "74b2765d",
   "metadata": {},
   "outputs": [],
   "source": []
  }
 ],
 "metadata": {
  "kernelspec": {
   "display_name": "Python 3 (ipykernel)",
   "language": "python",
   "name": "python3"
  },
  "language_info": {
   "codemirror_mode": {
    "name": "ipython",
    "version": 3
   },
   "file_extension": ".py",
   "mimetype": "text/x-python",
   "name": "python",
   "nbconvert_exporter": "python",
   "pygments_lexer": "ipython3",
   "version": "3.12.3"
  }
 },
 "nbformat": 4,
 "nbformat_minor": 5
}
