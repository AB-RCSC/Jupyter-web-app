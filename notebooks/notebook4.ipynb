{
 "cells": [
  {
   "cell_type": "code",
   "execution_count": 1,
   "id": "67fb037c",
   "metadata": {},
   "outputs": [],
   "source": [
    "import json\n",
    "import base64\n",
    "import ipywidgets as widgets\n",
    "from IPython.display import display, Javascript, Markdown, clear_output, HTML"
   ]
  },
  {
   "cell_type": "code",
   "execution_count": 2,
   "id": "d9babe1c",
   "metadata": {},
   "outputs": [],
   "source": [
    "# # widget_list = []\n",
    "# option1 = \"apple\"\n",
    "# option2 = \"bear\"\n",
    "# option3 = 2\n",
    "# option4 = 5.4"
   ]
  },
  {
   "cell_type": "code",
   "execution_count": 3,
   "id": "6d7fdedc",
   "metadata": {},
   "outputs": [],
   "source": [
    "# storing as a dictionary\n",
    "# %store -r stored_choices"
   ]
  },
  {
   "cell_type": "code",
   "execution_count": 4,
   "id": "cdfd485a",
   "metadata": {},
   "outputs": [],
   "source": [
    "global path\n",
    "path = \"../temp_storage.json\""
   ]
  },
  {
   "cell_type": "code",
   "execution_count": 5,
   "id": "19fb34c2",
   "metadata": {},
   "outputs": [],
   "source": [
    "# Read the updated JSON file\n",
    "with open(path, \"r\") as f:\n",
    "    stored_choices = json.load(f)"
   ]
  },
  {
   "cell_type": "code",
   "execution_count": 6,
   "id": "4379308c",
   "metadata": {},
   "outputs": [],
   "source": [
    "# # storing as a list\n",
    "# stored_values = [option1, option2, option3, option4]"
   ]
  },
  {
   "cell_type": "code",
   "execution_count": 7,
   "id": "0a4b9cb7",
   "metadata": {},
   "outputs": [],
   "source": [
    "# print(stored_choices)"
   ]
  },
  {
   "cell_type": "code",
   "execution_count": 8,
   "id": "ee2af881",
   "metadata": {},
   "outputs": [],
   "source": [
    "# implemented storing the choices as a list\n",
    "\n",
    "# def create_widgets(values):\n",
    "#     widget_list = []\n",
    "#     for value in values:\n",
    "#         if type(value)==int:\n",
    "#             widget = widgets.IntText(\n",
    "#                         value=value,\n",
    "#                         description=str(value)\n",
    "#                     )\n",
    "#             widget_list.append(widget)\n",
    "#         elif type(value)==str:\n",
    "#             widget = widgets.Text(\n",
    "#                         value=value,\n",
    "#                         description=str(value)\n",
    "#                     )\n",
    "#             widget_list.append(widget)\n",
    "#         elif type(value)==float:\n",
    "#             widget = widgets.FloatText(\n",
    "#                         value=value,\n",
    "#                         description=str(value)\n",
    "#                     )\n",
    "#             widget_list.append(widget)\n",
    "        \n",
    "#     return widget_list"
   ]
  },
  {
   "cell_type": "code",
   "execution_count": 9,
   "id": "54cc640c",
   "metadata": {},
   "outputs": [],
   "source": [
    "# implemented storing the choices as a dictionary\n",
    "\n",
    "def create_widgets(values):\n",
    "    widget_list = []\n",
    "    for key, value in values.items():\n",
    "        if type(value)==int:\n",
    "            widget = widgets.IntText(\n",
    "                        value=value,\n",
    "                        description=key,\n",
    "                        layout={'width': '400px'}\n",
    "                    )\n",
    "            widget_list.append(widget)\n",
    "        elif type(value)==str:\n",
    "            widget = widgets.Text(\n",
    "                        value=value,\n",
    "                        description=key,\n",
    "                        layout={'width': '400px'}\n",
    "                    )\n",
    "            widget_list.append(widget)\n",
    "        elif type(value)==float:\n",
    "            widget = widgets.FloatText(\n",
    "                        value=value,\n",
    "                        description=key,\n",
    "                        layout={'width': '400px'}\n",
    "                    )\n",
    "            widget_list.append(widget)\n",
    "        \n",
    "    return widget_list"
   ]
  },
  {
   "cell_type": "code",
   "execution_count": 10,
   "id": "e899c658",
   "metadata": {},
   "outputs": [],
   "source": [
    "final_widgets = create_widgets(stored_choices)"
   ]
  },
  {
   "cell_type": "code",
   "execution_count": 11,
   "id": "ff9b5463",
   "metadata": {},
   "outputs": [],
   "source": [
    "# Create a button for going back to previous question\n",
    "back_button = widgets.Button(description=\"Back\")"
   ]
  },
  {
   "cell_type": "code",
   "execution_count": 12,
   "id": "086b4246",
   "metadata": {},
   "outputs": [],
   "source": [
    "output = widgets.Output()\n",
    "def on_back_button_clicked(event):\n",
    "    with output:\n",
    "        clear_output()\n",
    "        notebook_filename = \"notebook5.ipynb\"\n",
    "        link = Markdown('''<a href=\"{}\" target=\"_self\" rel=\"noopener noreferrer\">Previous</a>'''.format(notebook_filename))\n",
    "        display(link)\n",
    "\n",
    "back_button.on_click(on_back_button_clicked)\n",
    "# vbox_result = widgets.VBox([question_widget1, options_widget1, submit_button, output, choice])"
   ]
  },
  {
   "cell_type": "code",
   "execution_count": 13,
   "id": "ab216422",
   "metadata": {},
   "outputs": [],
   "source": [
    "# print(type(final_widgets[2].value))"
   ]
  },
  {
   "cell_type": "code",
   "execution_count": 14,
   "id": "2974e0a6",
   "metadata": {},
   "outputs": [],
   "source": [
    "# # Create a download button\n",
    "# def create_download_link(file_path, description):\n",
    "#     with open(path, 'rb') as file:\n",
    "#         b64 = base64.b64encode(file.read()).decode()\n",
    "\n",
    "#     payload = f\"data:application/octet-stream;base64,{b64}\"\n",
    "#     html_button = f\"\"\"<a download=\"{path}\" href=\"{payload}\" target=\"_blank\">\n",
    "#                         <button class=\"p-Widget jupyter-widgets jupyter-button widget-button\">{description}</button>\n",
    "#                         </a>\"\"\"\n",
    "#     return widgets.HTML(html_button)\n",
    "\n",
    "# download_button = create_download_link(path, 'Download File')"
   ]
  },
  {
   "cell_type": "code",
   "execution_count": 18,
   "id": "03c91c74",
   "metadata": {},
   "outputs": [],
   "source": [
    "summary = widgets.VBox(final_widgets, layout=widgets.Layout(\n",
    "    align_items='center' # Center align vertically\n",
    "#     justify_content='center',  # Center align horizontally\n",
    "#     height='100vh'  # Set height to 100% of viewport height for vertical centering\n",
    "))\n",
    "\n",
    "final_container = widgets.VBox(children = [summary, back_button, output] , layout=widgets.Layout(\n",
    "    align_items='center' # Center align vertically\n",
    "#     justify_content='center'  # Center align horizontally\n",
    "#     height='100vh'  # Set height to 100% of viewport height for vertical centering\n",
    "))"
   ]
  },
  {
   "cell_type": "code",
   "execution_count": 17,
   "id": "1768fa92",
   "metadata": {},
   "outputs": [
    {
     "data": {
      "application/vnd.jupyter.widget-view+json": {
       "model_id": "907f6f5c3b26446e9aa09ec36e336175",
       "version_major": 2,
       "version_minor": 0
      },
      "text/plain": [
       "VBox(children=(VBox(children=(Text(value='Design a new remote camera project', description='answer1', layout=L…"
      ]
     },
     "metadata": {},
     "output_type": "display_data"
    }
   ],
   "source": [
    "display(final_container)"
   ]
  },
  {
   "cell_type": "code",
   "execution_count": 16,
   "id": "17e134af",
   "metadata": {},
   "outputs": [],
   "source": [
    "# Clear the content of the JSON file\n",
    "with open(path, \"w\") as f:\n",
    "    json.dump({}, f)"
   ]
  },
  {
   "cell_type": "code",
   "execution_count": 24,
   "id": "354c75a2",
   "metadata": {},
   "outputs": [],
   "source": [
    "# # for changing file name before downloading\n",
    "\n",
    "# import os\n",
    "# import base64\n",
    "# import ipywidgets as widgets\n",
    "# from IPython.display import display, HTML\n",
    "\n",
    "# # Define the initial file content\n",
    "# file_content = 'This file was created during runtime in a Binder session.'\n",
    "\n",
    "# # Create the file\n",
    "# file_path = 'runtime_data.txt'\n",
    "# with open(file_path, 'w') as file:\n",
    "#     file.write(file_content)\n",
    "\n",
    "# # Verify the file existence\n",
    "# if os.path.exists(file_path):\n",
    "#     print(f'File {file_path} created successfully.')\n",
    "# else:\n",
    "#     print(f'File {file_path} not found.')\n",
    "\n",
    "# # Create a text input for the user to specify the file name\n",
    "# file_name_input = widgets.Text(\n",
    "#     value='runtime_data.txt',\n",
    "#     placeholder='Type the file name',\n",
    "#     description='File name:',\n",
    "#     disabled=False\n",
    "# )\n",
    "\n",
    "# # Function to create a download link with the specified file name\n",
    "# def create_download_link(file_path, file_name):\n",
    "#     with open(file_path, 'rb') as file:\n",
    "#         b64 = base64.b64encode(file.read()).decode()\n",
    "#     payload = f\"data:application/octet-stream;base64,{b64}\"\n",
    "#     html_button = f\"\"\"\n",
    "#     <a download=\"{file_name}\" href=\"{payload}\" target=\"_blank\">\n",
    "#         <button class=\"p-Widget jupyter-widgets jupyter-button widget-button\">Download File</button>\n",
    "#     </a>\n",
    "#     \"\"\"\n",
    "#     return HTML(html_button)\n",
    "\n",
    "# # Function to update the download link based on the user input\n",
    "# def update_download_link(change):\n",
    "#     file_name = file_name_input.value\n",
    "#     download_button.value = create_download_link(file_path, file_name).data\n",
    "\n",
    "# # Create a download button and an output area for the download link\n",
    "# download_button = widgets.HTML()\n",
    "# file_name_input.observe(update_download_link, names='value')\n",
    "\n",
    "# # Display the widgets\n",
    "# display(file_name_input)\n",
    "# display(download_button)\n",
    "\n",
    "# # Trigger the initial update of the download link\n",
    "# update_download_link(None)\n"
   ]
  },
  {
   "cell_type": "code",
   "execution_count": null,
   "id": "ac2a8eb9",
   "metadata": {},
   "outputs": [],
   "source": []
  }
 ],
 "metadata": {
  "kernelspec": {
   "display_name": "Python 3 (ipykernel)",
   "language": "python",
   "name": "python3"
  },
  "language_info": {
   "codemirror_mode": {
    "name": "ipython",
    "version": 3
   },
   "file_extension": ".py",
   "mimetype": "text/x-python",
   "name": "python",
   "nbconvert_exporter": "python",
   "pygments_lexer": "ipython3",
   "version": "3.12.3"
  }
 },
 "nbformat": 4,
 "nbformat_minor": 5
}
