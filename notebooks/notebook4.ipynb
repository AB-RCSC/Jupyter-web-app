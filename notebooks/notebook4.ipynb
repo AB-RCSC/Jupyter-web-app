{
 "cells": [
  {
   "cell_type": "code",
   "execution_count": 98,
   "id": "67fb037c",
   "metadata": {},
   "outputs": [],
   "source": [
    "import ipywidgets as widgets\n",
    "from IPython.display import display, Javascript, Markdown, clear_output, HTML"
   ]
  },
  {
   "cell_type": "code",
   "execution_count": 99,
   "id": "d9babe1c",
   "metadata": {},
   "outputs": [],
   "source": [
    "# # widget_list = []\n",
    "# option1 = \"apple\"\n",
    "# option2 = \"bear\"\n",
    "# option3 = 2\n",
    "# option4 = 5.4"
   ]
  },
  {
   "cell_type": "code",
   "execution_count": 103,
   "id": "f6634dfe",
   "metadata": {},
   "outputs": [],
   "source": [
    "# storing as a dictionary\n",
    "%store -r stored_choices"
   ]
  },
  {
   "cell_type": "code",
   "execution_count": 104,
   "id": "4379308c",
   "metadata": {},
   "outputs": [],
   "source": [
    "# # storing as a list\n",
    "# stored_values = [option1, option2, option3, option4]"
   ]
  },
  {
   "cell_type": "code",
   "execution_count": 110,
   "id": "0a4b9cb7",
   "metadata": {},
   "outputs": [],
   "source": [
    "# print(stored_choices)"
   ]
  },
  {
   "cell_type": "code",
   "execution_count": 92,
   "id": "ee2af881",
   "metadata": {},
   "outputs": [],
   "source": [
    "# implemented storing the choices as a list\n",
    "\n",
    "# def create_widgets(values):\n",
    "#     widget_list = []\n",
    "#     for value in values:\n",
    "#         if type(value)==int:\n",
    "#             widget = widgets.IntText(\n",
    "#                         value=value,\n",
    "#                         description=str(value)\n",
    "#                     )\n",
    "#             widget_list.append(widget)\n",
    "#         elif type(value)==str:\n",
    "#             widget = widgets.Text(\n",
    "#                         value=value,\n",
    "#                         description=str(value)\n",
    "#                     )\n",
    "#             widget_list.append(widget)\n",
    "#         elif type(value)==float:\n",
    "#             widget = widgets.FloatText(\n",
    "#                         value=value,\n",
    "#                         description=str(value)\n",
    "#                     )\n",
    "#             widget_list.append(widget)\n",
    "        \n",
    "#     return widget_list"
   ]
  },
  {
   "cell_type": "code",
   "execution_count": 93,
   "id": "1c7a075f",
   "metadata": {},
   "outputs": [],
   "source": [
    "# implemented storing the choices as a dictionary\n",
    "\n",
    "def create_widgets(values):\n",
    "    widget_list = []\n",
    "    for key, value in values.items():\n",
    "        if type(value)==int:\n",
    "            widget = widgets.IntText(\n",
    "                        value=value,\n",
    "                        description=key\n",
    "                    )\n",
    "            widget_list.append(widget)\n",
    "        elif type(value)==str:\n",
    "            widget = widgets.Text(\n",
    "                        value=value,\n",
    "                        description=key\n",
    "                    )\n",
    "            widget_list.append(widget)\n",
    "        elif type(value)==float:\n",
    "            widget = widgets.FloatText(\n",
    "                        value=value,\n",
    "                        description=key\n",
    "                    )\n",
    "            widget_list.append(widget)\n",
    "        \n",
    "    return widget_list"
   ]
  },
  {
   "cell_type": "code",
   "execution_count": 106,
   "id": "f67889c0",
   "metadata": {},
   "outputs": [],
   "source": [
    "final_widgets = create_widgets(stored_choices)"
   ]
  },
  {
   "cell_type": "code",
   "execution_count": 107,
   "id": "2d0e6ba7",
   "metadata": {},
   "outputs": [],
   "source": [
    "# print(type(final_widgets[2].value))"
   ]
  },
  {
   "cell_type": "code",
   "execution_count": 108,
   "id": "e6cef1f1",
   "metadata": {},
   "outputs": [],
   "source": [
    "summary = widgets.VBox(final_widgets)"
   ]
  },
  {
   "cell_type": "code",
   "execution_count": 109,
   "id": "0fb052b4",
   "metadata": {},
   "outputs": [
    {
     "data": {
      "application/vnd.jupyter.widget-view+json": {
       "model_id": "20bf86c0c67c4c8087a77d0c694a1984",
       "version_major": 2,
       "version_minor": 0
      },
      "text/plain": [
       "VBox(children=(Text(value='Paris', description='selected_option1'), Text(value='Elephant', description='select…"
      ]
     },
     "metadata": {},
     "output_type": "display_data"
    }
   ],
   "source": [
    "display(summary)"
   ]
  },
  {
   "cell_type": "code",
   "execution_count": 70,
   "id": "aa652f5a",
   "metadata": {},
   "outputs": [],
   "source": [
    "# choice1 = widgets.Text(description = \"answer1: \")\n",
    "# choice2 = widgets.Text(description = \"answer2: \")\n",
    "# choice3 = widgets.Text(description = \"answer3: \")"
   ]
  },
  {
   "cell_type": "code",
   "execution_count": 35,
   "id": "9e967c6a",
   "metadata": {},
   "outputs": [],
   "source": [
    "# %store -r selected_option1\n",
    "# %store -r selected_option2\n",
    "# %store -r selected_option3"
   ]
  },
  {
   "cell_type": "code",
   "execution_count": 37,
   "id": "3757a9cd",
   "metadata": {},
   "outputs": [],
   "source": [
    "# choice1.value = selected_option1\n",
    "# choice2.value = selected_option2\n",
    "# choice3.value = selected_option3"
   ]
  },
  {
   "cell_type": "code",
   "execution_count": 38,
   "id": "5c50923c",
   "metadata": {},
   "outputs": [],
   "source": [
    "# summary = widgets.VBox([choice1, choice2, choice3])"
   ]
  },
  {
   "cell_type": "code",
   "execution_count": 39,
   "id": "122c5130",
   "metadata": {},
   "outputs": [
    {
     "data": {
      "application/vnd.jupyter.widget-view+json": {
       "model_id": "e5f8cf2488db4bd5acab28bb8bade85d",
       "version_major": 2,
       "version_minor": 0
      },
      "text/plain": [
       "VBox(children=(Text(value='Paris', description='answer1: '), Text(value='Elephant', description='answer2: '), …"
      ]
     },
     "metadata": {},
     "output_type": "display_data"
    }
   ],
   "source": [
    "# display(summary)"
   ]
  },
  {
   "cell_type": "code",
   "execution_count": null,
   "id": "4a9b4ae0",
   "metadata": {},
   "outputs": [],
   "source": []
  }
 ],
 "metadata": {
  "kernelspec": {
   "display_name": "Python 3 (ipykernel)",
   "language": "python",
   "name": "python3"
  },
  "language_info": {
   "codemirror_mode": {
    "name": "ipython",
    "version": 3
   },
   "file_extension": ".py",
   "mimetype": "text/x-python",
   "name": "python",
   "nbconvert_exporter": "python",
   "pygments_lexer": "ipython3",
   "version": "3.12.3"
  }
 },
 "nbformat": 4,
 "nbformat_minor": 5
}
