{
 "cells": [
  {
   "cell_type": "code",
   "execution_count": 274,
   "id": "67fb037c",
   "metadata": {},
   "outputs": [],
   "source": [
    "import json\n",
    "import ipywidgets as widgets\n",
    "from IPython.display import display, Javascript, Markdown, clear_output, HTML"
   ]
  },
  {
   "cell_type": "code",
   "execution_count": 275,
   "id": "d9babe1c",
   "metadata": {},
   "outputs": [],
   "source": [
    "# # widget_list = []\n",
    "# option1 = \"apple\"\n",
    "# option2 = \"bear\"\n",
    "# option3 = 2\n",
    "# option4 = 5.4"
   ]
  },
  {
   "cell_type": "code",
   "execution_count": 276,
   "id": "73572263",
   "metadata": {},
   "outputs": [],
   "source": [
    "# storing as a dictionary\n",
    "# %store -r stored_choices"
   ]
  },
  {
   "cell_type": "code",
   "execution_count": 277,
   "id": "78a4e838",
   "metadata": {},
   "outputs": [],
   "source": [
    "global path\n",
    "path = \"../temp_storage.json\""
   ]
  },
  {
   "cell_type": "code",
   "execution_count": 278,
   "id": "1b448d4f",
   "metadata": {},
   "outputs": [],
   "source": [
    "# Read the updated JSON file\n",
    "with open(path, \"r\") as f:\n",
    "    stored_choices = json.load(f)"
   ]
  },
  {
   "cell_type": "code",
   "execution_count": 279,
   "id": "4379308c",
   "metadata": {},
   "outputs": [],
   "source": [
    "# # storing as a list\n",
    "# stored_values = [option1, option2, option3, option4]"
   ]
  },
  {
   "cell_type": "code",
   "execution_count": 280,
   "id": "0a4b9cb7",
   "metadata": {},
   "outputs": [],
   "source": [
    "# print(stored_choices)"
   ]
  },
  {
   "cell_type": "code",
   "execution_count": 281,
   "id": "ee2af881",
   "metadata": {},
   "outputs": [],
   "source": [
    "# implemented storing the choices as a list\n",
    "\n",
    "# def create_widgets(values):\n",
    "#     widget_list = []\n",
    "#     for value in values:\n",
    "#         if type(value)==int:\n",
    "#             widget = widgets.IntText(\n",
    "#                         value=value,\n",
    "#                         description=str(value)\n",
    "#                     )\n",
    "#             widget_list.append(widget)\n",
    "#         elif type(value)==str:\n",
    "#             widget = widgets.Text(\n",
    "#                         value=value,\n",
    "#                         description=str(value)\n",
    "#                     )\n",
    "#             widget_list.append(widget)\n",
    "#         elif type(value)==float:\n",
    "#             widget = widgets.FloatText(\n",
    "#                         value=value,\n",
    "#                         description=str(value)\n",
    "#                     )\n",
    "#             widget_list.append(widget)\n",
    "        \n",
    "#     return widget_list"
   ]
  },
  {
   "cell_type": "code",
   "execution_count": 282,
   "id": "36162aba",
   "metadata": {},
   "outputs": [],
   "source": [
    "# implemented storing the choices as a dictionary\n",
    "\n",
    "def create_widgets(values):\n",
    "    widget_list = []\n",
    "    for key, value in values.items():\n",
    "        if type(value)==int:\n",
    "            widget = widgets.IntText(\n",
    "                        value=value,\n",
    "                        description=key,\n",
    "                        layout={'width': '400px'}\n",
    "                    )\n",
    "            widget_list.append(widget)\n",
    "        elif type(value)==str:\n",
    "            widget = widgets.Text(\n",
    "                        value=value,\n",
    "                        description=key,\n",
    "                        layout={'width': '400px'}\n",
    "                    )\n",
    "            widget_list.append(widget)\n",
    "        elif type(value)==float:\n",
    "            widget = widgets.FloatText(\n",
    "                        value=value,\n",
    "                        description=key,\n",
    "                        layout={'width': '400px'}\n",
    "                    )\n",
    "            widget_list.append(widget)\n",
    "        \n",
    "    return widget_list"
   ]
  },
  {
   "cell_type": "code",
   "execution_count": 283,
   "id": "53fafdc7",
   "metadata": {},
   "outputs": [],
   "source": [
    "final_widgets = create_widgets(stored_choices)"
   ]
  },
  {
   "cell_type": "code",
   "execution_count": 284,
   "id": "cffb9651",
   "metadata": {},
   "outputs": [],
   "source": [
    "# print(type(final_widgets[2].value))"
   ]
  },
  {
   "cell_type": "code",
   "execution_count": 285,
   "id": "f6626bce",
   "metadata": {},
   "outputs": [],
   "source": [
    "summary = widgets.VBox(final_widgets, layout=widgets.Layout(\n",
    "    align_items='center' # Center align vertically\n",
    "#     justify_content='center',  # Center align horizontally\n",
    "#     height='100vh'  # Set height to 100% of viewport height for vertical centering\n",
    "))"
   ]
  },
  {
   "cell_type": "code",
   "execution_count": 286,
   "id": "2e797eb7",
   "metadata": {},
   "outputs": [
    {
     "data": {
      "application/vnd.jupyter.widget-view+json": {
       "model_id": "d31efd33a80d40e58b0b22190fb2ece1",
       "version_major": 2,
       "version_minor": 0
      },
      "text/plain": [
       "VBox(children=(Text(value='Design a new remote camera project', description='answer1', layout=Layout(width='40…"
      ]
     },
     "metadata": {},
     "output_type": "display_data"
    }
   ],
   "source": [
    "display(summary)"
   ]
  },
  {
   "cell_type": "code",
   "execution_count": 287,
   "id": "7815161f",
   "metadata": {},
   "outputs": [],
   "source": [
    "# Clear the content of the JSON file\n",
    "with open(path, \"w\") as f:\n",
    "    json.dump({}, f)"
   ]
  },
  {
   "cell_type": "code",
   "execution_count": 288,
   "id": "aa652f5a",
   "metadata": {},
   "outputs": [],
   "source": [
    "# choice1 = widgets.Text(description = \"answer1: \")\n",
    "# choice2 = widgets.Text(description = \"answer2: \")\n",
    "# choice3 = widgets.Text(description = \"answer3: \")"
   ]
  },
  {
   "cell_type": "code",
   "execution_count": 289,
   "id": "9e967c6a",
   "metadata": {},
   "outputs": [],
   "source": [
    "# %store -r selected_option1\n",
    "# %store -r selected_option2\n",
    "# %store -r selected_option3"
   ]
  },
  {
   "cell_type": "code",
   "execution_count": 290,
   "id": "3757a9cd",
   "metadata": {},
   "outputs": [],
   "source": [
    "# choice1.value = selected_option1\n",
    "# choice2.value = selected_option2\n",
    "# choice3.value = selected_option3"
   ]
  },
  {
   "cell_type": "code",
   "execution_count": 291,
   "id": "5c50923c",
   "metadata": {},
   "outputs": [],
   "source": [
    "# summary = widgets.VBox([choice1, choice2, choice3])"
   ]
  },
  {
   "cell_type": "code",
   "execution_count": 292,
   "id": "122c5130",
   "metadata": {},
   "outputs": [],
   "source": [
    "# display(summary)"
   ]
  },
  {
   "cell_type": "code",
   "execution_count": null,
   "id": "42873dab",
   "metadata": {},
   "outputs": [],
   "source": []
  }
 ],
 "metadata": {
  "kernelspec": {
   "display_name": "Python 3 (ipykernel)",
   "language": "python",
   "name": "python3"
  },
  "language_info": {
   "codemirror_mode": {
    "name": "ipython",
    "version": 3
   },
   "file_extension": ".py",
   "mimetype": "text/x-python",
   "name": "python",
   "nbconvert_exporter": "python",
   "pygments_lexer": "ipython3",
   "version": "3.12.3"
  }
 },
 "nbformat": 4,
 "nbformat_minor": 5
}
