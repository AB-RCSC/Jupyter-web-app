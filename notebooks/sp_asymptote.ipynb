{
 "cells": [
  {
   "cell_type": "code",
   "execution_count": 1,
   "id": "076f4536",
   "metadata": {},
   "outputs": [],
   "source": [
    "import json\n",
    "import pandas as pd\n",
    "import ipywidgets as widgets\n",
    "from ipywidgets import Button, Layout, jslink, IntText, IntSlider, GridspecLayout\n",
    "from IPython.display import display, Javascript, Markdown, clear_output, HTML"
   ]
  },
  {
   "cell_type": "code",
   "execution_count": 2,
   "id": "9b04b861",
   "metadata": {},
   "outputs": [],
   "source": [
    "# Image Widget\n",
    "\n",
    "file = open(\"../logo.png\", \"rb\")\n",
    "image = file.read()\n",
    "\n",
    "image_headline = widgets.Image(\n",
    "                    value=image,\n",
    "                    format='jpg',\n",
    "                    width='200'\n",
    "                )\n",
    "\n",
    "label_headline = widgets.Label(\n",
    "                    value='',\n",
    "                    style={'description_width': 'initial'}\n",
    "                )\n",
    "\n",
    "vbox_headline = widgets.VBox([image_headline, label_headline])"
   ]
  },
  {
   "cell_type": "code",
   "execution_count": 3,
   "id": "0e86f940",
   "metadata": {},
   "outputs": [],
   "source": [
    "global stored_choices, path\n",
    "\n",
    "stored_choices = {}\n",
    "path = \"../temp_storage.json\"\n",
    "back_path = \"../backtracking.json\""
   ]
  },
  {
   "cell_type": "code",
   "execution_count": 4,
   "id": "4f5d4f30",
   "metadata": {},
   "outputs": [],
   "source": [
    "with open(path, \"r\") as f:\n",
    "    stored_choices = json.load(f)"
   ]
  },
  {
   "cell_type": "code",
   "execution_count": 5,
   "id": "413301cd",
   "metadata": {},
   "outputs": [],
   "source": [
    "with open(back_path, 'r') as f:\n",
    "    back_list = json.load(f)"
   ]
  },
  {
   "cell_type": "code",
   "execution_count": 6,
   "id": "7f2ed878",
   "metadata": {},
   "outputs": [],
   "source": [
    "# Read the CSV file into a DataFrame\n",
    "\n",
    "df = pd.read_csv('new_format.csv', low_memory=False)"
   ]
  },
  {
   "cell_type": "code",
   "execution_count": 7,
   "id": "4ce5c3e2",
   "metadata": {},
   "outputs": [],
   "source": [
    "notebook_list = [\"objective\", \"num_cams\", \"cam_strat_covar\", \"surv_dur_min_max\", \"sp_asymptote\", \n",
    "                 \"obj_targ_sp\", \"sp_info\", \"sp_occ_restr\", \"sp_hr_size\", \"sp_size\", \"sp_rarity\", \n",
    "                 \"sp_detprob_cat\", \"cam_independent\"]"
   ]
  },
  {
   "cell_type": "code",
   "execution_count": 8,
   "id": "ad558052",
   "metadata": {},
   "outputs": [],
   "source": [
    "# seperates the string based on ',' also removes the whitespace after comma & makes a list\n",
    "\n",
    "def split_and_trim(s):\n",
    "    return [item.strip() for item in s.split(',')]"
   ]
  },
  {
   "cell_type": "code",
   "execution_count": 9,
   "id": "07db2fbc",
   "metadata": {},
   "outputs": [],
   "source": [
    "# gets the question based on value of other column\n",
    "\n",
    "ques = df.loc[df['question_code'] == 'sp_asymptote', 'question_text'].iloc[0]\n",
    "opt = df.loc[df['question_code'] == 'sp_asymptote', 'q_option_label'].iloc[0]\n",
    "opt_codes = df.loc[df['question_code'] == 'sp_asymptote', 'q_option_code'].iloc[0]\n",
    "\n",
    "opt = split_and_trim(opt)\n",
    "opt_codes = split_and_trim(opt_codes)"
   ]
  },
  {
   "cell_type": "code",
   "execution_count": 10,
   "id": "091899f4",
   "metadata": {},
   "outputs": [],
   "source": [
    "# Display question and options as widgets\n",
    "\n",
    "question_widget = widgets.HTML(value=f\"<h3>{ques}</h3>\")\n",
    "options_widget = widgets.RadioButtons(options=opt, value = None, layout={'width': 'max-content'})"
   ]
  },
  {
   "cell_type": "code",
   "execution_count": 11,
   "id": "009bc876",
   "metadata": {},
   "outputs": [],
   "source": [
    "# Create a buttons for submitting the question\n",
    "\n",
    "submit_button = widgets.Button(description=\"Submit\")"
   ]
  },
  {
   "cell_type": "code",
   "execution_count": null,
   "id": "33abd226",
   "metadata": {},
   "outputs": [],
   "source": [
    "current_notebook_index = stored_choices[\"next_notebook_index\"]"
   ]
  },
  {
   "cell_type": "code",
   "execution_count": null,
   "id": "bd9a7d40",
   "metadata": {},
   "outputs": [],
   "source": []
  },
  {
   "cell_type": "code",
   "execution_count": null,
   "id": "6af0cc3b",
   "metadata": {},
   "outputs": [],
   "source": []
  },
  {
   "cell_type": "code",
   "execution_count": null,
   "id": "0dbcd873",
   "metadata": {},
   "outputs": [],
   "source": []
  },
  {
   "cell_type": "code",
   "execution_count": null,
   "id": "d291906a",
   "metadata": {},
   "outputs": [],
   "source": []
  },
  {
   "cell_type": "code",
   "execution_count": 12,
   "id": "0e886878",
   "metadata": {},
   "outputs": [],
   "source": [
    "# def create_expanded_button(description, button_style):\n",
    "#     return Button(description=description, button_style=button_style, layout=Layout(height='auto', width='auto')) #width='max-content'"
   ]
  },
  {
   "cell_type": "code",
   "execution_count": 13,
   "id": "80a0f19c",
   "metadata": {},
   "outputs": [],
   "source": [
    "# # Factor widget\n",
    "\n",
    "# sp_size = create_expanded_button(ques, 'success')\n",
    "# sp_size.style.button_color = 'lightblue'\n",
    "# sp_size.style.text_color = 'black'\n",
    "\n",
    "# sp_size_1 = create_expanded_button(opt[0], 'success')\n",
    "# sp_size_1.style.button_color = 'lightgreen'\n",
    "# sp_size_1.style.text_color = 'black'\n",
    "\n",
    "# sp_size_2 = create_expanded_button(opt[1], 'success')\n",
    "# sp_size_2.style.button_color = 'green'\n",
    "# sp_size_2.style.text_color = 'black'\n",
    "\n",
    "# sp_size_3 = create_expanded_button(opt[2], 'success')\n",
    "# sp_size_3.style.button_color = 'darkgreen'\n",
    "# sp_size_3.style.text_color = 'black'\n",
    "\n",
    "# sp_size_4 = create_expanded_button(opt[3], 'success')\n",
    "# sp_size_4.style.button_color = 'lightgrey'\n",
    "# sp_size_4.style.text_color = 'black'\n",
    "\n",
    "# sp_size_5 = create_expanded_button(opt[4], 'success')\n",
    "# sp_size_5.style.button_color = 'grey'\n",
    "# sp_size_5.style.text_color = 'black'\n",
    "\n",
    "# sp_size_6 = create_expanded_button(opt[5], 'success')\n",
    "# sp_size_6.style.button_color = 'white'\n",
    "# sp_size_6.style.text_color = 'black'\n",
    "\n",
    "# sp_size_7 = create_expanded_button(opt[6], 'success')\n",
    "# sp_size_7.style.button_color = 'lightblue'\n",
    "# sp_size_7.style.text_color = 'black'\n",
    "\n",
    "# sp_size_8 = create_expanded_button(opt[7], 'success')\n",
    "# sp_size_8.style.button_color = 'lightblue'\n",
    "# sp_size_8.style.text_color = 'black'\n",
    "\n",
    "# sp_size_9 = create_expanded_button(opt[8], 'success')\n",
    "# sp_size_9.style.button_color = 'blue'\n",
    "# sp_size_9.style.text_color = 'black'\n",
    "\n",
    "# sp_size_10 = create_expanded_button(opt[9], 'success')\n",
    "# sp_size_10.style.button_color = 'darkblue'\n",
    "# sp_size_10.style.text_color = 'black'\n",
    "\n",
    "\n",
    "# factor_grid = GridspecLayout(12, 12, grid_gap='5px', height='400px')\n",
    "# factor_grid[4:7, 0:6] = sp_size\n",
    "# factor_grid[1, 7:9] = sp_size_1\n",
    "# factor_grid[2, 7:9] = sp_size_2\n",
    "# factor_grid[3, 7:9] = sp_size_3\n",
    "# factor_grid[4, 7:9] = sp_size_4\n",
    "# factor_grid[5, 7:9] = sp_size_5\n",
    "# factor_grid[6, 7:9] = sp_size_6\n",
    "# factor_grid[7, 7:9] = sp_size_7\n",
    "# factor_grid[8, 7:9] = sp_size_8\n",
    "# factor_grid[9, 7:9] = sp_size_9\n",
    "# factor_grid[10, 7:9] = sp_size_10\n",
    "\n",
    "# # factor_grid"
   ]
  },
  {
   "cell_type": "code",
   "execution_count": null,
   "id": "64b24570",
   "metadata": {},
   "outputs": [],
   "source": []
  },
  {
   "cell_type": "code",
   "execution_count": null,
   "id": "c34b8b88",
   "metadata": {},
   "outputs": [],
   "source": []
  },
  {
   "cell_type": "code",
   "execution_count": null,
   "id": "022a0944",
   "metadata": {},
   "outputs": [],
   "source": []
  },
  {
   "cell_type": "code",
   "execution_count": 14,
   "id": "747df9a0",
   "metadata": {},
   "outputs": [],
   "source": [
    "output = widgets.Output()\n",
    "def on_button_clicked(event):\n",
    "    with output:\n",
    "        clear_output()\n",
    "        global selected_option1\n",
    "        \n",
    "        link = \"Submit your answer for next question\"\n",
    "        selected_option = options_widget.value\n",
    "        \n",
    "        # storing the option code for the selected option\n",
    "        selected_option_index = opt.index(selected_option)\n",
    "        selected_option_code = opt_codes[selected_option_index]\n",
    "        \n",
    "        \n",
    "        next_notebook_index = current_notebook_index + 1\n",
    "        notebook_filename = notebook_list[next_notebook_index] + \".ipynb\"\n",
    "        link = Markdown('''<a href=\"{}\" target=\"_self\" rel=\"noopener noreferrer\">Next</a>'''.format(notebook_filename))\n",
    "\n",
    "        back_list.append(\"sp_asymptote\")\n",
    "        with open (back_path, \"w\")as f:\n",
    "            json.dump(back_list, f)\n",
    "        \n",
    "        stored_choices[\"sp_asymptote\"] = selected_option_code\n",
    "        stored_choices[\"next_notebook_index\"] = next_notebook_index\n",
    "        \n",
    "        with open(path, \"w\") as f:\n",
    "            json.dump(stored_choices, f)\n",
    "\n",
    "        display(link)\n",
    "\n",
    "submit_button.on_click(on_button_clicked)"
   ]
  },
  {
   "cell_type": "code",
   "execution_count": 15,
   "id": "50740d73",
   "metadata": {
    "scrolled": true
   },
   "outputs": [
    {
     "data": {
      "application/vnd.jupyter.widget-view+json": {
       "model_id": "d6d3c7391ff14748865d76ed73866955",
       "version_major": 2,
       "version_minor": 0
      },
      "text/plain": [
       "VBox(children=(Image(value=b'\\x89PNG\\r\\n\\x1a\\n\\x00\\x00\\x00\\rIHDR\\x00\\x00\\x01\\xfb\\x00\\x00\\x01|\\x08\\x06\\x00\\x00\\…"
      ]
     },
     "metadata": {},
     "output_type": "display_data"
    },
    {
     "data": {
      "application/vnd.jupyter.widget-view+json": {
       "model_id": "0a18c9085dca473dbe155e00ea9bae62",
       "version_major": 2,
       "version_minor": 0
      },
      "text/plain": [
       "VBox(children=(HTML(value='<h3>Do you wish to sample long enough to reach the species-accumulation asymptote?<…"
      ]
     },
     "metadata": {},
     "output_type": "display_data"
    },
    {
     "data": {
      "application/vnd.jupyter.widget-view+json": {
       "model_id": "af8c2d698ec24db08a13cd9ded70ddae",
       "version_major": 2,
       "version_minor": 0
      },
      "text/plain": [
       "HBox(children=(Button(description='Submit', style=ButtonStyle()),), layout=Layout(justify_content='center'))"
      ]
     },
     "metadata": {},
     "output_type": "display_data"
    }
   ],
   "source": [
    "# Apply center alignment using CSS styling to the container\n",
    "\n",
    "container = widgets.VBox(children=[question_widget, options_widget, output], layout=widgets.Layout(\n",
    "    align_items='center'  # Center align vertically\n",
    "))\n",
    "\n",
    "button_container = widgets.HBox(children=[submit_button], layout=widgets.Layout(\n",
    "    justify_content='center',  # Center align horizontally\n",
    "))\n",
    "\n",
    "display(vbox_headline)\n",
    "display(container)\n",
    "display(button_container)"
   ]
  },
  {
   "cell_type": "code",
   "execution_count": null,
   "id": "42baa6da",
   "metadata": {},
   "outputs": [],
   "source": []
  }
 ],
 "metadata": {
  "kernelspec": {
   "display_name": "Python 3 (ipykernel)",
   "language": "python",
   "name": "python3"
  },
  "language_info": {
   "codemirror_mode": {
    "name": "ipython",
    "version": 3
   },
   "file_extension": ".py",
   "mimetype": "text/x-python",
   "name": "python",
   "nbconvert_exporter": "python",
   "pygments_lexer": "ipython3",
   "version": "3.12.3"
  }
 },
 "nbformat": 4,
 "nbformat_minor": 5
}
