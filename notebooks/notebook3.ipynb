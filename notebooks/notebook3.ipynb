{
 "cells": [
  {
   "cell_type": "code",
   "execution_count": 1,
   "id": "ab514db1-fddb-43c3-b319-c2fef9c62fe0",
   "metadata": {},
   "outputs": [],
   "source": [
    "import json\n",
    "import pandas as pd\n",
    "import ipywidgets as widgets\n",
    "from IPython.display import display, Javascript, Markdown, clear_output"
   ]
  },
  {
   "cell_type": "code",
   "execution_count": 2,
   "id": "b94621d1",
   "metadata": {},
   "outputs": [],
   "source": [
    "# Image Widget\n",
    "\n",
    "file = open(\"../logo.png\", \"rb\")\n",
    "image = file.read()\n",
    "\n",
    "image_headline = widgets.Image(\n",
    "                    value=image,\n",
    "                    format='jpg',\n",
    "                    width='200'\n",
    "                )\n",
    "\n",
    "label_headline = widgets.Label(\n",
    "                    value='',\n",
    "                    style={'description_width': 'initial'}\n",
    "                )\n",
    "\n",
    "vbox_headline = widgets.VBox([image_headline, label_headline])"
   ]
  },
  {
   "cell_type": "code",
   "execution_count": 3,
   "id": "77b48233",
   "metadata": {},
   "outputs": [],
   "source": [
    "global stored_choices, path\n",
    "stored_choices = {}\n",
    "path = \"../temp_storage.json\""
   ]
  },
  {
   "cell_type": "code",
   "execution_count": 4,
   "id": "cfc908e7",
   "metadata": {},
   "outputs": [],
   "source": [
    "# Read the CSV file into a DataFrame\n",
    "df = pd.read_csv('../questions.csv')"
   ]
  },
  {
   "cell_type": "code",
   "execution_count": 5,
   "id": "b706f225",
   "metadata": {},
   "outputs": [],
   "source": [
    "# gets the question based on value of other (methods) column\n",
    "ques = df.loc[df['question_code'] == 'study_area_mult', 'question_text'].iloc[0]\n",
    "opt = df.loc[df['question_code'] == 'study_area_mult', 'q_option_label'].iloc[0]\n",
    "# opt = opt.replace('[', '').replace(']', '').replace('\"', '') # for format ([\"\",\"\"])\n",
    "opt = opt.split(',') # for format (,)"
   ]
  },
  {
   "cell_type": "code",
   "execution_count": 6,
   "id": "772aa998",
   "metadata": {},
   "outputs": [],
   "source": [
    "# # Question 3\n",
    "# question3 = \"Which planet is known as the Red Planet?\"\n",
    "# options3 = [\"Earth\", \"Jupiter\", \"Mars\", \"Saturn\"]"
   ]
  },
  {
   "cell_type": "code",
   "execution_count": 7,
   "id": "ec5ae900",
   "metadata": {},
   "outputs": [],
   "source": [
    "# Display question and options as widgets\n",
    "question_widget3 = widgets.HTML(value=f\"<h3>{ques}</h3>\")\n",
    "options_widget3 = widgets.RadioButtons(options=opt, value = None, layout={'width': 'max-content'})"
   ]
  },
  {
   "cell_type": "code",
   "execution_count": null,
   "id": "c6dffeee",
   "metadata": {},
   "outputs": [],
   "source": [
    "# Create a button for going back to previous question\n",
    "back_button = widgets.Button(description=\"Back\")"
   ]
  },
  {
   "cell_type": "code",
   "execution_count": 8,
   "id": "1a5989eb",
   "metadata": {},
   "outputs": [],
   "source": [
    "# Create a button to go to the next question--------\n",
    "submit_button = widgets.Button(description=\"Submit\")"
   ]
  },
  {
   "cell_type": "code",
   "execution_count": 9,
   "id": "9701f66e",
   "metadata": {},
   "outputs": [],
   "source": [
    "# Create a button for skipping the question\n",
    "skip_button = widgets.Button(description=\"Skip\")"
   ]
  },
  {
   "cell_type": "code",
   "execution_count": 10,
   "id": "341760e6",
   "metadata": {},
   "outputs": [],
   "source": [
    "# choice = widgets.Text(description = \"selected: \")"
   ]
  },
  {
   "cell_type": "code",
   "execution_count": null,
   "id": "6b49d8a7",
   "metadata": {},
   "outputs": [],
   "source": [
    "output = widgets.Output()\n",
    "def on_back_button_clicked(event):\n",
    "    with output:\n",
    "        clear_output()\n",
    "        notebook_filename = \"notebook5.ipynb\"\n",
    "        link = Markdown('''<a href=\"{}\" target=\"_self\" rel=\"noopener noreferrer\">Previous</a>'''.format(notebook_filename))\n",
    "        display(link)\n",
    "\n",
    "back_button.on_click(on_back_button_clicked)\n",
    "# vbox_result = widgets.VBox([question_widget1, options_widget1, submit_button, output, choice])"
   ]
  },
  {
   "cell_type": "code",
   "execution_count": 11,
   "id": "ca942043",
   "metadata": {},
   "outputs": [],
   "source": [
    "output = widgets.Output()\n",
    "def on_button_clicked(event):\n",
    "    with output:\n",
    "        clear_output()\n",
    "        global selected_option3\n",
    "        link = \"Submit your answer for next question\"\n",
    "        selected_option3 = options_widget3.value\n",
    "        notebook_filename = \"notebook4.ipynb\"\n",
    "\n",
    "        # as this is the last page, no further linking for options is needed. generate single link for summary page\n",
    "        link = Markdown('''<a href=\"{}\" target=\"_self\" rel=\"noopener noreferrer\">End</a>'''.format(notebook_filename))\n",
    "    \n",
    "        # Read the existing JSON file\n",
    "        with open(path, \"r\") as f:\n",
    "            stored_choices = json.load(f)\n",
    "        \n",
    "#         %store -r stored_choices\n",
    "        stored_choices[\"answer3\"] = selected_option3\n",
    "        # Write the updated dictionary back to the JSON file\n",
    "        with open(path, \"w\") as f:\n",
    "            json.dump(stored_choices, f)\n",
    "#         %store stored_choices\n",
    "        display(link)\n",
    "        \n",
    "submit_button.on_click(on_button_clicked)\n",
    "# vbox_result = widgets.VBox([question_widget3, options_widget3, next_button, output])"
   ]
  },
  {
   "cell_type": "code",
   "execution_count": 12,
   "id": "203b8b17",
   "metadata": {},
   "outputs": [],
   "source": [
    "output = widgets.Output()\n",
    "def on_skip_button_clicked(event):\n",
    "    with output:\n",
    "        clear_output()\n",
    "        link = Markdown('''<a href=\"https://voila.readthedocs.io/en/stable/deploy.html\" target=\"_self\"> \n",
    "                                    Next \n",
    "                            </a>''')\n",
    "        display(link)\n",
    "\n",
    "skip_button.on_click(on_skip_button_clicked)\n",
    "# vbox_result = widgets.VBox([question_widget1, options_widget1, submit_button, output, choice])"
   ]
  },
  {
   "cell_type": "code",
   "execution_count": 13,
   "id": "a504d37c",
   "metadata": {},
   "outputs": [],
   "source": [
    "# display(vbox_result)"
   ]
  },
  {
   "cell_type": "code",
   "execution_count": 14,
   "id": "70a19670",
   "metadata": {},
   "outputs": [
    {
     "data": {
      "application/vnd.jupyter.widget-view+json": {
       "model_id": "747e2122bce2442fa1786e9c75b54b4f",
       "version_major": 2,
       "version_minor": 0
      },
      "text/plain": [
       "VBox(children=(Image(value=b'\\x89PNG\\r\\n\\x1a\\n\\x00\\x00\\x00\\rIHDR\\x00\\x00\\x01\\xfb\\x00\\x00\\x01|\\x08\\x06\\x00\\x00\\…"
      ]
     },
     "metadata": {},
     "output_type": "display_data"
    },
    {
     "data": {
      "application/vnd.jupyter.widget-view+json": {
       "model_id": "e541a5a9022a4b65b2a5aebef18193b8",
       "version_major": 2,
       "version_minor": 0
      },
      "text/plain": [
       "VBox(children=(HTML(value='<h3>Do you plan to use data from multiple study areas?</h3>'), RadioButtons(layout=…"
      ]
     },
     "metadata": {},
     "output_type": "display_data"
    },
    {
     "data": {
      "application/vnd.jupyter.widget-view+json": {
       "model_id": "f7f0ffc713ea42948f4a64e118848e9f",
       "version_major": 2,
       "version_minor": 0
      },
      "text/plain": [
       "HBox(children=(Button(description='Submit', style=ButtonStyle()), Button(description='Skip', style=ButtonStyle…"
      ]
     },
     "metadata": {},
     "output_type": "display_data"
    }
   ],
   "source": [
    "# Apply center alignment using CSS styling to the container\n",
    "container = widgets.VBox(children=[question_widget3, options_widget3, output], layout=widgets.Layout(\n",
    "    align_items='center'  # Center align vertically\n",
    "#     justify_content='center',  # Center align horizontally\n",
    "#     height='100vh'  # Set height to 100% of viewport height for vertical centering\n",
    "))\n",
    "button_container = widgets.HBox(children=[back_button, submit_button, skip_button], layout=widgets.Layout(\n",
    "#     align_items='center'  # Center align vertically\n",
    "    justify_content='center',  # Center align horizontally\n",
    "#     height='100vh'  # Set height to 100% of viewport height for vertical centering\n",
    "))\n",
    "# Display the container\n",
    "display(vbox_headline)\n",
    "display(container)\n",
    "display(button_container)"
   ]
  },
  {
   "cell_type": "code",
   "execution_count": null,
   "id": "0405a214",
   "metadata": {},
   "outputs": [],
   "source": []
  }
 ],
 "metadata": {
  "kernelspec": {
   "display_name": "Python 3 (ipykernel)",
   "language": "python",
   "name": "python3"
  },
  "language_info": {
   "codemirror_mode": {
    "name": "ipython",
    "version": 3
   },
   "file_extension": ".py",
   "mimetype": "text/x-python",
   "name": "python",
   "nbconvert_exporter": "python",
   "pygments_lexer": "ipython3",
   "version": "3.12.3"
  }
 },
 "nbformat": 4,
 "nbformat_minor": 5
}
