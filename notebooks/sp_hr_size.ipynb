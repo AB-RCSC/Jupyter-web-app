{
 "cells": [
  {
   "cell_type": "code",
   "execution_count": 1,
   "id": "66ed741d",
   "metadata": {},
   "outputs": [],
   "source": [
    "import json\n",
    "import pandas as pd\n",
    "import ipywidgets as widgets\n",
    "from IPython.display import display, Javascript, Markdown, clear_output, HTML\n",
    "from ipywidgets import Button, Layout, jslink, IntText, IntSlider, GridspecLayout"
   ]
  },
  {
   "cell_type": "code",
   "execution_count": 2,
   "id": "13557dd0",
   "metadata": {},
   "outputs": [],
   "source": [
    "# Image Widget\n",
    "\n",
    "file = open(\"../logo.png\", \"rb\")\n",
    "image = file.read()\n",
    "\n",
    "image_headline = widgets.Image(\n",
    "                    value=image,\n",
    "                    format='jpg',\n",
    "                    width='200'\n",
    "                )\n",
    "\n",
    "label_headline = widgets.Label(\n",
    "                    value='',\n",
    "                    style={'description_width': 'initial'}\n",
    "                )\n",
    "\n",
    "vbox_headline = widgets.VBox([image_headline, label_headline])"
   ]
  },
  {
   "cell_type": "code",
   "execution_count": 3,
   "id": "0e20e2ea",
   "metadata": {},
   "outputs": [],
   "source": [
    "global stored_choices, path\n",
    "\n",
    "# stored_choices = {}\n",
    "path = \"../temp_storage.json\"\n",
    "back_path = \"../backtracking.json\""
   ]
  },
  {
   "cell_type": "code",
   "execution_count": 4,
   "id": "ecf635e0",
   "metadata": {},
   "outputs": [],
   "source": [
    "with open(path, \"r\") as f:\n",
    "    stored_choices = json.load(f)"
   ]
  },
  {
   "cell_type": "code",
   "execution_count": 5,
   "id": "dabf0eb3",
   "metadata": {},
   "outputs": [],
   "source": [
    "with open(back_path, 'r') as f:\n",
    "    back_list = json.load(f)"
   ]
  },
  {
   "cell_type": "code",
   "execution_count": 6,
   "id": "4ae3b753",
   "metadata": {},
   "outputs": [],
   "source": [
    "# Read the CSV file into a DataFrame\n",
    "\n",
    "df = pd.read_csv('new_format.csv', low_memory=False)"
   ]
  },
  {
   "cell_type": "code",
   "execution_count": 7,
   "id": "d73fa4d6",
   "metadata": {},
   "outputs": [],
   "source": [
    "notebook_list = [\"objective\", \"num_cams\", \"cam_strat_covar\", \"surv_dur_min_max\", \"sp_asymptote\", \n",
    "                 \"obj_targ_sp\", \"sp_info\", \"sp_occ_restr\", \"sp_hr_size\", \"sp_size\", \"sp_rarity\", \n",
    "                 \"sp_detprob_cat\", \"cam_independent\"]"
   ]
  },
  {
   "cell_type": "code",
   "execution_count": 8,
   "id": "b9bfeeb0",
   "metadata": {},
   "outputs": [],
   "source": [
    "# seperates the string based on ',' also removes the whitespace after comma & makes a list\n",
    "\n",
    "def split_and_trim(s):\n",
    "    return [item.strip() for item in s.split(',')]"
   ]
  },
  {
   "cell_type": "code",
   "execution_count": 9,
   "id": "37b3733c",
   "metadata": {},
   "outputs": [],
   "source": [
    "# gets the question based on value of other column\n",
    "\n",
    "ques1 = df.loc[df['question_code'] == 'data_hr', 'question_text'].iloc[0]\n",
    "opt1 = df.loc[df['question_code'] == 'data_hr', 'q_option_label'].iloc[0]\n",
    "opt_codes1 = df.loc[df['question_code'] == 'data_hr', 'q_option_code'].iloc[0]\n",
    "\n",
    "opt1 = split_and_trim(opt1)\n",
    "opt_codes1 = split_and_trim(opt_codes1)\n",
    "\n",
    "ques2 = df.loc[df['question_code'] == 'hr_size', 'question_text'].iloc[0]"
   ]
  },
  {
   "cell_type": "code",
   "execution_count": 10,
   "id": "d35e8c8f",
   "metadata": {},
   "outputs": [],
   "source": [
    "def create_expanded_button(description, button_style):\n",
    "    return Button(description=description, button_style=button_style, layout=Layout(height='auto', width='auto')) #width='max-content'"
   ]
  },
  {
   "cell_type": "code",
   "execution_count": 11,
   "id": "11583bf7",
   "metadata": {},
   "outputs": [],
   "source": [
    "# Factor widget\n",
    "\n",
    "ques_button = create_expanded_button(ques1, 'success')\n",
    "ques_button.style.button_color = 'lightblue'\n",
    "ques_button.style.text_color = 'black'\n",
    "\n",
    "option_1_button = create_expanded_button(opt1[0], 'success')\n",
    "option_1_button.style.button_color = 'lightgreen'\n",
    "option_1_button.style.text_color = 'black'\n",
    "\n",
    "option_2_button = create_expanded_button(opt1[1], 'success')\n",
    "option_2_button.style.button_color = 'red'\n",
    "option_2_button.style.text_color = 'black'\n",
    "\n",
    "factor_grid = GridspecLayout(4, 12, grid_gap='5px', height='200px')\n",
    "factor_grid[1:3, 0:6] = ques_button\n",
    "factor_grid[1, 7:9] = option_1_button\n",
    "factor_grid[2, 7:9] = option_2_button\n",
    "\n",
    "\n",
    "# factor_grid"
   ]
  },
  {
   "cell_type": "code",
   "execution_count": 12,
   "id": "dffe0ade",
   "metadata": {},
   "outputs": [],
   "source": [
    "global options_widget2\n",
    "options_widget2 = widgets.IntText(\n",
    "                    value=0,  # Default value\n",
    "                    description=ques2,\n",
    "                    disabled=False,\n",
    "                    layout={'width': 'max-content'}\n",
    "                )"
   ]
  },
  {
   "cell_type": "code",
   "execution_count": 13,
   "id": "ccbd0e4c",
   "metadata": {},
   "outputs": [],
   "source": [
    "output = widgets.Output()\n",
    "def option_1_button_clicked(event):\n",
    "    with output:\n",
    "        clear_output()\n",
    "        global selected_objective, selected_target_sp\n",
    "        display(options_widget2)\n",
    "        \n",
    "        #### Below code block doesen't get executed.................. solve this next\n",
    "        \n",
    "#         print(\"EEEE\")\n",
    "#         if options_widget2.value > 0:\n",
    "#             stored_choices[\"sp_hr_size\"] = options_widget2.value\n",
    "#             options_widget2.value = 0\n",
    "#         with open(path, \"w\") as f:\n",
    "#             json.dump(stored_choices, f)\n",
    "            \n",
    "#         selected_objective = stored_choices['objective']\n",
    "#         selected_target_sp = stored_choices['obj_targ_sp']\n",
    "# #         selected_sp_type = stored_choices['sp_type']\n",
    "\n",
    "factor_grid[1, 7:9].on_click(option_1_button_clicked)"
   ]
  },
  {
   "cell_type": "code",
   "execution_count": 14,
   "id": "09312685",
   "metadata": {},
   "outputs": [],
   "source": [
    "output = widgets.Output()\n",
    "def option_2_button_clicked(event):\n",
    "    with output:\n",
    "        clear_output()\n",
    "        global selected_objective, selected_target_sp\n",
    "        \n",
    "        selected_option = factor_grid[2, 7:9].description\n",
    "        selected_option_index = opt1.index(selected_option)\n",
    "        selected_option_code = opt_codes1[selected_option_index]\n",
    "        \n",
    "        stored_choices[\"sp_hr_size\"] = selected_option_code\n",
    "        \n",
    "        with open(path, \"w\") as f:\n",
    "            json.dump(stored_choices, f)\n",
    "            \n",
    "        selected_objective = stored_choices['objective']\n",
    "        selected_target_sp = stored_choices['obj_targ_sp']\n",
    "#         selected_sp_type = stored_choices['sp_type']\n",
    "        \n",
    "factor_grid[2, 7:9].on_click(option_2_button_clicked)"
   ]
  },
  {
   "cell_type": "code",
   "execution_count": null,
   "id": "f713a74e",
   "metadata": {},
   "outputs": [],
   "source": []
  },
  {
   "cell_type": "code",
   "execution_count": null,
   "id": "a12e2b4c",
   "metadata": {},
   "outputs": [],
   "source": []
  },
  {
   "cell_type": "code",
   "execution_count": null,
   "id": "61213221",
   "metadata": {},
   "outputs": [],
   "source": []
  },
  {
   "cell_type": "code",
   "execution_count": 15,
   "id": "388c8e7c",
   "metadata": {},
   "outputs": [],
   "source": [
    "# Create a button for going back to previous question\n",
    "\n",
    "back_button = widgets.Button(description=\"Back\")"
   ]
  },
  {
   "cell_type": "code",
   "execution_count": 16,
   "id": "f5ade430",
   "metadata": {},
   "outputs": [],
   "source": [
    "# Create a buttons for submitting the question\n",
    "\n",
    "submit_button = widgets.Button(description=\"Submit\")"
   ]
  },
  {
   "cell_type": "code",
   "execution_count": 17,
   "id": "0c6612b7",
   "metadata": {},
   "outputs": [],
   "source": [
    "# For going back to last question\n",
    "\n",
    "output = widgets.Output()\n",
    "def on_back_button_clicked(event):\n",
    "    with output:\n",
    "        clear_output()\n",
    "        file_name = back_list[-1]\n",
    "        notebook_filename = file_name + \".ipynb\"\n",
    "        link = Markdown('''<a href=\"{}\" target=\"_self\" rel=\"noopener noreferrer\">Previous</a>'''.format(notebook_filename))\n",
    "        back_list.pop()\n",
    "        with open (back_path, \"w\")as f:\n",
    "            json.dump(back_list, f)\n",
    "        display(link)\n",
    "\n",
    "back_button.on_click(on_back_button_clicked)"
   ]
  },
  {
   "cell_type": "code",
   "execution_count": 18,
   "id": "462d62e1",
   "metadata": {},
   "outputs": [],
   "source": [
    "output = widgets.Output()\n",
    "def on_button_clicked(event):\n",
    "    with output:\n",
    "        clear_output()\n",
    "        global selected_option1\n",
    "        \n",
    "        link = \"Submit your answer for next question\"\n",
    "\n",
    "        condition = df.loc[df['page_name'] == 'sp_size', 'json_logic'].iloc[0]\n",
    "        condition_json = json.loads(condition)\n",
    "        if selected_objective in condition_json['objective'] and selected_target_sp in condition_json['obj_targ_sp']:\n",
    "            next_notebook = \"sp_size\"\n",
    "        \n",
    "        condition = df.loc[df['page_name'] == 'sp_rarity', 'json_logic'].iloc[0]\n",
    "        condition_json = json.loads(condition)\n",
    "        if (selected_objective in condition_json['objective'] and selected_target_sp in condition_json['obj_targ_sp']):# or (selected_objective in condition_json['objective'] and selected_sp_type in condition_json['sp_type'])\n",
    "            next_notebook = \"sp_rarity\"\n",
    "        \n",
    "        condition = df.loc[df['page_name'] == 'sp_detprob_cat', 'json_logic'].iloc[0]\n",
    "        condition_json = json.loads(condition)\n",
    "        if selected_objective in condition_json['objective'] and selected_target_sp in condition_json['obj_targ_sp']:\n",
    "            next_notebook = \"sp_detprob_cat\"\n",
    "        \n",
    "        condition = df.loc[df['page_name'] == 'cam_independent', 'json_logic'].iloc[0]\n",
    "        condition_json = json.loads(condition)\n",
    "        if selected_objective in condition_json['objective']:\n",
    "            next_notebook = \"cam_independent\"\n",
    "        else:\n",
    "            next_notebook = \"response_summary\"\n",
    "            \n",
    "            \n",
    "        notebook_filename = next_notebook + \".ipynb\"\n",
    "        \n",
    "        link = Markdown('''<a href=\"{}\" target=\"_self\" rel=\"noopener noreferrer\">Next</a>'''.format(notebook_filename))\n",
    "\n",
    "        back_list.append(\"sp_hr_size\")\n",
    "        with open (back_path, \"w\")as f:\n",
    "            json.dump(back_list, f)\n",
    "\n",
    "        display(link)\n",
    "\n",
    "submit_button.on_click(on_button_clicked)"
   ]
  },
  {
   "cell_type": "code",
   "execution_count": 20,
   "id": "dc10f247",
   "metadata": {},
   "outputs": [
    {
     "data": {
      "application/vnd.jupyter.widget-view+json": {
       "model_id": "d119df38b2634b128f0015ba54de124c",
       "version_major": 2,
       "version_minor": 0
      },
      "text/plain": [
       "VBox(children=(Image(value=b'\\x89PNG\\r\\n\\x1a\\n\\x00\\x00\\x00\\rIHDR\\x00\\x00\\x01\\xfb\\x00\\x00\\x01|\\x08\\x06\\x00\\x00\\…"
      ]
     },
     "metadata": {},
     "output_type": "display_data"
    },
    {
     "data": {
      "application/vnd.jupyter.widget-view+json": {
       "model_id": "2227d622c4784ebfa290c2bf5bc5cdf8",
       "version_major": 2,
       "version_minor": 0
      },
      "text/plain": [
       "VBox(children=(GridspecLayout(children=(Button(button_style='success', description='Is home range size informa…"
      ]
     },
     "metadata": {},
     "output_type": "display_data"
    },
    {
     "data": {
      "application/vnd.jupyter.widget-view+json": {
       "model_id": "fcfd22ebc40b459ab1ba40c40f95c015",
       "version_major": 2,
       "version_minor": 0
      },
      "text/plain": [
       "HBox(children=(Button(description='Back', style=ButtonStyle()), Button(description='Submit', style=ButtonStyle…"
      ]
     },
     "metadata": {},
     "output_type": "display_data"
    }
   ],
   "source": [
    "# Apply center alignment using CSS styling to the container\n",
    "\n",
    "container = widgets.VBox(children=[factor_grid, output], layout=widgets.Layout(\n",
    "    align_items='center'  # Center align vertically\n",
    "))\n",
    "\n",
    "button_container = widgets.HBox(children=[back_button, submit_button], layout=widgets.Layout(\n",
    "    justify_content='center',  # Center align horizontally\n",
    "))\n",
    "\n",
    "\n",
    "display(vbox_headline)\n",
    "display(container)\n",
    "display(button_container)"
   ]
  },
  {
   "cell_type": "code",
   "execution_count": null,
   "id": "f34a6729",
   "metadata": {},
   "outputs": [],
   "source": []
  }
 ],
 "metadata": {
  "kernelspec": {
   "display_name": "Python 3 (ipykernel)",
   "language": "python",
   "name": "python3"
  },
  "language_info": {
   "codemirror_mode": {
    "name": "ipython",
    "version": 3
   },
   "file_extension": ".py",
   "mimetype": "text/x-python",
   "name": "python",
   "nbconvert_exporter": "python",
   "pygments_lexer": "ipython3",
   "version": "3.12.3"
  }
 },
 "nbformat": 4,
 "nbformat_minor": 5
}
