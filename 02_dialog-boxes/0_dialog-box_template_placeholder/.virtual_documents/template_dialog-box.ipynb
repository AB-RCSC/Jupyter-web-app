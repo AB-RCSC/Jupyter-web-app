





from markdown_it import MarkdownIt

with open("test.md", "r") as file:
    md_content = file.read()
md = MarkdownIt()
html_content = md.render(md_content)
# popup_window = HTML(html_content)


from myst_nb import glue
my_variable = "here is some text!"


glue("cool_text", my_variable)


d_state_variable = "a formal measure that summarizes the state of a community or population at a particular time (Wearn & Glover Kapfer, 2017), e.g., species richness or population abundance."


glue("cool_text", d_state_variable)


```{glue:} your-key
```
