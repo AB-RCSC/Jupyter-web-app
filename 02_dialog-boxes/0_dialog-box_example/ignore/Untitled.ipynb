{
 "cells": [
  {
   "cell_type": "code",
   "execution_count": 1,
   "id": "7613092a-2137-43d7-b5e2-be35b2980b84",
   "metadata": {
    "tags": []
   },
   "outputs": [
    {
     "data": {
      "text/plain": [
       "[<matplotlib.lines.Line2D at 0x25dbbb3b0d0>]"
      ]
     },
     "execution_count": 1,
     "metadata": {},
     "output_type": "execute_result"
    }
   ],
   "source": [
    "import matplotlib.pyplot as plt\n",
    "%matplotlib tk\n",
    "plt.plot([1, 2])"
   ]
  },
  {
   "cell_type": "code",
   "execution_count": 3,
   "id": "faa738c2-9302-4954-8190-d7d0e45fe7dc",
   "metadata": {
    "tags": []
   },
   "outputs": [],
   "source": [
    "import matplotlib.pyplot as plt\n",
    "import numpy as np\n",
    "\n",
    "from matplotlib.widgets import TextBox\n",
    "\n",
    "fig, ax = plt.subplots()\n",
    "fig.subplots_adjust(bottom=0.2)\n",
    "\n",
    "t = np.arange(-2.0, 2.0, 0.001)\n",
    "l, = ax.plot(t, np.zeros_like(t), lw=2)\n",
    "\n",
    "\n",
    "def submit(expression):\n",
    "    \"\"\"\n",
    "    Update the plotted function to the new math *expression*.\n",
    "\n",
    "    *expression* is a string using \"t\" as its independent variable, e.g.\n",
    "    \"t ** 3\".\n",
    "    \"\"\"\n",
    "    ydata = eval(expression, {'np': np}, {'t': t})\n",
    "    l.set_ydata(ydata)\n",
    "    ax.relim()\n",
    "    ax.autoscale_view()\n",
    "    plt.draw()\n",
    "\n",
    "\n",
    "axbox = fig.add_axes([0.1, 0.05, 0.8, 0.075])\n",
    "text_box = TextBox(axbox, \"Evaluate\", textalignment=\"center\")\n",
    "text_box.on_submit(submit)\n",
    "text_box.set_val(\"t ** 2\")  # Trigger `submit` with the initial string.\n",
    "\n",
    "plt.show()"
   ]
  },
  {
   "cell_type": "code",
   "execution_count": 1,
   "id": "0938fbcb-c50d-4e39-b06f-ffdd4e43273f",
   "metadata": {
    "tags": []
   },
   "outputs": [
    {
     "ename": "SyntaxError",
     "evalue": "invalid syntax (3287707747.py, line 3)",
     "output_type": "error",
     "traceback": [
      "\u001b[1;36m  Cell \u001b[1;32mIn[1], line 3\u001b[1;36m\u001b[0m\n\u001b[1;33m    function(dialog) {\u001b[0m\n\u001b[1;37m                     ^\u001b[0m\n\u001b[1;31mSyntaxError\u001b[0m\u001b[1;31m:\u001b[0m invalid syntax\n"
     ]
    }
   ],
   "source": [
    "require(\n",
    "    [\"base/js/dialog\"], \n",
    "    function(dialog) {\n",
    "        dialog.modal({\n",
    "            title: 'Hello world',\n",
    "            body: 'Hi, lorem ipsum and such',\n",
    "            buttons: {\n",
    "                'kthxbye': {}\n",
    "            }\n",
    "        });\n",
    "    }\n",
    ");"
   ]
  },
  {
   "cell_type": "code",
   "execution_count": null,
   "id": "204c5cc4-0820-4943-9ba3-897f8f9ecaee",
   "metadata": {},
   "outputs": [],
   "source": []
  }
 ],
 "metadata": {
  "kernelspec": {
   "display_name": "Python 3 (ipykernel)",
   "language": "python",
   "name": "python3"
  },
  "language_info": {
   "codemirror_mode": {
    "name": "ipython",
    "version": 3
   },
   "file_extension": ".py",
   "mimetype": "text/x-python",
   "name": "python",
   "nbconvert_exporter": "python",
   "pygments_lexer": "ipython3",
   "version": "3.11.7"
  }
 },
 "nbformat": 4,
 "nbformat_minor": 5
}
