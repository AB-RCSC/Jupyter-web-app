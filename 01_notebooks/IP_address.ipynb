{
 "cells": [
  {
   "cell_type": "code",
   "execution_count": 1,
   "id": "0ad3fa7d",
   "metadata": {},
   "outputs": [],
   "source": [
    "# !pip install tornado"
   ]
  },
  {
   "cell_type": "code",
   "execution_count": 1,
   "id": "83a41e37",
   "metadata": {},
   "outputs": [
    {
     "name": "stdout",
     "output_type": "stream",
     "text": [
      "Error retrieving IP address: type object 'RequestHandler' has no attribute 'request'\n",
      "Captured IP Address: None\n"
     ]
    }
   ],
   "source": [
    "from notebook.utils import url_path_join\n",
    "from tornado.web import RequestHandler\n",
    "\n",
    "# To store the IP address in a variable\n",
    "ip_address = None\n",
    "\n",
    "# Function to retrieve the user's IP address from the request object\n",
    "def get_ip_address():\n",
    "    global ip_address\n",
    "    try:\n",
    "        ip_address = RequestHandler._request_summary(RequestHandler).split(' ')[-1]\n",
    "        print(f\"IP Address captured: {ip_address}\")\n",
    "    except Exception as e:\n",
    "        print(f\"Error retrieving IP address: {e}\")\n",
    "\n",
    "# Call the function to capture the IP address\n",
    "get_ip_address()\n",
    "\n",
    "# You can now use the `ip_address` variable anywhere in your notebook\n",
    "print(f\"Captured IP Address: {ip_address}\")\n"
   ]
  },
  {
   "cell_type": "code",
   "execution_count": null,
   "id": "e897bd19",
   "metadata": {},
   "outputs": [],
   "source": []
  }
 ],
 "metadata": {
  "kernelspec": {
   "display_name": "Python 3 (ipykernel)",
   "language": "python",
   "name": "python3"
  },
  "language_info": {
   "codemirror_mode": {
    "name": "ipython",
    "version": 3
   },
   "file_extension": ".py",
   "mimetype": "text/x-python",
   "name": "python",
   "nbconvert_exporter": "python",
   "pygments_lexer": "ipython3",
   "version": "3.12.3"
  }
 },
 "nbformat": 4,
 "nbformat_minor": 5
}
