{
 "cells": [
  {
   "cell_type": "code",
   "execution_count": 1,
   "id": "d908b7a7",
   "metadata": {},
   "outputs": [],
   "source": [
    "# !pip install tornado"
   ]
  },
  {
   "cell_type": "code",
   "execution_count": 2,
   "id": "fee06003",
   "metadata": {},
   "outputs": [
    {
     "name": "stdout",
     "output_type": "stream",
     "text": [
      "Error retrieving IP address: type object 'RequestHandler' has no attribute 'request'\n",
      "Captured IP Address: None\n"
     ]
    }
   ],
   "source": [
    "# from notebook.utils import url_path_join\n",
    "# from tornado.web import RequestHandler\n",
    "\n",
    "# # To store the IP address in a variable\n",
    "# ip_address = None\n",
    "\n",
    "# # Function to retrieve the user's IP address from the request object\n",
    "# def get_ip_address():\n",
    "#     global ip_address\n",
    "#     try:\n",
    "#         ip_address = RequestHandler._request_summary(RequestHandler).split(' ')[-1]\n",
    "#         print(f\"IP Address captured: {ip_address}\")\n",
    "#     except Exception as e:\n",
    "#         print(f\"Error retrieving IP address: {e}\")\n",
    "\n",
    "# # Call the function to capture the IP address\n",
    "# get_ip_address()\n",
    "\n",
    "# # You can now use the `ip_address` variable anywhere in your notebook\n",
    "# print(f\"Captured IP Address: {ip_address}\")\n"
   ]
  },
  {
   "cell_type": "code",
   "execution_count": 1,
   "id": "c8fac444",
   "metadata": {},
   "outputs": [
    {
     "name": "stdout",
     "output_type": "stream",
     "text": [
      "Server running on http://localhost:8888/get-ip\n"
     ]
    },
    {
     "ename": "RuntimeError",
     "evalue": "This event loop is already running",
     "output_type": "error",
     "traceback": [
      "\u001b[1;31m---------------------------------------------------------------------------\u001b[0m",
      "\u001b[1;31mRuntimeError\u001b[0m                              Traceback (most recent call last)",
      "Cell \u001b[1;32mIn[1], line 21\u001b[0m\n\u001b[0;32m     18\u001b[0m     ioloop\u001b[38;5;241m.\u001b[39mIOLoop\u001b[38;5;241m.\u001b[39mcurrent()\u001b[38;5;241m.\u001b[39mstart()\n\u001b[0;32m     20\u001b[0m \u001b[38;5;66;03m# Start the server\u001b[39;00m\n\u001b[1;32m---> 21\u001b[0m \u001b[43mstart_server\u001b[49m\u001b[43m(\u001b[49m\u001b[43m)\u001b[49m\n",
      "Cell \u001b[1;32mIn[1], line 18\u001b[0m, in \u001b[0;36mstart_server\u001b[1;34m()\u001b[0m\n\u001b[0;32m     16\u001b[0m app\u001b[38;5;241m.\u001b[39mlisten(\u001b[38;5;241m8888\u001b[39m)  \u001b[38;5;66;03m# You can change the port if needed\u001b[39;00m\n\u001b[0;32m     17\u001b[0m \u001b[38;5;28mprint\u001b[39m(\u001b[38;5;124m\"\u001b[39m\u001b[38;5;124mServer running on http://localhost:8888/get-ip\u001b[39m\u001b[38;5;124m\"\u001b[39m)\n\u001b[1;32m---> 18\u001b[0m \u001b[43mioloop\u001b[49m\u001b[38;5;241;43m.\u001b[39;49m\u001b[43mIOLoop\u001b[49m\u001b[38;5;241;43m.\u001b[39;49m\u001b[43mcurrent\u001b[49m\u001b[43m(\u001b[49m\u001b[43m)\u001b[49m\u001b[38;5;241;43m.\u001b[39;49m\u001b[43mstart\u001b[49m\u001b[43m(\u001b[49m\u001b[43m)\u001b[49m\n",
      "File \u001b[1;32m~\\anaconda3\\envs\\conda_jupy_webapp\\Lib\\site-packages\\tornado\\platform\\asyncio.py:205\u001b[0m, in \u001b[0;36mBaseAsyncIOLoop.start\u001b[1;34m(self)\u001b[0m\n\u001b[0;32m    204\u001b[0m \u001b[38;5;28;01mdef\u001b[39;00m \u001b[38;5;21mstart\u001b[39m(\u001b[38;5;28mself\u001b[39m) \u001b[38;5;241m-\u001b[39m\u001b[38;5;241m>\u001b[39m \u001b[38;5;28;01mNone\u001b[39;00m:\n\u001b[1;32m--> 205\u001b[0m     \u001b[38;5;28;43mself\u001b[39;49m\u001b[38;5;241;43m.\u001b[39;49m\u001b[43masyncio_loop\u001b[49m\u001b[38;5;241;43m.\u001b[39;49m\u001b[43mrun_forever\u001b[49m\u001b[43m(\u001b[49m\u001b[43m)\u001b[49m\n",
      "File \u001b[1;32m~\\anaconda3\\envs\\conda_jupy_webapp\\Lib\\asyncio\\base_events.py:630\u001b[0m, in \u001b[0;36mBaseEventLoop.run_forever\u001b[1;34m(self)\u001b[0m\n\u001b[0;32m    628\u001b[0m \u001b[38;5;250m\u001b[39m\u001b[38;5;124;03m\"\"\"Run until stop() is called.\"\"\"\u001b[39;00m\n\u001b[0;32m    629\u001b[0m \u001b[38;5;28mself\u001b[39m\u001b[38;5;241m.\u001b[39m_check_closed()\n\u001b[1;32m--> 630\u001b[0m \u001b[38;5;28;43mself\u001b[39;49m\u001b[38;5;241;43m.\u001b[39;49m\u001b[43m_check_running\u001b[49m\u001b[43m(\u001b[49m\u001b[43m)\u001b[49m\n\u001b[0;32m    631\u001b[0m \u001b[38;5;28mself\u001b[39m\u001b[38;5;241m.\u001b[39m_set_coroutine_origin_tracking(\u001b[38;5;28mself\u001b[39m\u001b[38;5;241m.\u001b[39m_debug)\n\u001b[0;32m    633\u001b[0m old_agen_hooks \u001b[38;5;241m=\u001b[39m sys\u001b[38;5;241m.\u001b[39mget_asyncgen_hooks()\n",
      "File \u001b[1;32m~\\anaconda3\\envs\\conda_jupy_webapp\\Lib\\asyncio\\base_events.py:622\u001b[0m, in \u001b[0;36mBaseEventLoop._check_running\u001b[1;34m(self)\u001b[0m\n\u001b[0;32m    620\u001b[0m \u001b[38;5;28;01mdef\u001b[39;00m \u001b[38;5;21m_check_running\u001b[39m(\u001b[38;5;28mself\u001b[39m):\n\u001b[0;32m    621\u001b[0m     \u001b[38;5;28;01mif\u001b[39;00m \u001b[38;5;28mself\u001b[39m\u001b[38;5;241m.\u001b[39mis_running():\n\u001b[1;32m--> 622\u001b[0m         \u001b[38;5;28;01mraise\u001b[39;00m \u001b[38;5;167;01mRuntimeError\u001b[39;00m(\u001b[38;5;124m'\u001b[39m\u001b[38;5;124mThis event loop is already running\u001b[39m\u001b[38;5;124m'\u001b[39m)\n\u001b[0;32m    623\u001b[0m     \u001b[38;5;28;01mif\u001b[39;00m events\u001b[38;5;241m.\u001b[39m_get_running_loop() \u001b[38;5;129;01mis\u001b[39;00m \u001b[38;5;129;01mnot\u001b[39;00m \u001b[38;5;28;01mNone\u001b[39;00m:\n\u001b[0;32m    624\u001b[0m         \u001b[38;5;28;01mraise\u001b[39;00m \u001b[38;5;167;01mRuntimeError\u001b[39;00m(\n\u001b[0;32m    625\u001b[0m             \u001b[38;5;124m'\u001b[39m\u001b[38;5;124mCannot run the event loop while another loop is running\u001b[39m\u001b[38;5;124m'\u001b[39m)\n",
      "\u001b[1;31mRuntimeError\u001b[0m: This event loop is already running"
     ]
    }
   ],
   "source": [
    "# import json\n",
    "# from tornado import web, ioloop\n",
    "# from IPython.display import display, Javascript\n",
    "\n",
    "# class IPAddressHandler(web.RequestHandler):\n",
    "#     def get(self):\n",
    "#         # Capture the IP address\n",
    "#         ip_address = self.request.remote_ip\n",
    "#         self.write(json.dumps({\"ip_address\": ip_address}))\n",
    "\n",
    "# # Setup the Tornado application\n",
    "# def start_server():\n",
    "#     app = web.Application([\n",
    "#         (r\"/get-ip\", IPAddressHandler),\n",
    "#     ])\n",
    "#     app.listen(8888)  # You can change the port if needed\n",
    "#     print(\"Server running on http://localhost:8888/get-ip\")\n",
    "#     ioloop.IOLoop.current().start()\n",
    "\n",
    "# # Start the server\n",
    "# start_server()\n"
   ]
  },
  {
   "cell_type": "code",
   "execution_count": 4,
   "id": "54e1b9b7",
   "metadata": {},
   "outputs": [
    {
     "data": {
      "text/html": [
       "<b>User IP: 127.0.0.1</b>"
      ],
      "text/plain": [
       "<IPython.core.display.HTML object>"
      ]
     },
     "metadata": {},
     "output_type": "display_data"
    },
    {
     "name": "stdout",
     "output_type": "stream",
     "text": [
      " * Serving Flask app '__main__'\n",
      " * Debug mode: off\n"
     ]
    },
    {
     "name": "stderr",
     "output_type": "stream",
     "text": [
      "WARNING: This is a development server. Do not use it in a production deployment. Use a production WSGI server instead.\n",
      " * Running on all addresses (0.0.0.0)\n",
      " * Running on http://127.0.0.1:5000\n",
      " * Running on http://192.168.1.67:5000\n",
      "Press CTRL+C to quit\n"
     ]
    }
   ],
   "source": [
    "from flask import Flask, request, jsonify\n",
    "import threading\n",
    "import requests\n",
    "from IPython.display import display, HTML\n",
    "\n",
    "# Flask app to capture user IP address\n",
    "app = Flask(__name__)\n",
    "\n",
    "user_ip = None  # Global variable to store the user IP address\n",
    "\n",
    "@app.route('/get_ip', methods=['GET'])\n",
    "def get_ip():\n",
    "    global user_ip\n",
    "    user_ip = request.remote_addr\n",
    "    return jsonify({'ip': user_ip})\n",
    "\n",
    "def run_flask():\n",
    "    app.run(host='0.0.0.0', port=5000)\n",
    "\n",
    "# Start the Flask server in a separate thread\n",
    "flask_thread = threading.Thread(target=run_flask)\n",
    "flask_thread.start()\n",
    "\n",
    "# Function to get the user IP by calling the Flask endpoint\n",
    "def get_user_ip():\n",
    "    try:\n",
    "        # Call the Flask app running on localhost\n",
    "        response = requests.get(\"http://127.0.0.1:5000/get_ip\")\n",
    "        ip_data = response.json()\n",
    "\n",
    "        # Display the IP address in the notebook\n",
    "        ip_address_str = f\"User IP: {ip_data['ip']}\"\n",
    "        display(HTML(f\"<b>{ip_address_str}</b>\"))\n",
    "\n",
    "        # Optionally, save it in a file\n",
    "        with open(\"user_ips.txt\", \"a\") as f:\n",
    "            f.write(f\"{ip_data['ip']}\\n\")\n",
    "\n",
    "    except Exception as e:\n",
    "        print(f\"Error retrieving IP: {e}\")\n",
    "\n",
    "# Get and display the user's IP address\n",
    "get_user_ip()\n"
   ]
  },
  {
   "cell_type": "code",
   "execution_count": null,
   "id": "c74d0741",
   "metadata": {},
   "outputs": [],
   "source": []
  }
 ],
 "metadata": {
  "kernelspec": {
   "display_name": "Python 3 (ipykernel)",
   "language": "python",
   "name": "python3"
  },
  "language_info": {
   "codemirror_mode": {
    "name": "ipython",
    "version": 3
   },
   "file_extension": ".py",
   "mimetype": "text/x-python",
   "name": "python",
   "nbconvert_exporter": "python",
   "pygments_lexer": "ipython3",
   "version": "3.12.3"
  }
 },
 "nbformat": 4,
 "nbformat_minor": 5
}
