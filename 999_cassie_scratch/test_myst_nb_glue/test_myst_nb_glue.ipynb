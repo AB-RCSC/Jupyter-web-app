{
 "cells": [
  {
   "cell_type": "code",
   "execution_count": 6,
   "id": "53d51bb2-a851-444c-b5a6-b0c260dce492",
   "metadata": {},
   "outputs": [
    {
     "data": {
      "text/plain": [
       "'here is some text!'"
      ]
     },
     "metadata": {
      "scrapbook": {
       "mime_prefix": "",
       "name": "cool_text"
      }
     },
     "output_type": "display_data"
    }
   ],
   "source": [
    "from myst_nb import glue\n",
    "my_variable = \"here is some text!\"\n",
    "glue(\"cool_text\", my_variable)"
   ]
  },
  {
   "cell_type": "code",
   "execution_count": 7,
   "id": "c298ad0d-23c1-4f01-af62-0b1ea81be3bf",
   "metadata": {},
   "outputs": [
    {
     "data": {
      "text/plain": [
       "'here is some text!'"
      ]
     },
     "metadata": {
      "scrapbook": {
       "mime_prefix": "",
       "name": "cool_text"
      }
     },
     "output_type": "display_data"
    }
   ],
   "source": [
    "glue(\"cool_text\", my_variable)"
   ]
  },
  {
   "cell_type": "code",
   "execution_count": 30,
   "id": "34c9bf5f-e9e9-4936-8c4a-bd974da3f20a",
   "metadata": {},
   "outputs": [
    {
     "data": {
      "application/papermill.record/text/plain": "'Header Name'"
     },
     "metadata": {
      "scrapbook": {
       "mime_prefix": "application/papermill.record/",
       "name": "cool_text"
      }
     },
     "output_type": "display_data"
    },
    {
     "data": {
      "application/papermill.record/text/plain": "'text here'"
     },
     "metadata": {
      "scrapbook": {
       "mime_prefix": "application/papermill.record/",
       "name": "cool_text"
      }
     },
     "output_type": "display_data"
    }
   ],
   "source": [
    "from myst_nb import glue\n",
    "header = 'Header Name'\n",
    "assumptions = \"text here\"\n",
    "glue(\"cool_text\", header,display=False)\n",
    "glue(\"cool_text\", assumptions,display=False)"
   ]
  },
  {
   "cell_type": "code",
   "execution_count": 35,
   "id": "553ff174-ad7f-41b7-bafe-bdf2998cb04e",
   "metadata": {},
   "outputs": [
    {
     "data": {
      "text/plain": [
       "'Header Name'"
      ]
     },
     "metadata": {
      "scrapbook": {
       "mime_prefix": "",
       "name": "cool_text"
      }
     },
     "output_type": "display_data"
    }
   ],
   "source": [
    "glue(\"cool_text\", header)"
   ]
  },
  {
   "cell_type": "markdown",
   "id": "a963cdf0-4588-467d-84cd-d5a881e3ca32",
   "metadata": {},
   "source": [
    "<!-- note to self ; superscripts as <sup>1</sup> -->\n",
    "\n",
    "``````{admonition} Click for more info\n",
    ":class: dropdown\n",
    "\n",
    "### Header Name\n",
    "\n",
    ":::::{dropdown} **Assumptions, Pros, Cons**\n",
    "::::{grid} 3\n",
    ":::{grid-item-card}  **Assumptions**\n",
    "\n",
    "text here\n",
    "\n",
    ":::\n",
    ":::{grid-item-card}  **Pros** \n",
    "-   May be used as a [relative abundance index](#mods_relative_abundance) that controls for [imperfect detection](#imperfect_detection)<sup>1</sup>\n",
    "\n",
    "-   Easy-to-use software exists to implement (e.g., CAPTURE); MARK Implements more complicated models with covariates (and must be used for [mark-resight modelling](#mods_marked__resight))<sup>1</sup>\n",
    "\n",
    "-    Can use the robust design with “open” models to obtain recruitment and survival rate estimates<sup>1</sup>\n",
    "\n",
    ":::\n",
    ":::{grid-item-card}  **Cons**\n",
    "-   example\n",
    "\n",
    "-   example\n",
    "\n",
    "-   example\n",
    ":::\n",
    "::::\n",
    ":::::\n",
    "\n",
    "`````{tab-set}\n",
    ":selected: true\n",
    "````{tab-item}   Overview\n",
    "\n",
    "```{image} ./CR_EMBED_LAYMAN_EXAMPLE1.png\n",
    ":width: 80%\n",
    ":align: center\n",
    "```\n",
    "```{image} ./CR_EMBED_LAYMAN_EXAMPLE2.png\n",
    ":width: 90%\n",
    ":align: center\n",
    "```\n",
    "````\n",
    "````{tab-item} Advanced\n",
    "\\\n",
    "INFO \n",
    "INFO \n",
    "INFO\n",
    "\n",
    "```{image} ./Clarke-et-al_2023_eqn_cr1.png\n",
    ":width: 80px\n",
    ":align: center\n",
    "```\n",
    "\n",
    "INFO \n",
    "INFO \n",
    "INFO\n",
    "\n",
    "````\n",
    "\n",
    "````{tab-item} Visual Resources\n",
    "::::{grid} 3\n",
    "\n",
    ":::{grid-item-card}\n",
    ":header: J. Andrew Royle,\"Spatial Capture-Recapture Modelling\" ✨\n",
    ":padding: 0\n",
    ":margin: 0\n",
    ":::{iframe} https://www.youtube.com/embed/4HKFimATq9E\n",
    ":width: 100%\n",
    ":::\n",
    "\n",
    ":::{grid-item-card}\n",
    ":header: PAWS: Spatial Capture Recapture Data Analysis Part 1 ✨\n",
    ":::{iframe} https://www.youtube.com/embed/aTbk-jWyMcU\n",
    ":width: 100%\n",
    ":::\n",
    "\n",
    ":::{grid-item-card}\n",
    ":header: PAWS: Spatial Capture Recapture Data Analysis Part 2 ✨\n",
    ":padding: 0\n",
    ":margin: 0\n",
    ":::{iframe} https://www.youtube.com/embed/IHVez1a_hqg\n",
    ":width: 100%\n",
    ":::\n",
    "::::\n",
    "````\n",
    "````{tab-item} Analytical tools & resources\n",
    "| Name | URL | Note | Reference |\n",
    "| -- | -- | -- | -- |\n",
    "| R package - “RMark” | <https://cran.r-project.org/web/packages/RMark/index.html> | \"The R counterpart to MARK, allowing complex models to be fit using just a few lines of code. With some work, it is possible to get RMark functioning on Mac and Linux (see RMark documentation).\" (Wearn & Glover-Kapfer, 2017) | Laake J (2013). “RMark: An R Interface for Analysis of Capture-Recapture Data with MARK.” AFSC Processed Rep. 2013-01, Alaska Fish. Sci. Cent., NOAA, Natl. Mar. Fish. Serv., Seattle, WA. https://apps-afsc.fisheries.noaa.gov/Publications/ProcRpt/PR2013-01.pdf. |\n",
    "| R package - “multimark” | <https://cran.r-project.org/web/packages/multimark/index.html> | Conventional capture-recapture using multiple marks - Conventional capture-recapture (and mark-resight) \"Allows for an integrated analysis of data on two individuallyidentifiable animal marks (e.g. left and right flanks of animals), as might be obtained from capture-recapture surveys which do not use paired cameras. Also implements standard models using a single mark.\" (Wearn & Glover-Kapfer, 2017) | McClintock BT (2015). “multimark: an R package for analysis of capture–recapture data consisting of multiple “noninvasive” marks.” Ecology and Evolution, 5(21), 4920–4931. https://doi.org/10.1002/ece3.1676. |\n",
    "| Program - “MARK” | <www.phidot.org/software/mark/downloads> | Conventional capture-recapture (and mark-resight) \"Relatively complex and comprehensive software with a steep learning curve. Also implements occupancy models. Fits models using maximum likelihood methods (unlike CAPTURE), allowing for model selection and hypothesis testing. Good support available from an active community.\" (Wearn & Glover-Kapfer, 2017) | White, G. C., & Burnham, K. P. (1999). Program MARK: Survival estimation from populations of marked animals. Bird Study, 46(sup1), S120–S139. https://doi.org/10.1080/00063659909477239 |\n",
    "| Program - “CAPTURE” | <www.mbr-pwrc.usgs.gov/software/capture.shtml> | \"Software for making abundance and density estimates using a limited range of conventional capture-recapture models. Inference is based on the models in White et al. (1978), rather than modern maximum likelihood estimation.\" (Wearn & Glover-Kapfer, 2017) |  |\n",
    "\n",
    "````\n",
    "````{tab-item} References\n",
    "<font size=\"1\">\n",
    "\n",
    "Ahumada, J. A., Fegraus, E., Birch, T., Flores, N., Kays, R., O'Brien, T. G., Palmer, J., Schuttler, S., Zhao, J. Y., Jetz, W., Kinnaird, M., Kulkarni, S., Lyet, A., Thau, D., Duong, M., Oliver, R., & Dancer, A. (2019). Wildlife Insights: A Platform to Maximize the Potential of Camera Trap and Other Passive Sensor Wildlife Data for the Planet. *Environmental Conservation*, 47(1), 1-6. <https://doi.org/10.1017/s0376892919000298>\n",
    "\n",
    "Ahumada, J. A., Silva, C. E. F., Gajapersad, K., Hallam, C., Hurtado, J., Martin, E., McWilliam, A., Mugerwa, B., O'Brien, T., Rovero, F., Sheil, D., Spironello, W. R., Winarni, N., & Andelman, S. J. (2011). Community Structure and Diversity of Tropical Forest Mammals: Data from a Global Camera Trap Network. *Philosophical Transactions: Biological Sciences, 366*(1578), 2703-2711. <https://doi.org/10.1098/rstb.2011.0115>\n",
    "\n",
    "Alberta Biodiversity Monitoring Institute [ABMI] (2021). *Terrestrial ARU and Remote Camera Trap Protocols:* Edmonton, Alberta. <https://abmi.ca/home/publications/551-600/599>\n",
    "\n",
    "Alberta Remote Camera Steering Committee (RCSC). 2023. Remote Camera Metadata Standards: Standards for Alberta. Version 2.0. Edmonton, Alberta. <https://cassstevenson.github.io/RCSC-WildCAM_Remote-Camera-Survey-Guidelines-and-Metadata-Standards/2_metadata-standards/2.1_Citation-and-Info.html>\n",
    "\n",
    "Alonso, R. S., McClintock, B. T., Lyren, L. M., Boydston, E. E., & Crooks, K. R. (2015). Mark-recapture and Mark-resight Methods for Estimating Abundance with Remote Cameras: A Carnivore Case Study. *PLoS One, 10*(3), e0123032. <https://doi.org/10.1371/journal.pone.0123032>\n",
    "\n",
    "</font>\\\n",
    "````\n",
    "\n",
    "````{tab-item} Glossary\n",
    "**\\*Access Method**\n",
    ":   The method used to reach the camera location (e.g., on \"Foot,\" \"ATV,\" \"Helicopter,\" etc.).\n",
    "\n",
    "**\\*Adult**\n",
    ":   Animals that are old enough to breed; reproductively mature.\n",
    "\n",
    "**\\*Age Class**\n",
    ":   The age classification of one or more individuals (if the classification is the same) being categorized (e.g., \"Adult,\" \"Juvenile,\" \"Subadult,\" \"Subadult - Young of Year,\" \"Subadult - Yearling\", or \"Unknown\").\n",
    "\n",
    "**\\*Analyst**\n",
    ":   The first and last names of the individual who provided the observation data point (species identification and associated information). If there are multiple analysts for an observation, enter the primary analyst.\n",
    "\n",
    "</p>\n",
    "\n",
    "````\n",
    "`````\n",
    "``````"
   ]
  },
  {
   "cell_type": "code",
   "execution_count": 42,
   "id": "c58cc3ec-956e-4928-b00b-6270f5f83887",
   "metadata": {},
   "outputs": [
    {
     "name": "stderr",
     "output_type": "stream",
     "text": [
      "C:\\Users\\cassi\\AppData\\Local\\Temp\\ipykernel_4016\\4145109821.py:3: UserWarning: legacy printing option can currently only be '1.13', '1.21', or `False`\n",
      "  np.set_printoptions(legacy=\"1.25\")\n"
     ]
    }
   ],
   "source": [
    "# Simulate some data and bootstrap the mean of the data\n",
    "import numpy as np\n",
    "np.set_printoptions(legacy=\"1.25\")\n",
    "\n",
    "import pandas as pd\n",
    "import matplotlib.pyplot as plt\n",
    "\n",
    "n_points = 10000\n",
    "n_boots = 1000\n",
    "mean, sd = (3, .2)\n",
    "data = sd*np.random.randn(n_points) + mean\n",
    "bootstrap_indices = np.random.randint(0, n_points, n_points*n_boots).reshape((n_boots, n_points))"
   ]
  },
  {
   "cell_type": "code",
   "execution_count": 43,
   "id": "6aae1381-9d5b-4416-adf5-71cbb61cce49",
   "metadata": {},
   "outputs": [
    {
     "data": {
      "text/plain": [
       "2.9975777623074187"
      ]
     },
     "metadata": {
      "scrapbook": {
       "mime_prefix": "",
       "name": "boot_mean"
      }
     },
     "output_type": "display_data"
    },
    {
     "data": {
      "text/plain": [
       "2.9853919798167583"
      ]
     },
     "metadata": {
      "scrapbook": {
       "mime_prefix": "",
       "name": "boot_clo"
      }
     },
     "output_type": "display_data"
    },
    {
     "data": {
      "text/plain": [
       "3.0099869733445437"
      ]
     },
     "metadata": {
      "scrapbook": {
       "mime_prefix": "",
       "name": "boot_chi"
      }
     },
     "output_type": "display_data"
    }
   ],
   "source": [
    "# Calculate the mean of a bunch of random samples\n",
    "means = data[bootstrap_indices].mean(0)\n",
    "# Calculate the 95% confidence interval for the mean\n",
    "clo, chi = np.percentile(means, [2.5, 97.5])\n",
    "\n",
    "# Store the values in our notebook\n",
    "glue(\"boot_mean\", means.mean())\n",
    "glue(\"boot_clo\", clo)\n",
    "glue(\"boot_chi\", chi)"
   ]
  },
  {
   "cell_type": "code",
   "execution_count": 44,
   "id": "3793da96-2952-470d-aa38-167365bb0042",
   "metadata": {},
   "outputs": [
    {
     "data": {
      "application/papermill.record/image/png": "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",
      "application/papermill.record/text/plain": "<Figure size 640x480 with 1 Axes>"
     },
     "metadata": {
      "scrapbook": {
       "mime_prefix": "application/papermill.record/",
       "name": "boot_fig"
      }
     },
     "output_type": "display_data"
    },
    {
     "data": {
      "application/papermill.record/image/png": "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",
      "application/papermill.record/text/plain": "<Figure size 600x200 with 1 Axes>"
     },
     "metadata": {
      "scrapbook": {
       "mime_prefix": "application/papermill.record/",
       "name": "sorted_means_fig"
      }
     },
     "output_type": "display_data"
    },
    {
     "data": {
      "image/png": "[encoded data removed]",
      "text/plain": [
       "<Figure size 640x480 with 1 Axes>"
      ]
     },
     "metadata": {},
     "output_type": "display_data"
    },
    {
     "data": {
      "image/png": "[encoded data removed]",
      "text/plain": [
       "<Figure size 600x200 with 1 Axes>"
      ]
     },
     "metadata": {},
     "output_type": "display_data"
    }
   ],
   "source": [
    "# Visualize the histogram with the intervals\n",
    "fig, ax = plt.subplots()\n",
    "ax.hist(means)\n",
    "for ln in [clo, chi]:\n",
    "    ax.axvline(ln, ls='--', c='r')\n",
    "ax.set_title(\"Bootstrap distribution and 95% CI\")\n",
    "\n",
    "# And a wider figure to show a timeseries\n",
    "fig2, ax = plt.subplots(figsize=(6, 2))\n",
    "ax.plot(np.sort(means), lw=3, c='r')\n",
    "ax.set_axis_off()\n",
    "\n",
    "glue(\"boot_fig\", fig, display=False)\n",
    "glue(\"sorted_means_fig\", fig2, display=False)"
   ]
  },
  {
   "cell_type": "code",
   "execution_count": 45,
   "id": "67257287-0466-4485-a7d6-767176c6d6b8",
   "metadata": {},
   "outputs": [
    {
     "data": {
      "text/html": [
       "<div>\n",
       "<style scoped>\n",
       "    .dataframe tbody tr th:only-of-type {\n",
       "        vertical-align: middle;\n",
       "    }\n",
       "\n",
       "    .dataframe tbody tr th {\n",
       "        vertical-align: top;\n",
       "    }\n",
       "\n",
       "    .dataframe thead th {\n",
       "        text-align: right;\n",
       "    }\n",
       "</style>\n",
       "<table border=\"1\" class=\"dataframe\">\n",
       "  <thead>\n",
       "    <tr style=\"text-align: right;\">\n",
       "      <th></th>\n",
       "      <th>first</th>\n",
       "      <th>second</th>\n",
       "      <th>third</th>\n",
       "    </tr>\n",
       "  </thead>\n",
       "  <tbody>\n",
       "    <tr>\n",
       "      <th>0</th>\n",
       "      <td>2.845249</td>\n",
       "      <td>2.857172</td>\n",
       "      <td>3.328714</td>\n",
       "    </tr>\n",
       "    <tr>\n",
       "      <th>1</th>\n",
       "      <td>3.490782</td>\n",
       "      <td>3.312132</td>\n",
       "      <td>2.967429</td>\n",
       "    </tr>\n",
       "    <tr>\n",
       "      <th>2</th>\n",
       "      <td>2.955305</td>\n",
       "      <td>3.048289</td>\n",
       "      <td>3.272929</td>\n",
       "    </tr>\n",
       "    <tr>\n",
       "      <th>3</th>\n",
       "      <td>3.111696</td>\n",
       "      <td>2.750434</td>\n",
       "      <td>3.085424</td>\n",
       "    </tr>\n",
       "    <tr>\n",
       "      <th>4</th>\n",
       "      <td>3.192942</td>\n",
       "      <td>2.831156</td>\n",
       "      <td>2.894730</td>\n",
       "    </tr>\n",
       "  </tbody>\n",
       "</table>\n",
       "</div>"
      ],
      "text/plain": [
       "      first    second     third\n",
       "0  2.845249  2.857172  3.328714\n",
       "1  3.490782  3.312132  2.967429\n",
       "2  2.955305  3.048289  3.272929\n",
       "3  3.111696  2.750434  3.085424\n",
       "4  3.192942  2.831156  2.894730"
      ]
     },
     "metadata": {
      "scrapbook": {
       "mime_prefix": "",
       "name": "df_tbl"
      }
     },
     "output_type": "display_data"
    }
   ],
   "source": [
    "bootstrap_subsets = data[bootstrap_indices][:3, :5].T\n",
    "df = pd.DataFrame(bootstrap_subsets, columns=[\"first\", \"second\", \"third\"])\n",
    "glue(\"df_tbl\", df)"
   ]
  },
  {
   "cell_type": "code",
   "execution_count": null,
   "id": "50731501-1fcf-4d4f-afd2-33410d156576",
   "metadata": {},
   "outputs": [],
   "source": [
    "Inline text; {glue}`boot_mean`, and figure; {glue}`boot_fig`."
   ]
  },
  {
   "cell_type": "markdown",
   "id": "1b6aad30-eb1c-4eed-8710-f64bd67f8861",
   "metadata": {},
   "source": [
    "The mean of the bootstrapped distribution was {glue:text}`boot_mean` (95% confidence interval {glue:text}`boot_clo`/{glue:text}`boot_chi`)."
   ]
  },
  {
   "cell_type": "code",
   "execution_count": null,
   "id": "86c94ede-944f-4d4f-a266-01673388956a",
   "metadata": {},
   "outputs": [],
   "source": []
  }
 ],
 "metadata": {
  "kernelspec": {
   "display_name": "Python 3 (ipykernel)",
   "language": "python",
   "name": "python3"
  },
  "language_info": {
   "codemirror_mode": {
    "name": "ipython",
    "version": 3
   },
   "file_extension": ".py",
   "mimetype": "text/x-python",
   "name": "python",
   "nbconvert_exporter": "python",
   "pygments_lexer": "ipython3",
   "version": "3.12.4"
  },
  "widgets": {
   "application/vnd.jupyter.widget-state+json": {
    "state": {},
    "version_major": 2,
    "version_minor": 0
   }
  }
 },
 "nbformat": 4,
 "nbformat_minor": 5
}
