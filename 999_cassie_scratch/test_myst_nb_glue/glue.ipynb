{
 "cells": [
  {
   "cell_type": "markdown",
   "id": "ea9ec0b7",
   "metadata": {},
   "source": [
    "(glue/main)=\n",
    "\n",
    "# Saving variables to embed (glue)\n",
    "\n",
    "The `glue` submodule allows you to store variables in the notebooks outputs, by keys,\n",
    "then reference those keys to embed the outputs inline of your text content.[^download]\n",
    "\n",
    "[^download]: This notebook can be downloaded as **{nb-download}`glue.ipynb`** and {download}`glue.md`\n",
    "\n",
    ":::{versionchanged} 0.14.0\n",
    "The `glue` roles and directives now only identify keys in the same notebook, by default.\n",
    "To glue keys from other notebooks, see {ref}`glue/crossdoc`.\n",
    ":::"
   ]
  },
  {
   "cell_type": "markdown",
   "id": "c8a3fbfd",
   "metadata": {},
   "source": [
    "(glue/gluing)=\n",
    "\n",
    "## Save variables in code cells\n",
    "\n",
    "You can use `myst_nb.glue()` to assign the output of a variable to a key of your choice.\n",
    "`glue` will store all of the information that is normally used to display that variable (ie, whatever happens when you display the variable by putting it at the end of a cell).\n",
    "Choose a key that you will remember, as you will use it later.\n",
    "\n",
    "The following code glues a variable inside the notebook:"
   ]
  },
  {
   "cell_type": "code",
   "execution_count": 1,
   "id": "83a0835c",
   "metadata": {},
   "outputs": [
    {
     "data": {
      "text/plain": [
       "'my variable!'"
      ]
     },
     "metadata": {
      "scrapbook": {
       "mime_prefix": "",
       "name": "my_variable"
      }
     },
     "output_type": "display_data"
    }
   ],
   "source": [
    "from myst_nb import glue\n",
    "a = \"my variable!\"\n",
    "glue(\"my_variable\", a)"
   ]
  },
  {
   "cell_type": "markdown",
   "id": "2b454791",
   "metadata": {},
   "source": [
    "You can then insert it into your text like so: {glue}`my_variable`.\n",
    "\n",
    "That was accomplished with the following code: `` {glue}`my_variable` ``.\n",
    "\n",
    "### Saving different variable types\n",
    "\n",
    "You can glue anything in your notebook and display it later with `{glue}`.\n",
    "Here we'll show how to glue and paste **numbers and images**.\n",
    "We'll simulate some data and run a simple bootstrap on it.\n",
    "We'll hide most of this process below, to focus on the glueing part."
   ]
  },
  {
   "cell_type": "code",
   "execution_count": 2,
   "id": "c775356d",
   "metadata": {
    "tags": [
     "hide-cell"
    ]
   },
   "outputs": [
    {
     "name": "stderr",
     "output_type": "stream",
     "text": [
      "C:\\Users\\cassi\\AppData\\Local\\Temp\\ipykernel_6248\\4145109821.py:3: UserWarning: legacy printing option can currently only be '1.13', '1.21', or `False`\n",
      "  np.set_printoptions(legacy=\"1.25\")\n"
     ]
    }
   ],
   "source": [
    "# Simulate some data and bootstrap the mean of the data\n",
    "import numpy as np\n",
    "np.set_printoptions(legacy=\"1.25\")\n",
    "\n",
    "import pandas as pd\n",
    "import matplotlib.pyplot as plt\n",
    "\n",
    "n_points = 10000\n",
    "n_boots = 1000\n",
    "mean, sd = (3, .2)\n",
    "data = sd*np.random.randn(n_points) + mean\n",
    "bootstrap_indices = np.random.randint(0, n_points, n_points*n_boots).reshape((n_boots, n_points))"
   ]
  },
  {
   "cell_type": "markdown",
   "id": "3415d0ed",
   "metadata": {},
   "source": [
    "In the cell below, `data` contains our data, and `bootstrap_indices` is a collection of sample indices in each bootstrap.\n",
    "Below we'll calculate a few statistics of interest, and `glue()` them into the notebook."
   ]
  },
  {
   "cell_type": "code",
   "execution_count": 3,
   "id": "c456a4c6",
   "metadata": {},
   "outputs": [
    {
     "data": {
      "text/plain": [
       "3.0001597269438744"
      ]
     },
     "metadata": {
      "scrapbook": {
       "mime_prefix": "",
       "name": "boot_mean"
      }
     },
     "output_type": "display_data"
    },
    {
     "data": {
      "text/plain": [
       "2.987662873501613"
      ]
     },
     "metadata": {
      "scrapbook": {
       "mime_prefix": "",
       "name": "boot_clo"
      }
     },
     "output_type": "display_data"
    },
    {
     "data": {
      "text/plain": [
       "3.012661143809344"
      ]
     },
     "metadata": {
      "scrapbook": {
       "mime_prefix": "",
       "name": "boot_chi"
      }
     },
     "output_type": "display_data"
    }
   ],
   "source": [
    "# Calculate the mean of a bunch of random samples\n",
    "means = data[bootstrap_indices].mean(0)\n",
    "# Calculate the 95% confidence interval for the mean\n",
    "clo, chi = np.percentile(means, [2.5, 97.5])\n",
    "\n",
    "# Store the values in our notebook\n",
    "glue(\"boot_mean\", means.mean())\n",
    "glue(\"boot_clo\", clo)\n",
    "glue(\"boot_chi\", chi)"
   ]
  },
  {
   "cell_type": "markdown",
   "id": "998c9406",
   "metadata": {},
   "source": [
    "By default, `glue` will display the value of the variable you are gluing.\n",
    "This is useful for sanity-checking its value at glue-time.\n",
    "If you'd like to **prevent display**, use the `display=False` option.\n",
    "Note that below, we also *overwrite* the value of `boot_chi` (but using the same value):"
   ]
  },
  {
   "cell_type": "code",
   "execution_count": 4,
   "id": "9797265d",
   "metadata": {},
   "outputs": [
    {
     "data": {
      "application/papermill.record/text/plain": "3.012661143809344"
     },
     "metadata": {
      "scrapbook": {
       "mime_prefix": "application/papermill.record/",
       "name": "boot_chi_notdisplayed"
      }
     },
     "output_type": "display_data"
    }
   ],
   "source": [
    "glue(\"boot_chi_notdisplayed\", chi, display=False)"
   ]
  },
  {
   "cell_type": "markdown",
   "id": "1b8593a0",
   "metadata": {},
   "source": [
    "You can also glue visualizations, such as matplotlib figures (here we use `display=False` to ensure that the figure isn't plotted twice):"
   ]
  },
  {
   "cell_type": "code",
   "execution_count": 5,
   "id": "7e1fd329",
   "metadata": {},
   "outputs": [
    {
     "data": {
      "application/papermill.record/image/png": "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",
      "application/papermill.record/text/plain": "<Figure size 640x480 with 1 Axes>"
     },
     "metadata": {
      "scrapbook": {
       "mime_prefix": "application/papermill.record/",
       "name": "boot_fig"
      }
     },
     "output_type": "display_data"
    },
    {
     "data": {
      "application/papermill.record/image/png": "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",
      "application/papermill.record/text/plain": "<Figure size 600x200 with 1 Axes>"
     },
     "metadata": {
      "scrapbook": {
       "mime_prefix": "application/papermill.record/",
       "name": "sorted_means_fig"
      }
     },
     "output_type": "display_data"
    },
    {
     "data": {
      "image/png": "[encoded data removed]",
      "text/plain": [
       "<Figure size 640x480 with 1 Axes>"
      ]
     },
     "metadata": {},
     "output_type": "display_data"
    },
    {
     "data": {
      "image/png": "[encoded data removed]",
      "text/plain": [
       "<Figure size 600x200 with 1 Axes>"
      ]
     },
     "metadata": {},
     "output_type": "display_data"
    }
   ],
   "source": [
    "# Visualize the histogram with the intervals\n",
    "fig, ax = plt.subplots()\n",
    "ax.hist(means)\n",
    "for ln in [clo, chi]:\n",
    "    ax.axvline(ln, ls='--', c='r')\n",
    "ax.set_title(\"Bootstrap distribution and 95% CI\")\n",
    "\n",
    "# And a wider figure to show a timeseries\n",
    "fig2, ax = plt.subplots(figsize=(6, 2))\n",
    "ax.plot(np.sort(means), lw=3, c='r')\n",
    "ax.set_axis_off()\n",
    "\n",
    "glue(\"boot_fig\", fig, display=False)\n",
    "glue(\"sorted_means_fig\", fig2, display=False)"
   ]
  },
  {
   "cell_type": "markdown",
   "id": "44c8b1be",
   "metadata": {},
   "source": [
    "The same can be done for DataFrames (or other table-like objects) as well."
   ]
  },
  {
   "cell_type": "code",
   "execution_count": 6,
   "id": "bd12dc27",
   "metadata": {},
   "outputs": [
    {
     "data": {
      "text/html": [
       "<div>\n",
       "<style scoped>\n",
       "    .dataframe tbody tr th:only-of-type {\n",
       "        vertical-align: middle;\n",
       "    }\n",
       "\n",
       "    .dataframe tbody tr th {\n",
       "        vertical-align: top;\n",
       "    }\n",
       "\n",
       "    .dataframe thead th {\n",
       "        text-align: right;\n",
       "    }\n",
       "</style>\n",
       "<table border=\"1\" class=\"dataframe\">\n",
       "  <thead>\n",
       "    <tr style=\"text-align: right;\">\n",
       "      <th></th>\n",
       "      <th>first</th>\n",
       "      <th>second</th>\n",
       "      <th>third</th>\n",
       "    </tr>\n",
       "  </thead>\n",
       "  <tbody>\n",
       "    <tr>\n",
       "      <th>0</th>\n",
       "      <td>3.078482</td>\n",
       "      <td>2.940869</td>\n",
       "      <td>2.972008</td>\n",
       "    </tr>\n",
       "    <tr>\n",
       "      <th>1</th>\n",
       "      <td>2.641825</td>\n",
       "      <td>2.785751</td>\n",
       "      <td>2.774786</td>\n",
       "    </tr>\n",
       "    <tr>\n",
       "      <th>2</th>\n",
       "      <td>3.074127</td>\n",
       "      <td>2.909082</td>\n",
       "      <td>3.192257</td>\n",
       "    </tr>\n",
       "    <tr>\n",
       "      <th>3</th>\n",
       "      <td>2.981955</td>\n",
       "      <td>2.563036</td>\n",
       "      <td>2.976926</td>\n",
       "    </tr>\n",
       "    <tr>\n",
       "      <th>4</th>\n",
       "      <td>3.101080</td>\n",
       "      <td>2.803708</td>\n",
       "      <td>2.528132</td>\n",
       "    </tr>\n",
       "  </tbody>\n",
       "</table>\n",
       "</div>"
      ],
      "text/plain": [
       "      first    second     third\n",
       "0  3.078482  2.940869  2.972008\n",
       "1  2.641825  2.785751  2.774786\n",
       "2  3.074127  2.909082  3.192257\n",
       "3  2.981955  2.563036  2.976926\n",
       "4  3.101080  2.803708  2.528132"
      ]
     },
     "metadata": {
      "scrapbook": {
       "mime_prefix": "",
       "name": "df_tbl"
      }
     },
     "output_type": "display_data"
    }
   ],
   "source": [
    "bootstrap_subsets = data[bootstrap_indices][:3, :5].T\n",
    "df = pd.DataFrame(bootstrap_subsets, columns=[\"first\", \"second\", \"third\"])\n",
    "glue(\"df_tbl\", df)"
   ]
  },
  {
   "cell_type": "markdown",
   "id": "df371919",
   "metadata": {},
   "source": [
    "```{tip}\n",
    "Since we are going to paste this figure into our document at a later point,\n",
    "you may wish to remove the output here, using the `remove-output` tag\n",
    "(see {ref}`use/removing`).\n",
    "```"
   ]
  },
  {
   "cell_type": "markdown",
   "id": "0259ea55",
   "metadata": {},
   "source": [
    "(glue/pasting)=\n",
    "\n",
    "## Embedding variables in the page\n",
    "\n",
    "Once you have glued variables into a notebook, you can then **paste**\n",
    "those variables into your text in your book anywhere you like (even on other pages).\n",
    "These variables can be pasted using one of the roles or directives in the `glue:` *family*."
   ]
  },
  {
   "cell_type": "markdown",
   "id": "4b1fa5cc",
   "metadata": {},
   "source": [
    "### The `glue` role/directive\n",
    "\n",
    "The simplest role and directive are `glue` (a.k.a. `glue:any`),\n",
    "which paste the glued output inline or as a block respectively,\n",
    "with no additional formatting.\n",
    "Simply add:\n",
    "\n",
    "````\n",
    "```{glue} your-key\n",
    "```\n",
    "````\n",
    "\n",
    "For example, we'll paste the plot we generated above with the following text:\n",
    "\n",
    "````md\n",
    "```{glue} boot_fig\n",
    "```\n",
    "````\n",
    "\n",
    "Here's how it looks:\n",
    "\n",
    "```{glue} boot_fig\n",
    "```\n",
    "\n",
    "Or we can paste inline objects like so:\n",
    "\n",
    "```md\n",
    "Inline text; {glue}`boot_mean`, and figure; {glue}`boot_fig`.\n",
    "```\n",
    "\n",
    "Inline text; {glue}`boot_mean`, and figure; {glue}`boot_fig`.\n",
    "\n",
    "```{tip}\n",
    "We recommend using wider, shorter figures when plotting in-line, with a ratio\n",
    "around 6x2. For example, here's is an in-line figure of sorted means\n",
    "from our bootstrap: {glue}`sorted_means_fig`.\n",
    "It can be used to make a visual point that isn't too complex! For more\n",
    "ideas, check out [how sparklines are used](https://en.wikipedia.org/wiki/Sparkline).\n",
    "```\n",
    "\n",
    "Next we'll cover some more specific pasting functionality, which gives you more\n",
    "control over how the outputs look in your pages."
   ]
  },
  {
   "cell_type": "markdown",
   "id": "1358bdb2",
   "metadata": {},
   "source": [
    "## Controlling the output format\n",
    "\n",
    "You can control the pasted outputs by using a sub-command of `{glue}`.\n",
    "These are called like so: `` {glue:subcommand}`key` ``.\n",
    "These subcommands allow you to control more of the look, feel, and content of the pasted output.\n",
    "\n",
    "```{tip}\n",
    "When you use `{glue}` you are actually using a short-hand for `{glue:any}`. This is a\n",
    "generic command that doesn't make many assumptions about what you are gluing.\n",
    "```"
   ]
  },
  {
   "cell_type": "markdown",
   "id": "ba971519",
   "metadata": {},
   "source": [
    "### The `glue:text` role\n",
    "\n",
    "The `glue:text` role, is specific to `text/plain` outputs.\n",
    "For example, the following text:\n",
    "\n",
    "```md\n",
    "The mean of the bootstrapped distribution was {glue:text}`boot_mean` (95% confidence interval {glue:text}`boot_clo`/{glue:text}`boot_chi`).\n",
    "```\n",
    "\n",
    "Is rendered as:\n",
    "\n",
    "The mean of the bootstrapped distribution was {glue:text}`boot_mean` (95% confidence interval {glue:text}`boot_clo`/{glue:text}`boot_chi`)\n",
    "\n",
    "```{note}\n",
    "`glue:text` only works with glued variables that contain a `text/plain` output.\n",
    "```\n",
    "\n",
    "With `glue:text` we can add formatting to the output, by specifying a format spec string after a `:`: `` {glue:text}`mykey:<format_spec>` ``\n",
    "\n",
    "The `<format_spec>` should be a valid [Python format specifier](https://docs.python.org/3/library/string.html#format-specification-mini-language).\n",
    "\n",
    "This is particularly useful if you are displaying numbers and want to round the results.\n",
    "For example, the following: ``My rounded mean: {glue:text}`boot_mean:.2f` `` will be rendered like this:\n",
    "\n",
    "My rounded mean: {glue:text}`boot_mean:.2f` (95% CI: {glue:text}`boot_clo:.2f`/{glue:text}`boot_chi:.2f`)."
   ]
  },
  {
   "cell_type": "markdown",
   "id": "32ae4203",
   "metadata": {},
   "source": [
    "### The `glue:figure` directive\n",
    "\n",
    "With `glue:figure` you can apply more formatting to figure like objects,\n",
    "such as giving them a caption and referenceable label:\n",
    "\n",
    ":::{table} `glue:figure` directive options\n",
    "| Option | Type | Description |\n",
    "| ------ | ---- | ----------- |\n",
    "| alt | text | Alternate text of an image |\n",
    "| height | length | The desired height of an image |\n",
    "| width | length or percentage | The width of an image |\n",
    "| scale | percentage | The uniform scaling factor of an image |\n",
    "| class | text | A space-separated list of class names for the image |\n",
    "| figwidth | length or percentage | The width of the figure |\n",
    "| figclass | text | A space-separated list of class names for the figure |\n",
    "| align | text | left, center, or right |\n",
    "| name | text | referenceable label for the figure |\n",
    ":::\n",
    "\n",
    "````md\n",
    "```{glue:figure} boot_fig\n",
    ":alt: \"Alternative title\"\n",
    ":figwidth: 300px\n",
    ":name: \"fig-boot\"\n",
    "\n",
    "This is a **caption**, with an embedded `{glue:text}` element: {glue:text}`boot_mean:.2f`!\n",
    "```\n",
    "````\n",
    "\n",
    "```{glue:figure} boot_fig\n",
    ":alt: \"Alternative title\"\n",
    ":figwidth: 300px\n",
    ":name: \"fig-boot\"\n",
    "\n",
    "This is a **caption**, with an embedded `{glue:text}` element: {glue:text}`boot_mean:.2f`!\n",
    "```\n",
    "\n",
    "```md\n",
    "Here is a {ref}`reference to the figure <fig-boot>`\n",
    "```\n",
    "\n",
    "Here is a {ref}`reference to the figure <fig-boot>`"
   ]
  },
  {
   "cell_type": "markdown",
   "id": "084e2036",
   "metadata": {},
   "source": [
    "Here's a table:\n",
    "\n",
    "````md\n",
    "```{glue:figure} df_tbl\n",
    ":figwidth: 300px\n",
    ":name: \"tbl:df\"\n",
    "\n",
    "A caption for a pandas table.\n",
    "```\n",
    "\n",
    "````\n",
    "```{glue:figure} df_tbl\n",
    ":figwidth: 300px\n",
    ":name: \"tbl:df\"\n",
    "\n",
    "A caption for a pandas table.\n",
    "```"
   ]
  },
  {
   "cell_type": "markdown",
   "id": "6162cfee",
   "metadata": {},
   "source": [
    "### The `glue:math` directive\n",
    "\n",
    "The `glue:math` directive, is specific to latex math outputs\n",
    "(glued variables that contain a `text/latex` mimetype),\n",
    "and works similarly to the [sphinx math directive](https://www.sphinx-doc.org/en/1.8/usage/restructuredtext/directives.html#math).\n",
    "\n",
    ":::{table} `glue:math` directive options\n",
    "| Option | Type | Description |\n",
    "| ------ | ---- | ----------- |\n",
    "| nowrap | flag | Prevent any wrapping of the given math in a math environment |\n",
    "| class | text | A space-separated list of class names |\n",
    "| label or name | text | referenceable label for the figure |\n",
    ":::"
   ]
  },
  {
   "cell_type": "code",
   "execution_count": 7,
   "id": "3b4c854e",
   "metadata": {},
   "outputs": [
    {
     "data": {
      "text/latex": [
       "$\\displaystyle \\left(\\sqrt{5} i\\right)^{\\alpha} \\left(\\frac{1}{2} - \\frac{2 \\sqrt{5} i}{5}\\right) + \\left(- \\sqrt{5} i\\right)^{\\alpha} \\left(\\frac{1}{2} + \\frac{2 \\sqrt{5} i}{5}\\right)$"
      ],
      "text/plain": [
       "(sqrt(5)*I)**\\alpha*(1/2 - 2*sqrt(5)*I/5) + (-sqrt(5)*I)**\\alpha*(1/2 + 2*sqrt(5)*I/5)"
      ]
     },
     "metadata": {
      "scrapbook": {
       "mime_prefix": "",
       "name": "sym_eq"
      }
     },
     "output_type": "display_data"
    }
   ],
   "source": [
    "import sympy as sym\n",
    "f = sym.Function('f')\n",
    "y = sym.Function('y')\n",
    "n = sym.symbols(r'\\alpha')\n",
    "f = y(n)-2*y(n-1/sym.pi)-5*y(n-2)\n",
    "glue(\"sym_eq\", sym.rsolve(f,y(n),[1,4]))"
   ]
  },
  {
   "cell_type": "markdown",
   "id": "c6da979e",
   "metadata": {},
   "source": [
    "````md\n",
    "Insert the equation here:\n",
    "\n",
    "```{glue:math} sym_eq\n",
    ":label: eq-sym\n",
    "```\n",
    "\n",
    "Which we reference as Equation {eq}`eq-sym`\n",
    "````\n",
    "\n",
    "Insert the equation here:\n",
    "\n",
    "```{glue:math} sym_eq\n",
    ":label: eq-sym\n",
    "```\n",
    "\n",
    "Which we reference as Equation {eq}`eq-sym`.\n",
    "\n",
    "```{note}\n",
    "`glue:math` only works with glued variables that contain a `text/latex` output.\n",
    "```\n",
    "\n",
    "### The `glue:md` role/directive\n",
    "\n",
    "With `glue:md`, you can output `text/markdown`, that will be integrated into your page."
   ]
  },
  {
   "cell_type": "code",
   "execution_count": 8,
   "id": "ae497440",
   "metadata": {},
   "outputs": [
    {
     "data": {
      "application/papermill.record/text/markdown": "inline **markdown** with a [link](glue/main), and a nested glue value: {glue}`boot_mean`",
      "application/papermill.record/text/plain": "<IPython.core.display.Markdown object>"
     },
     "metadata": {
      "scrapbook": {
       "mime_prefix": "application/papermill.record/",
       "name": "inline_md"
      }
     },
     "output_type": "display_data"
    },
    {
     "data": {
      "application/papermill.record/text/markdown": "\n#### A heading\n\nThen some text, and anything nested.\n\n```python\nprint(\"Hello world!\")\n```\n",
      "application/papermill.record/text/plain": "<IPython.core.display.Markdown object>"
     },
     "metadata": {
      "scrapbook": {
       "mime_prefix": "application/papermill.record/",
       "name": "block_md"
      }
     },
     "output_type": "display_data"
    }
   ],
   "source": [
    "from IPython.display import Markdown\n",
    "glue(\"inline_md\", Markdown(\n",
    "  \"inline **markdown** with a [link](glue/main), \"\n",
    "  \"and a nested glue value: {glue}`boot_mean`\"\n",
    "), display=False)\n",
    "glue(\"block_md\", Markdown(\"\"\"\n",
    "#### A heading\n",
    "\n",
    "Then some text, and anything nested.\n",
    "\n",
    "```python\n",
    "print(\"Hello world!\")\n",
    "```\n",
    "\"\"\"\n",
    "), display=False)"
   ]
  },
  {
   "cell_type": "markdown",
   "id": "154cf8ca",
   "metadata": {},
   "source": [
    "The format of the markdown can be specified as:\n",
    "\n",
    "- `commonmark` (default): Restricted to the [CommonMark specification](https://commonmark.org/).\n",
    "- `gfm`: Restricted to the [GitHub-flavored markdown](https://github.github.com/gfm/).\n",
    "  - Note, this requires the installation of the [linkify-it-py package](https://pypi.org/project/linkify-it-py)\n",
    "- `myst`: The MyST parser configuration for the the current document.\n",
    "\n",
    "For example, the following role/directive will glue inline/block MyST Markdown, as if it was part of the original document.\n",
    "\n",
    "````md\n",
    "Here is some {glue:md}`inline_md:myst`!\n",
    "\n",
    "```{glue:md} block_md\n",
    ":format: myst\n",
    "```\n",
    "````\n",
    "\n",
    "Here is some {glue:md}`inline_md:myst`!\n",
    "\n",
    "```{glue:md} block_md\n",
    ":format: myst\n",
    "```"
   ]
  },
  {
   "cell_type": "markdown",
   "id": "689d2212",
   "metadata": {},
   "source": [
    "(glue/crossdoc)=\n",
    "## Embedding outputs from other pages\n",
    "\n",
    "Certain `glue` roles and directives can be used to paste content from other notebooks,\n",
    "by specifying the (relative) path to them.\n",
    "\n",
    ":::{tip}\n",
    "Sometimes you'd like to use variables from notebooks that are not meant to be shown to users.\n",
    "In this case, you should bundle the notebook with the rest of your content pages, but include `orphan: true` in the metadata of the notebook.\n",
    ":::\n",
    "\n",
    "For example, the following example pastes glue variables from {ref}`orphaned-nb`:\n",
    "\n",
    "````markdown\n",
    "- A cross-pasted `any` role: {glue}`orphaned_nb.ipynb::var_text`\n",
    "- A cross-pasted `text` role: {glue:text}`orphaned_nb.ipynb::var_float:.2E`\n",
    "\n",
    "A cross-pasted `any` directive:\n",
    "\n",
    "```{glue} var_text\n",
    ":doc: orphaned_nb.ipynb\n",
    "```\n",
    "````\n",
    "\n",
    "- A cross-pasted `any` role: {glue}`orphaned_nb.ipynb::var_text`\n",
    "- A cross-pasted `text` role: {glue:text}`orphaned_nb.ipynb::var_float:.2E`\n",
    "\n",
    "A cross-pasted `any` directive:\n",
    "\n",
    "```{glue} var_text\n",
    ":doc: orphaned_nb.ipynb\n",
    "```"
   ]
  },
  {
   "cell_type": "markdown",
   "id": "fae4fa9d",
   "metadata": {},
   "source": [
    "## Advanced use-cases\n",
    "\n",
    "Here are a few more specific and advanced uses of the `glue` submodule.\n",
    "\n",
    "### Embedding into tables\n",
    "\n",
    "In addition to pasting blocks of outputs, or in-line with text, you can also paste directly\n",
    "into tables. This allows you to compose complex collections of structured data using outputs\n",
    "that were generated in other notebooks. For example the following table:\n",
    "\n",
    "````md\n",
    "| name                            |       plot                  | mean                      | ci                                                 |\n",
    "|:-------------------------------:|:---------------------------:|---------------------------|----------------------------------------------------|\n",
    "| histogram and raw text          | {glue}`boot_fig`           | {glue}`boot_mean`        | {glue}`boot_clo`-{glue}`boot_chi`                |\n",
    "| sorted means and formatted text | {glue}`sorted_means_fig`   | {glue:text}`boot_mean:.3f`| {glue:text}`boot_clo:.3f`-{glue:text}`boot_chi:.3f`|\n",
    "````\n",
    "\n",
    "Results in:\n",
    "\n",
    "| name                            |       plot                  | mean                      | ci                                                |\n",
    "|:-------------------------------:|:---------------------------:|---------------------------|---------------------------------------------------|\n",
    "| histogram and raw text          | {glue}`boot_fig`             | {glue}`boot_mean`          | {glue}`boot_clo`-{glue}`boot_chi`                   |\n",
    "| sorted means and formatted text | {glue}`sorted_means_fig`     | {glue:text}`boot_mean:.3f` | {glue:text}`boot_clo:.3f`-{glue:text}`boot_chi:.3f` |"
   ]
  }
 ],
 "metadata": {
  "file_format": "mystnb",
  "kernelspec": {
   "display_name": "Python 3 (ipykernel)",
   "language": "python",
   "name": "python3"
  },
  "language_info": {
   "codemirror_mode": {
    "name": "ipython",
    "version": 3
   },
   "file_extension": ".py",
   "mimetype": "text/x-python",
   "name": "python",
   "nbconvert_exporter": "python",
   "pygments_lexer": "ipython3",
   "version": "3.12.4"
  },
  "source_map": [
   5,
   21,
   33,
   37,
   52,
   67,
   72,
   82,
   89,
   91,
   95,
   110,
   114,
   118,
   126,
   136,
   181,
   194,
   222,
   267,
   287,
   303,
   310,
   338,
   354,
   379,
   414
  ],
  "widgets": {
   "application/vnd.jupyter.widget-state+json": {
    "state": {},
    "version_major": 2,
    "version_minor": 0
   }
  }
 },
 "nbformat": 4,
 "nbformat_minor": 5
}
